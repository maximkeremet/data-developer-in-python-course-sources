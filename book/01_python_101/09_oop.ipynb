{
  "cells": [
    {
      "cell_type": "markdown",
      "metadata": {
        "id": "d4DhgKR5YT8s"
      },
      "source": [
        "# Концепция объектно-ориентированного программирования (ООП) в Python"
      ]
    },
    {
      "cell_type": "markdown",
      "metadata": {
        "id": "q37tvgWFYm5n"
      },
      "source": [
        "Цели материала:\n",
        "- Разобрать абстракции в программировании.\n",
        "- Изучить синтаксис классов в Python.\n",
        "- Познакомиться с работой методов класса.\n",
        "- Познакомиться с практическим подходом к созданию экземпляров классов.\n",
        "- Изучить связи классов и объектов в Python.\n",
        "- Перейти к ООП."
      ]
    },
    {
      "cell_type": "markdown",
      "metadata": {
        "id": "6GfNnb7Ado_A"
      },
      "source": [
        "# Абстракция"
      ]
    },
    {
      "cell_type": "markdown",
      "metadata": {
        "id": "SPaMSyjWU4Td"
      },
      "source": [
        "Итак, что же такое абстракция?\n",
        "\n",
        "В программировании абстракция — представление объекта с его ключевыми характеристиками и поведением, которые необходимы для работы в определённой системе. Другими словами, это как фильтр: мы оставляем только те данные, которые нужны для нашей задачи, и отбрасываем ненужные.\n",
        "\n",
        "**Элементы абстракции**\n",
        "\n",
        "В абстракциях выделяют два основных элемента: поля и методы.\n",
        "- Поля — это свойства объекта, такие как его характеристики или состояние. Например, если речь о самолете, его поля могут включать производителя, год выпуска, модель и количество мест.\n",
        "- Методы — это действия, которые объект может выполнить или которые можно выполнить над ним. Например, у самолета может быть метод «взлететь», а у билета — «зарегистрировать».\n",
        "\n",
        "Зачем нужна абстракция? Она позволяет фокусироваться только на важных аспектах объектов, игнорируя всё остальное. Это упрощает разработку и понимание кода, делает его более модульным и гибким.\n",
        "\n",
        "Попробуй создать абстракции для информационной системы банка и службы доставки:\n",
        "- Банк: поля — данные о клиентах и счетах, методы для переводов или проверки баланса.\n",
        "- Служба доставки: поля, связанные с заказами и адресами доставки, методы для отслеживания статуса заказа и его обработки.\n",
        "\n",
        "Примечание. Помни, что абстракция должна быть логичной и понятной для дальнейшего использования в программировании. Старайся выбирать наиболее релевантные поля и методы, которые соответствуют функциональности банка и службы доставки."
      ]
    },
    {
      "cell_type": "code",
      "execution_count": null,
      "metadata": {
        "id": "SNxvbJSTkLsD"
      },
      "outputs": [],
      "source": [
        "# Банк\n",
        "# Тут твой текст\n",
        "\n",
        "# Служба доставки\n",
        "# Тут твой текст"
      ]
    },
    {
      "cell_type": "markdown",
      "metadata": {
        "id": "umbjV9iZdVPQ"
      },
      "source": [
        "# Создание объектов: введение в синтаксис\n",
        "\n"
      ]
    },
    {
      "cell_type": "markdown",
      "metadata": {
        "id": "kUXpSos5MON6"
      },
      "source": [
        "Теперь, когда разобрались с абстракциями, перейдём к практической стороне вопроса.\n",
        "\n",
        "Если абстракция — это печенька со своими полями и методами, то класс можно сравнить с формой для печеньки. Форма определяет структуру будущего объекта, а с её помощью мы можем создавать столько печенек, сколько нужно. Как их создать? Просто сделай форму и используй её.\n",
        "\n",
        "Пример:"
      ]
    },
    {
      "cell_type": "code",
      "execution_count": null,
      "metadata": {
        "id": "tduPsvWSaP5O"
      },
      "outputs": [],
      "source": [
        "class Plane: # class - ключевое слово, Plane - название класса\n",
        "    def takes_off(self): # Метод. Первый аргумент таких функций (=методов) self, это связано с тем, что экземпляров класса может быть несколько, а вот функции внутри класса должны работать с конкретной задачей\n",
        "      print('Взлетает')\n",
        "\n",
        "    def changes_direction(self):\n",
        "      print('Меняет направление')\n",
        "\n",
        "    def lands(self):\n",
        "      print('Приземляется')\n"
      ]
    },
    {
      "cell_type": "markdown",
      "metadata": {
        "id": "KRkk9vEQl92H"
      },
      "source": [
        "Обрати внимание, что класс создан с большой буквы. Это продиктовано правилами PEP8 и является стандартом стиля кода для языка Python. Такое правило установили, чтобы код был более читаемым и понятным для других разработчиков. Например, оно позволяет отличить класс от переменной.\n"
      ]
    },
    {
      "cell_type": "markdown",
      "metadata": {
        "id": "xBFm7n06MutJ"
      },
      "source": [
        "Когда класс создан, нужно создать экземпляр. Вот как это сделать:"
      ]
    },
    {
      "cell_type": "code",
      "execution_count": null,
      "metadata": {
        "id": "6HnRn53pb4Zm"
      },
      "outputs": [],
      "source": [
        "plane = Plane() # Создание экземпляра класса"
      ]
    },
    {
      "cell_type": "markdown",
      "metadata": {
        "id": "D6ayaYezM1Fi"
      },
      "source": [
        "Кстати, если выполнить эту функцию, станет видно, какого типа переменная:"
      ]
    },
    {
      "cell_type": "code",
      "execution_count": null,
      "metadata": {
        "colab": {
          "base_uri": "https://localhost:8080/"
        },
        "id": "9Zu6nU8SM4ud",
        "outputId": "4f4e65d2-72f4-486d-f1f6-2f292399c40a"
      },
      "outputs": [
        {
          "data": {
            "text/plain": [
              "__main__.Plane"
            ]
          },
          "execution_count": 4,
          "metadata": {},
          "output_type": "execute_result"
        }
      ],
      "source": [
        "type(plane)"
      ]
    },
    {
      "cell_type": "markdown",
      "metadata": {
        "id": "PU7MZCncNDl8"
      },
      "source": [
        "В данном случае, это будет `__main__.Plane`, где `__main__ `и два подчеркивания указывают на то, что мы находимся в основном модуле нашей программы, а `Plane` — это класс. И да, совокупность названия модуля и класса `__main__.Plane` является типом данных."
      ]
    },
    {
      "cell_type": "markdown",
      "metadata": {
        "id": "jOsu2JtXNJmc"
      },
      "source": [
        "Теперь у нас есть переменная plane, которая может вызывать методы класса, такие как `takes_off()`, или любые другие методы, определённые в созданном классе."
      ]
    },
    {
      "cell_type": "code",
      "execution_count": null,
      "metadata": {
        "colab": {
          "base_uri": "https://localhost:8080/"
        },
        "id": "jraEIJtKb8wU",
        "outputId": "1d33c2e6-18e3-4e5a-9fe3-47cece4d39dd"
      },
      "outputs": [
        {
          "name": "stdout",
          "output_type": "stream",
          "text": [
            "Взлетает\n"
          ]
        }
      ],
      "source": [
        "plane.takes_off()"
      ]
    },
    {
      "cell_type": "markdown",
      "metadata": {
        "id": "9Rg2gknXf8DY"
      },
      "source": [
        "После того, как экземпляр объявлен, вызовем методы, как вызываем методы у строки или словаря — просто через точку и со скобками."
      ]
    },
    {
      "cell_type": "code",
      "execution_count": null,
      "metadata": {
        "colab": {
          "base_uri": "https://localhost:8080/"
        },
        "id": "AEOGkMT7f1Gi",
        "outputId": "c063bab0-c649-4640-c561-ca05b6f7bae2"
      },
      "outputs": [
        {
          "name": "stdout",
          "output_type": "stream",
          "text": [
            "Взлетает\n",
            "Меняет направление\n",
            "Приземляется\n"
          ]
        }
      ],
      "source": [
        "class Plane:\n",
        "    def takes_off(self):\n",
        "      print('Взлетает')\n",
        "\n",
        "    def changes_direction(self):\n",
        "      print('Меняет направление')\n",
        "\n",
        "    def lands(self):\n",
        "      print('Приземляется')\n",
        "\n",
        "# Мы создали несколько переменных\n",
        "plane = Plane()\n",
        "plane_1 = Plane()\n",
        "plane_2 = Plane()\n",
        "plane_3 = Plane()\n",
        "\n",
        "# И у каждого из них будем вызывать методы и они будут работать независимо друг от друга.\n",
        "# Они работают как разных переменных\n",
        "plane.takes_off()\n",
        "plane_1.changes_direction()\n",
        "plane_2.lands()"
      ]
    },
    {
      "cell_type": "markdown",
      "metadata": {
        "id": "LWY7uAaGhPcQ"
      },
      "source": [
        "Теперь можно вызывать много методов подряд! Целый эпизод может получиться."
      ]
    },
    {
      "cell_type": "code",
      "execution_count": null,
      "metadata": {
        "colab": {
          "base_uri": "https://localhost:8080/"
        },
        "id": "xaXaAMu1hX3j",
        "outputId": "4ef035d4-b7fc-4784-edc7-c189efb7f86f"
      },
      "outputs": [
        {
          "name": "stdout",
          "output_type": "stream",
          "text": [
            "Взлетает\n",
            "Меняет направление\n",
            "Меняет направление\n",
            "Меняет направление\n",
            "Приземляется\n"
          ]
        }
      ],
      "source": [
        "class Plane:\n",
        "    def takes_off(self):\n",
        "      print('Взлетает')\n",
        "\n",
        "    def changes_direction(self):\n",
        "      print('Меняет направление')\n",
        "\n",
        "    def lands(self):\n",
        "      print('Приземляется')\n",
        "\n",
        "plane = Plane()\n",
        "\n",
        "plane.takes_off()\n",
        "plane.changes_direction()\n",
        "plane.changes_direction()\n",
        "plane.changes_direction()\n",
        "plane.lands()"
      ]
    },
    {
      "cell_type": "markdown",
      "metadata": {
        "id": "WErlVF2tiAif"
      },
      "source": [
        "Задача. Нужно создать класс Employee, у которого есть три метода:\n",
        "- introduce: — должен выводить на экран сообщение «Привет! Меня зовут {name} и я только начал изучать ООП».\n",
        "- work: — должен выводить на экран сообщение «Прилагаю усилия к тому, чтобы понять как работает ООП».\n",
        "- thanks: — должен выводить на экран сообщение «Благодарю за внимание».\n",
        "После того как класс будет создан, создай экземпляр класса и вызови по очереди все три метода."
      ]
    },
    {
      "cell_type": "code",
      "execution_count": null,
      "metadata": {
        "id": "uT3dFPsaYZmw"
      },
      "outputs": [],
      "source": [
        "# Твой код"
      ]
    },
    {
      "cell_type": "markdown",
      "metadata": {
        "id": "Yh--JHfhYV-F"
      },
      "source": [
        "## Самопроверка"
      ]
    },
    {
      "cell_type": "code",
      "execution_count": null,
      "metadata": {
        "colab": {
          "base_uri": "https://localhost:8080/"
        },
        "id": "5lqfyUmzjoEb",
        "outputId": "780f9d63-8055-4cd1-b0e3-e4b58152d46e"
      },
      "outputs": [
        {
          "name": "stdout",
          "output_type": "stream",
          "text": [
            "Введите ваше имя: Ян\n",
            "Привет! Меня зовут Ян и я только начал изучать ООП\n",
            "Прилагаю усилия над тем, чтобы понять как работает ООП\n",
            "Благодарю за внимание!\n"
          ]
        }
      ],
      "source": [
        "# Ответ\n",
        "class Employee:\n",
        "    def introduce(self):\n",
        "        name = input(\"Введите ваше имя: \")\n",
        "        print(f\"Привет! Меня зовут {name} и я только начал изучать ООП\")\n",
        "\n",
        "    def work(self):\n",
        "        print(\"Прилагаю усилия к тому, чтобы понять как работает ООП\")\n",
        "\n",
        "    def thanks(self):\n",
        "        print(\"Благодарю за внимание!\")\n",
        "\n",
        "# Создание экземпляра класса\n",
        "employee1 = Employee()\n",
        "\n",
        "# Вызов методов по очереди\n",
        "employee1.introduce()\n",
        "employee1.work()\n",
        "employee1.thanks()\n"
      ]
    },
    {
      "cell_type": "markdown",
      "metadata": {
        "id": "2mbPpxMJlDKC"
      },
      "source": [
        "# Инициализация объектов: введение в метод __init__"
      ]
    },
    {
      "cell_type": "markdown",
      "metadata": {
        "id": "FbBD0Lw1lHYO"
      },
      "source": [
        "При работе с классами в Python ты часто будешь сталкиваться с особым методом __init__. Он также известен как «конструктор». Этот метод называют дандер-методом или «магическим», потому что обычно он вызывается не напрямую программистом, а автоматически при создании нового экземпляра класса.\n",
        "\n",
        "Разберёмся на примере, как работает инициализация объектов:"
      ]
    },
    {
      "cell_type": "code",
      "execution_count": null,
      "metadata": {
        "colab": {
          "base_uri": "https://localhost:8080/"
        },
        "id": "Gwmlo1lYepss",
        "outputId": "582e52b7-c8aa-4721-fef8-aa6e5c24cfa4"
      },
      "outputs": [
        {
          "name": "stdout",
          "output_type": "stream",
          "text": [
            "Я Печенька\n"
          ]
        }
      ],
      "source": [
        "class Hero:\n",
        "    def __init__(self):\n",
        "        self.name = \"Печенька\"\n",
        "        print(\"Я\", self.name)\n",
        "\n",
        "hero = Hero()\n"
      ]
    },
    {
      "cell_type": "markdown",
      "metadata": {
        "id": "DWZlvdDIeqSl"
      },
      "source": [
        "Что тут происходит? Когда мы создаём экземпляр класса Hero, Python вызывает метод __init__ класса Hero, если такой метод существует. Нижние подчеркивания в имени указывают на то, что это дандер-метод.\n",
        "\n",
        "\n",
        "\n",
        "> Дандер-методы (англ. dunder methods;  от \"double underscore\", «двойное подчеркивание») — это термин, используемый в Python для обозначения «магических» методов, которые начинаются и заканчиваются двойным подчеркиванием.\n",
        "\n",
        "\n"
      ]
    },
    {
      "cell_type": "markdown",
      "metadata": {
        "id": "X21aOu4znkZg"
      },
      "source": [
        "Ты уже видел, что в методах класса используется аргумент self. Он представляет собой ссылку на сам экземпляр. Это как обращение к себе. Когда мы говорим «я иду гулять», мы используем слово «я» в отношении себя. В Python self означает «мне» или «себя». Таким образом, self.name означает «моё имя теперь будет...».\n",
        "\n",
        "\n",
        "Теперь улучшим класс, чтобы можно было передавать имя при создании экземпляра:"
      ]
    },
    {
      "cell_type": "code",
      "execution_count": null,
      "metadata": {
        "colab": {
          "base_uri": "https://localhost:8080/"
        },
        "id": "Q1Yr3rYCoSef",
        "outputId": "4492d094-9b55-457c-d1f9-4d70cc77a91d"
      },
      "outputs": [
        {
          "name": "stdout",
          "output_type": "stream",
          "text": [
            "Я Печений\n",
            "Я Печека\n",
            "Я Клюква\n",
            "Печений\n",
            "Печека\n",
            "Клюква\n"
          ]
        }
      ],
      "source": [
        "class Hero:\n",
        "    def __init__(self, name):\n",
        "        self.name = name\n",
        "        print(\"Я\", self.name)\n",
        "\n",
        "# Теперь создание экземпляров выглядит немного иначе. Мы передаем аргумент при вызове инициализатора\n",
        "hero_1 = Hero(\"Печений\")\n",
        "hero_2 = Hero(\"Печека\")\n",
        "hero_3 = Hero(\"Клюква\")\n",
        "\n",
        "# Далее мы можем обращаться к свойству name экземпляров так же, как делали это с self.name внутри класса\n",
        "print(hero_1.name)\n",
        "print(hero_2.name)\n",
        "print(hero_3.name)"
      ]
    },
    {
      "cell_type": "markdown",
      "metadata": {
        "id": "mue0jC3oQ7TZ"
      },
      "source": [
        "Теперь каждый раз, когда создаём экземпляр класса Hero, мы можем указать его имя, а оно будет использоваться при инициализации объекта.\n",
        "\n",
        "Посмотрим на различные варианты реализации инициализации."
      ]
    },
    {
      "cell_type": "markdown",
      "metadata": {
        "id": "8aHEiYI_qQ6s"
      },
      "source": [
        "Инициализация с несколькими свойствами:"
      ]
    },
    {
      "cell_type": "code",
      "execution_count": null,
      "metadata": {
        "colab": {
          "base_uri": "https://localhost:8080/"
        },
        "id": "g0QdJbJGqQe4",
        "outputId": "346388d6-7e01-4c5d-8ebf-4eb696b56661"
      },
      "outputs": [
        {
          "name": "stdout",
          "output_type": "stream",
          "text": [
            "Я Печенька размером 12\n"
          ]
        }
      ],
      "source": [
        "class Hero:\n",
        "    def __init__(self, name, size):\n",
        "        self.name = name\n",
        "        self.size = size\n",
        "        print(\"Я\", self.name, 'размером', self.size)\n",
        "\n",
        "hero = Hero(\"Печенька\", 12)\n"
      ]
    },
    {
      "cell_type": "markdown",
      "metadata": {
        "id": "tkFgsffXSNfJ"
      },
      "source": [
        "В этом примере мы создаём экземпляр класса Hero с двумя свойствами name и size. Мы передаём оба значения при создании экземпляра, и они используются для инициализации соответствующих свойств."
      ]
    },
    {
      "cell_type": "markdown",
      "metadata": {
        "id": "6QZwyvN5q0IG"
      },
      "source": [
        "Свойства, установленные через self, мы можем получить напрямую у объекта."
      ]
    },
    {
      "cell_type": "code",
      "execution_count": null,
      "metadata": {
        "colab": {
          "base_uri": "https://localhost:8080/"
        },
        "id": "B_DpWTL2q08d",
        "outputId": "d8463dc9-c786-469f-f594-05a45c21b76a"
      },
      "outputs": [
        {
          "name": "stdout",
          "output_type": "stream",
          "text": [
            "Я клюква размером 7\n",
            "клюква\n",
            "7\n"
          ]
        }
      ],
      "source": [
        "class Hero:\n",
        "\n",
        "  def __init__(self, name, size):\n",
        "    self.name = name\n",
        "    self.size = size\n",
        "    print(\"Я\", self.name, 'размером', self.size)\n",
        "\n",
        "hero = Hero(\"клюква\", 7)\n",
        "\n",
        "# Получаем напрямую у объекта\n",
        "print(hero.name)\n",
        "print(hero.size)"
      ]
    },
    {
      "cell_type": "markdown",
      "metadata": {
        "id": "0PnMw_tIrIKo"
      },
      "source": [
        "Изменение свойств объекта:"
      ]
    },
    {
      "cell_type": "code",
      "execution_count": null,
      "metadata": {
        "colab": {
          "base_uri": "https://localhost:8080/"
        },
        "id": "Cr5DgDZSrLwx",
        "outputId": "82215f24-78a5-4cc6-cc86-5258940c098c"
      },
      "outputs": [
        {
          "name": "stdout",
          "output_type": "stream",
          "text": [
            "Я клюква размером 7\n",
            "изюмий\n",
            "3\n"
          ]
        }
      ],
      "source": [
        "class Hero:\n",
        "\n",
        "  def __init__(self, name, size):\n",
        "    self.name = name\n",
        "    self.size = size\n",
        "    print(\"Я\", self.name, 'размером', self.size)\n",
        "\n",
        "hero = Hero(\"клюква\", 7)\n",
        "\n",
        "# Мы можем обновлять значения аргументов, как это показано ниже:\n",
        "hero.name = \"изюмий\"\n",
        "hero.size = 3\n",
        "\n",
        "\n",
        "print(hero.name)\n",
        "print(hero.size)"
      ]
    },
    {
      "cell_type": "markdown",
      "metadata": {
        "id": "t3BSBKEFSihT"
      },
      "source": [
        "Мы также можем обновлять значения свойств объекта, как в примере выше."
      ]
    },
    {
      "cell_type": "markdown",
      "metadata": {
        "id": "yDJP3Jknr4qm"
      },
      "source": [
        "Добавление методов к классу:"
      ]
    },
    {
      "cell_type": "code",
      "execution_count": null,
      "metadata": {
        "colab": {
          "base_uri": "https://localhost:8080/"
        },
        "id": "D4MalzkJr5PS",
        "outputId": "a6be8ac4-f01b-40a6-ae3e-916209ad6367"
      },
      "outputs": [
        {
          "name": "stdout",
          "output_type": "stream",
          "text": [
            "Я Печенька размером 6\n",
            "Печенька идет направо\n",
            "Печенька идет налево\n",
            "Печенька осматривается\n"
          ]
        }
      ],
      "source": [
        "class Hero:\n",
        "\n",
        "  def __init__(self, name, size):\n",
        "    self.name = name\n",
        "    self.size = size\n",
        "    print(\"Я\", self.name, 'размером', self.size)\n",
        "\n",
        "  # Добавляем дополнительные методы к классу\n",
        "  def go_right(self):\n",
        "    print(self.name, \"идет направо\")\n",
        "\n",
        "  def go_left(self):\n",
        "    print(self.name, \"идет налево\")\n",
        "\n",
        "  def observe(self):\n",
        "    print(self.name, \"осматривается\")\n",
        "\n",
        "hero = Hero(\"Печенька\", 6)\n",
        "\n",
        "hero.go_right()\n",
        "hero.go_left()\n",
        "hero.observe()"
      ]
    },
    {
      "cell_type": "markdown",
      "metadata": {
        "id": "aXK918s2StRO"
      },
      "source": [
        "Мы можем добавить к классу методы, которые позволят объекту выполнять определённые действия."
      ]
    },
    {
      "cell_type": "markdown",
      "metadata": {
        "id": "EnCGds2hs3yZ"
      },
      "source": [
        "Помимо всего прочего, мы можем указывать более сложные вещи, например:"
      ]
    },
    {
      "cell_type": "code",
      "execution_count": null,
      "metadata": {
        "colab": {
          "base_uri": "https://localhost:8080/"
        },
        "id": "84IJ03WFbbzZ",
        "outputId": "24bc1033-ced1-417b-c9b8-ec556ef4b01b"
      },
      "outputs": [
        {
          "name": "stdout",
          "output_type": "stream",
          "text": [
            "Привет, я Python Master, и у меня есть следующие навыки: ['Python', 'ООП', 'SQL']\n",
            "Python Master владеет следующими навыками:\n",
            "Python\n",
            "ООП\n",
            "SQL\n"
          ]
        }
      ],
      "source": [
        "class Hero:\n",
        "    # Создаём метод как обычно с несколькими аргументами\n",
        "    def __init__(self, name, skills):\n",
        "        self.name = name\n",
        "        self.skills = skills\n",
        "        print(f\"Привет, я {self.name}, и у меня есть следующие навыки: {self.skills}\")\n",
        "    # Создаём метод, который будет обходимть в цикле все вещи, которые есть у нас и покажет через print()\n",
        "    def showcase_skills(self):\n",
        "        print(f\"{self.name} владеет следующими навыками:\")\n",
        "        for skill in self.skills:\n",
        "            print(skill)\n",
        "\n",
        "# Создаём экземпляр класса Hero - программиста\n",
        "hero_programmer = Hero(\"Python Master\", [\"Python\", \"ООП\", \"SQL\"])\n",
        "\n",
        "# Вызываем метод showcase_skills для отображения навыков героя-программиста\n",
        "hero_programmer.showcase_skills()\n"
      ]
    },
    {
      "cell_type": "markdown",
      "metadata": {
        "id": "kQJONwHFS4XM"
      },
      "source": [
        "В примере выше видно, что можно инициализировать объекты с более сложными структурами данных, такими как списки или словари. Также можно добавлять методы, которые могут обрабатывать и использовать эти данные.\n",
        "\n",
        "\n",
        "\n",
        "\n"
      ]
    },
    {
      "cell_type": "markdown",
      "metadata": {
        "id": "SQGyusieud09"
      },
      "source": [
        "Ты изучил, как создавать пользовательские классы и экземпляры. А теперь небольшой секрет: при создании пользовательских классов и экземпляров важно осознать, что стандартные типы данных в Python, такие как int, float, str, list, bool, dict, на самом деле являются классами.\n",
        "\n",
        "Когда мы говорим о переменной типа int или объекте типа int, мы фактически имеем дело с экземпляром класса int. Например, когда используем функцию преобразования типов, такую как int(\"11\"), мы вызываем инициализатор класса int, в который передается аргумент \"11\". Этот инициализатор инициализирует новый объект int, присваивая ему значение, переданное в аргументе. Когда выполняем операции с этим объектом, мы создаём новый объект, инициализируя новый экземпляр класса.\n",
        "\n"
      ]
    },
    {
      "cell_type": "markdown",
      "metadata": {
        "id": "n8QilYJdwiEI"
      },
      "source": [
        "# Экземпляры классов: работа с объектами"
      ]
    },
    {
      "cell_type": "markdown",
      "metadata": {
        "id": "_R6ahE4Lwk_6"
      },
      "source": [
        "Ты разобрался, как создавать экземпляры классов. Теперь посмотрим, как с ними работать в различных сценариях.\n",
        "\n",
        "Экземпляры классов, или объекты, могут использоваться так же, как и любые другие данные в Python. Их можно создавать, изменять, присваивать переменным, хранить в списках или словарях и манипулировать ими в циклах.\n",
        "\n",
        "Инсайт. Важно понимать жизненный цикл экземпляра: создался — использовался — изменился.\n",
        "\n",
        "Давай попробуем!"
      ]
    },
    {
      "cell_type": "code",
      "execution_count": null,
      "metadata": {
        "colab": {
          "base_uri": "https://localhost:8080/"
        },
        "id": "z7zEjtmq2Ew2",
        "outputId": "0561caf0-210e-49eb-aa63-01dd3d03fd04"
      },
      "outputs": [
        {
          "name": "stdout",
          "output_type": "stream",
          "text": [
            "Билет на рейс SP-101 в классе econom\n"
          ]
        }
      ],
      "source": [
        "class Ticket:\n",
        "    def __init__(self, flight, class_):\n",
        "        # Нельзя использовать переменную class, потому что эта переменна зарезервирована создателями Python\n",
        "        self.flight = flight\n",
        "        self.class_ = class_\n",
        "\n",
        "    def print_info(self):\n",
        "        # А вот print() -- можно, ведь методы не конфликтуют с функциями!\n",
        "        # За счёт того, что методы привязаны к конкретному классу, например, Ticket\n",
        "        print(f\"Билет на рейс {self.flight} в классе {self.class_}\")\n",
        "\n",
        "ticket_1 = Ticket(\"SP-101\", \"econom\")\n",
        "ticket_1.print_info()\n"
      ]
    },
    {
      "cell_type": "markdown",
      "metadata": {
        "id": "t3TWZAKPUeEv"
      },
      "source": [
        "Мы можем создать экземпляр класса Ticket и вызвать его метод print_info(), который выведет информацию о билете.\n",
        "\n"
      ]
    },
    {
      "cell_type": "code",
      "execution_count": null,
      "metadata": {
        "colab": {
          "base_uri": "https://localhost:8080/"
        },
        "id": "Itw4XxiNUn62",
        "outputId": "2153720f-cad7-4a0f-bcd1-5128d6a5bebc"
      },
      "outputs": [
        {
          "name": "stdout",
          "output_type": "stream",
          "text": [
            "Билет на рейс SP-101 в классе economy\n",
            "Билет на рейс SP-101 в классе business\n"
          ]
        }
      ],
      "source": [
        "class Ticket:\n",
        "    def __init__(self, flight, class_):\n",
        "        # Нельзя использовать переменную class, потому что эта переменна зарезервирована создателями Python\n",
        "        self.flight = flight\n",
        "        self.class_ = class_\n",
        "\n",
        "    def print_info(self):\n",
        "        # А вот print() -- можно, ведь методы не конфликтуют с функциями!\n",
        "        # За счет того, что методы привязаны к конкретному классу, например, Ticket\n",
        "        print(f\"Билет на рейс {self.flight} в классе {self.class_}\")\n",
        "\n",
        "ticket_1 = Ticket(\"SP-101\", \"economy\")\n",
        "ticket_1.print_info()\n",
        "\n",
        "ticket_1.class_ = 'business'\n",
        "ticket_1.print_info()\n"
      ]
    },
    {
      "cell_type": "markdown",
      "metadata": {
        "id": "z8sWCCMzVedO"
      },
      "source": [
        "Обрати внимание: рейс остался тем же, но класс билета изменился.\n",
        "\n",
        "Работая с экземплярами, можно взаимодействовать с другими типами данных. Например, мы можем создать несколько билетов и добавить их в список:"
      ]
    },
    {
      "cell_type": "code",
      "execution_count": null,
      "metadata": {
        "colab": {
          "base_uri": "https://localhost:8080/"
        },
        "id": "a53HFpz2UyM5",
        "outputId": "70224df9-2e09-42e7-c557-84ec0906a1b2"
      },
      "outputs": [
        {
          "name": "stdout",
          "output_type": "stream",
          "text": [
            "Билет на рейс SP-101 в классе econom\n",
            "Билет на рейс SP-102 в классе econom\n"
          ]
        }
      ],
      "source": [
        "class Ticket:\n",
        "    def __init__(self, flight, class_):\n",
        "        # Нельзя использовать переменную class, потому что эта переменна зарезервирована создателями Python\n",
        "        self.flight = flight\n",
        "        self.class_ = class_\n",
        "\n",
        "    def print_info(self):\n",
        "        # А вот print() -- можно, ведь методы не конфликтуют с функциями!\n",
        "        # За счет того, что методы привязаны к конкретному классу, например, Ticket\n",
        "        print(f\"Билет на рейс {self.flight} в классе {self.class_}\")\n",
        "\n",
        "ticket_1 = Ticket(\"SP-101\", \"econom\")\n",
        "ticket_2 = Ticket(\"SP-102\", \"econom\")\n",
        "tickets = [ticket_1, ticket_2]\n",
        "\n",
        "for ticket in tickets:\n",
        "    ticket.print_info()\n"
      ]
    },
    {
      "cell_type": "markdown",
      "metadata": {
        "id": "tUM1WHzUU2yE"
      },
      "source": [
        "Использовать экземпляры можно и в качестве значений в словарях:"
      ]
    },
    {
      "cell_type": "code",
      "execution_count": null,
      "metadata": {
        "colab": {
          "base_uri": "https://localhost:8080/"
        },
        "id": "4-GHM3fvU4yv",
        "outputId": "7ff5c37f-061b-486a-d843-824272b9b04b"
      },
      "outputs": [
        {
          "name": "stdout",
          "output_type": "stream",
          "text": [
            "Билет на рейс SP-101 в классе economy\n",
            "Билет на рейс SP-102 в классе economy\n"
          ]
        }
      ],
      "source": [
        "class Ticket:\n",
        "    def __init__(self, flight, class_):\n",
        "        # Нельзя использовать переменную class, потому что эта переменна зарезервирована создателями Python\n",
        "        self.flight = flight\n",
        "        self.class_ = class_\n",
        "\n",
        "    def print_info(self):\n",
        "        # А вот print() -- можно, ведь методы не конфликтуют с функциями!\n",
        "        # За счет того, что методы привязаны к конкретному классу, например, Ticket\n",
        "        print(f\"Билет на рейс {self.flight} в классе {self.class_}\")\n",
        "\n",
        "ticket_1 = Ticket(\"SP-101\", \"economy\")\n",
        "ticket_2 = Ticket(\"SP-102\", \"economy\")\n",
        "tickets = {\"Туда\": ticket_1, \"Обратно\": ticket_2}\n",
        "\n",
        "tickets[\"Туда\"].print_info()\n",
        "tickets[\"Обратно\"].print_info()\n"
      ]
    },
    {
      "cell_type": "markdown",
      "metadata": {
        "id": "jzaXtIFZVG_7"
      },
      "source": [
        "Кроме того, объекты классов можно передать в функции или методы других классов для выполнения различных операций или получения информации. Например, можно создать метод в другом классе для обработки билетов:"
      ]
    },
    {
      "cell_type": "code",
      "execution_count": null,
      "metadata": {
        "colab": {
          "base_uri": "https://localhost:8080/"
        },
        "id": "PeuegRumVKog",
        "outputId": "f494b731-9025-40fe-e8d3-1d06f53968ce"
      },
      "outputs": [
        {
          "name": "stdout",
          "output_type": "stream",
          "text": [
            "Билет на рейс SP-101 обработан: economy\n"
          ]
        }
      ],
      "source": [
        "class Flight:\n",
        "    def __init__(self, number):\n",
        "        self.number = number\n",
        "\n",
        "    def process_ticket(self, ticket):\n",
        "        print(f\"Билет на рейс {self.number} обработан: {ticket.class_}\")\n",
        "\n",
        "flight = Flight(\"SP-101\")\n",
        "flight.process_ticket(ticket_1)\n"
      ]
    },
    {
      "cell_type": "markdown",
      "metadata": {
        "id": "bYsLdHMgVNpq"
      },
      "source": [
        "Это демонстрирует, как объекты одного класса могут взаимодействовать с объектами других классов для выполнения сложных задач.\n",
        "\n",
        "Таким образом, экземпляры классов предоставляют гибкую и мощную среду для работы с данными и выполнения операций в вашей программе. Они могут использоваться для моделирования объектов и процессов из реального мира, что делает код более читаемым, понятным и масштабируемым."
      ]
    },
    {
      "cell_type": "markdown",
      "metadata": {
        "id": "4U3-brxs6A-l"
      },
      "source": [
        "# Объектно-ориентированный подход"
      ]
    },
    {
      "cell_type": "markdown",
      "metadata": {
        "id": "sz4Xlf236E-T"
      },
      "source": [
        "До этого мы использовали абстракции, классы и экземпляры, а теперь настало время познакомиться с объектно-ориентированным программированием (ООП).\n",
        "\n",
        "ООП — это подход (он ещё называется парадигмой или стилем) в программировании, при котором мы представляем всё как классы и объекты. Мы стараемся минимизировать использование примитивных типов данных, таких как строки, числа или списки, и максимально работать с экземплярами классов, которые создаём сами.\n",
        "\n",
        "> Например, класс «Автомобиль» может описывать характеристики автомобиля, такие как цвет, марка, скорость. Затем мы можем создавать «объекты» этого класса, например, конкретный автомобиль Toyota Corolla с определённым цветом и скоростью. Как итог, программист получает более организованный код благодаря использованию классов и объектов. К тому же такой код легко подерживать и самому программисту, и его коллегами.  \n",
        "\n",
        "Если раньше мы писали просто переменные и функции, которые работали самостоятельно в ходе программы, то теперь создаём более крупные сущности, основанные на классах, из которых затем создаются экземпляры.\n",
        "\n",
        "До ООП у нас были какие-то переменные и функции:"
      ]
    },
    {
      "cell_type": "code",
      "execution_count": null,
      "metadata": {
        "id": "XcYjkcpeX6De"
      },
      "outputs": [],
      "source": [
        "# Какие-то переменные\n",
        "student_name = ...\n",
        "student_surname = ...\n",
        "student_course = ...\n",
        "\n",
        "# и функция, которая что-то делает, но мы не знали относиться фукнкция к студенту или нет.\n",
        "def get_grade():\n",
        "    ..."
      ]
    },
    {
      "cell_type": "markdown",
      "metadata": {
        "id": "sJA8O03IX-pv"
      },
      "source": [
        "После ООП у нас появляются объекты, которые хранят собственные свойства и методы:"
      ]
    },
    {
      "cell_type": "code",
      "execution_count": null,
      "metadata": {
        "id": "9NjDh8CsX_cp"
      },
      "outputs": [],
      "source": [
        "student = Student()\n",
        "student.name\n",
        "student.surname\n",
        "student.course\n",
        "student.get_grade()\n"
      ]
    },
    {
      "cell_type": "markdown",
      "metadata": {
        "id": "wNxK38zqYGsa"
      },
      "source": [
        "Перепишем код с использованием ООП. В профессиональной среде сказали бы «отрефакторим» (от англ. refactoring, «изменение кода без изменения его функциональности»)."
      ]
    },
    {
      "cell_type": "code",
      "execution_count": null,
      "metadata": {
        "colab": {
          "base_uri": "https://localhost:8080/"
        },
        "id": "dHmCts_e-JIZ",
        "outputId": "d6478cdc-5119-4ea2-c083-c3261c3eb5bd"
      },
      "outputs": [
        {
          "name": "stdout",
          "output_type": "stream",
          "text": [
            "Вы можете это приобрести\n",
            "Извините, на вашем счету недостаточно средств\n"
          ]
        }
      ],
      "source": [
        "# Код БЕЗ ООП\n",
        "def can_afford(budget, item_price):\n",
        "    if item_price <= budget:\n",
        "        print(\"Вы можете это приобрести\")\n",
        "    else:\n",
        "        print(\"Извините, на вашем счету недостаточно средств\")\n",
        "\n",
        "# Указываем начальный бюджет\n",
        "budget = 100\n",
        "\n",
        "# Проверка, можем ли мы позволить себе купить товары с разными ценами\n",
        "can_afford(budget, 50)  # Покупка товара за 50 единиц\n",
        "can_afford(budget, 150)  # Покупка товара за 150 единиц\n"
      ]
    },
    {
      "cell_type": "code",
      "execution_count": null,
      "metadata": {
        "colab": {
          "base_uri": "https://localhost:8080/"
        },
        "id": "lFQXdncE9UDa",
        "outputId": "fed90ad4-1118-48f0-8626-ee15f17bb070"
      },
      "outputs": [
        {
          "name": "stdout",
          "output_type": "stream",
          "text": [
            "Вы можете это приобрести\n"
          ]
        }
      ],
      "source": [
        "# Код с применением ООП\n",
        "class BudgetChecker:\n",
        "    def __init__(self, budget):\n",
        "        self.budget = budget\n",
        "\n",
        "    def can_afford(self, item_price):\n",
        "        if item_price <= self.budget:\n",
        "            print(\"Вы можете это приобрести\")\n",
        "        else:\n",
        "            print(\"Извините, на вашем счету недостаточно средств\")\n",
        "\n",
        "# Создание экземпляра класса с указанием бюджета\n",
        "budget_checker = BudgetChecker(100)\n",
        "\n",
        "# Проверка, можем ли мы позволить себе купить товары с разными ценами\n",
        "budget_checker.can_afford(50)  # Покупка товара за 50 единиц\n"
      ]
    },
    {
      "cell_type": "markdown",
      "metadata": {
        "id": "Tzc4Y0z5vETU"
      },
      "source": [
        "Потренируемся на другом примере."
      ]
    },
    {
      "cell_type": "code",
      "execution_count": null,
      "metadata": {
        "colab": {
          "base_uri": "https://localhost:8080/"
        },
        "id": "NEoQ7qvi_3yJ",
        "outputId": "4612f6ca-dbba-47ed-c1b6-1dea7a92828c"
      },
      "outputs": [
        {
          "name": "stdout",
          "output_type": "stream",
          "text": [
            "Введите ответ1\n",
            "Ответ неверный\n",
            "Верный: is\n"
          ]
        }
      ],
      "source": [
        "question_1 = \"My name ___ Vova\"\n",
        "correct_1 = \"is\"\n",
        "\n",
        "\n",
        "answer = input(\"Введите ответ\")\n",
        "\n",
        "if answer == correct_1:\n",
        "  print(\"Ответ верный\")\n",
        "else:\n",
        "  print(\"Ответ неверный\")\n",
        "  print(\"Верный:\", correct_1)"
      ]
    },
    {
      "cell_type": "markdown",
      "metadata": {
        "id": "zAtGLuexC8xa"
      },
      "source": [
        "Перепишим код так, чтобы логика проверки скрывалась в объекте, а код программы был простым. Например таким:\n",
        "\n",
        "```\n",
        "question_1 = Question(\"My name __ Vova\", \"is\")\n",
        "question_1.check(\"is\")\n",
        "# question_1.check(\"are\")\n",
        "```\n",
        "\n",
        "Выбираем название для класса Question, а название для полей question, answer."
      ]
    },
    {
      "cell_type": "code",
      "execution_count": null,
      "metadata": {
        "id": "90ARnbwNWxne"
      },
      "outputs": [],
      "source": [
        "# Ваш код"
      ]
    },
    {
      "cell_type": "markdown",
      "metadata": {
        "id": "aGwscZf9W0Pn"
      },
      "source": [
        "## Самопроверка"
      ]
    },
    {
      "cell_type": "code",
      "execution_count": null,
      "metadata": {
        "colab": {
          "base_uri": "https://localhost:8080/"
        },
        "id": "Bjpn2Iw3An8W",
        "outputId": "e9bf398d-ce28-40af-d18f-15907f8b3299"
      },
      "outputs": [
        {
          "name": "stdout",
          "output_type": "stream",
          "text": [
            "False\n",
            "True\n"
          ]
        }
      ],
      "source": [
        "class Question:\n",
        "  def __init__ (self, question, answer):\n",
        "    self.question = question\n",
        "    self.answer = answer\n",
        "\n",
        "  def check(self, answer):\n",
        "    return answer == self.answer\n",
        "\n",
        "question_1 = Question(\"Текст вопроса?\", \"правильный ответ\")\n",
        "print(question_1.check(\"test\"))\n",
        "print(question_1.check(\"правильный ответ\"))"
      ]
    },
    {
      "cell_type": "markdown",
      "metadata": {
        "id": "9p1HsDlvnaif"
      },
      "source": [
        "Объектно-ориентированный подход позволяет создавать более структурированный и легко читаемый код, разделять его на логически связанные части и повышать его масштабируемость и гибкость."
      ]
    },
    {
      "cell_type": "markdown",
      "metadata": {
        "id": "FAZFNRZBEvTI"
      },
      "source": [
        "# Заключение"
      ]
    },
    {
      "cell_type": "markdown",
      "metadata": {
        "id": "im5B_Z4eEzdx"
      },
      "source": [
        "Теперь ты придёшь на лекцию с базой знаний о том:\n",
        "  - что такое абстракции и как выделять сущности из реального мира и абстрагировать их для использования в программировании;\n",
        "  - что такое классы, свойства и методы;\n",
        "  - как рефакторить код в стиле ООП — как преобразить старый код, написанный в процедурном стиле, в объектно-ориентированный код.\n",
        "  \n",
        "Важно осознать, что изучение ООП дает нам инструменты для создания программ, которые не только работают, но и легко модифицируются и масштабируются с ростом требований."
      ]
    }
  ],
  "metadata": {
    "colab": {
      "collapsed_sections": [
        "Yh--JHfhYV-F"
      ],
      "provenance": [],
      "toc_visible": true
    },
    "kernelspec": {
      "display_name": "Python 3",
      "name": "python3"
    },
    "language_info": {
      "name": "python"
    }
  },
  "nbformat": 4,
  "nbformat_minor": 0
}
