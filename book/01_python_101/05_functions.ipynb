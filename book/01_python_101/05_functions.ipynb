{
  "cells": [
    {
      "cell_type": "markdown",
      "metadata": {
        "id": "fngxyuewZ3Ab"
      },
      "source": [
        "# Функции в Python"
      ]
    },
    {
      "cell_type": "markdown",
      "metadata": {
        "id": "4rqPNg0sZ9o-"
      },
      "source": [
        "В этом уроке ты узнаешь:\n",
        "- что такое функции в Python;\n",
        "- чем встроенные функции отличаются от собственных;\n",
        "- как вызвать функции и работать с ними;\n",
        "- какие дополнительные возможности бывают у функции.\n"
      ]
    },
    {
      "cell_type": "markdown",
      "metadata": {
        "id": "5IiCs53XsKD6"
      },
      "source": [
        "# Функции в Python: введение и основы"
      ]
    },
    {
      "cell_type": "markdown",
      "metadata": {
        "id": "dHYGXVr_wNfj"
      },
      "source": [
        "Функции — это ключевой инструмент, который помогает структурировать код, делая его более читаемым и поддерживаемым. Понимать, как они работают, важно, чтобы использовать максимум возможностей Python. Перед тем, как погрузимся в детали, давай разберёмся, что такое функция в контексте математики и программирования."
      ]
    },
    {
      "cell_type": "markdown",
      "metadata": {
        "id": "BpeTA2-e33ne"
      },
      "source": [
        "Функция в математике — это способ отображения значений из одного множества в другое. Проще говоря, функция принимает одно значение в качестве аргумента и возвращает другое значение, например:\n",
        "```\n",
        "f(x) = x^2\n",
        "```\n",
        "Тут функция, которая принимает значение x и возвращает квадрат этого значения.\n"
      ]
    },
    {
      "cell_type": "markdown",
      "metadata": {
        "id": "nXOnbYK94KEl"
      },
      "source": [
        "В Python функция — это блок кода, который можно вызвать по его имени. Каждый такой изолированный блок кода выполняет определённую задачу.\n",
        "\n",
        "Например:"
      ]
    },
    {
      "cell_type": "code",
      "execution_count": null,
      "metadata": {
        "colab": {
          "base_uri": "https://localhost:8080/"
        },
        "id": "1XqW6BUF4LAd",
        "outputId": "b0a6bfc4-153c-414a-899d-4dc23fa9a001"
      },
      "outputs": [
        {
          "data": {
            "text/plain": [
              "100"
            ]
          },
          "execution_count": 2,
          "metadata": {},
          "output_type": "execute_result"
        }
      ],
      "source": [
        "def square(x):\n",
        "    return x ** 2\n",
        "\n",
        "square(10)"
      ]
    },
    {
      "cell_type": "markdown",
      "metadata": {
        "id": "o5lo8LIW2AM4"
      },
      "source": [
        "А тут функция на Python, которая принимает аргумент x и возвращает его квадрат."
      ]
    },
    {
      "cell_type": "markdown",
      "metadata": {
        "id": "zVjDHtgh5w8E"
      },
      "source": [
        "Отлично! Теперь переходим к интересному, а именно к синтаксису функций в Python. Создаётся функция следующим образом:\n",
        "\n",
        "\n",
        "\n",
        "```\n",
        "def <имя функции>(<аргументы функции>):\n",
        "    <тело функции>\n",
        "```"
      ]
    },
    {
      "cell_type": "markdown",
      "metadata": {
        "id": "If2KrD9L7lvB"
      },
      "source": [
        "Имя функции должно соответствовать тем же правилам, что имена переменных:\n",
        "\n",
        "- имя функции может содержать строчные буквы английского алфавита, цифры и знаки подчёркивания;\n",
        "- аргументы функции являются её параметрами, которые становятся переменными внутри тела функции;\n",
        "- в теле функции содержится код, который оперирует аргументами и другими переменными, а затем возвращает результат с помощью оператора `return`.\n",
        "\n",
        "После возврата значения функция завершает свою работу, а интерпретатор продолжает выполнение программы, используя возвращённое значение."
      ]
    },
    {
      "cell_type": "markdown",
      "metadata": {
        "id": "0rEZJAub4Q-1"
      },
      "source": [
        "Хорошо, разобрались, а зачем вообще использовать функциии? Рассмотрим их преимущества на примере Светы.\n",
        "\n",
        "Она управляет интернет-магазином, в который каждый день поступает большое количество заказов. Чтобы обработать эти заказы эффективно, Света создаёт функции, выполняющие определённые задачи.\n",
        "\n",
        "Например, есть функция «обработка заказа», которая принимает информацию о заказе (такую как товары, адрес доставки, контактные данные клиента) в качестве аргументов. Внутри функции происходит обработка этой информации: Света проверяет наличие товаров на складе, расчитывает стоимость доставки, формирует уведомление для клиента). Затем функция возвращает подготовленный заказ для отправки.\n",
        "\n",
        "А теперь посмотрим на два варианта развития событий. Код без функции:"
      ]
    },
    {
      "cell_type": "code",
      "execution_count": null,
      "metadata": {
        "colab": {
          "base_uri": "https://localhost:8080/"
        },
        "id": "4fr6gi1q2cP7",
        "outputId": "a188987a-9062-4f23-9251-5be5c186309f"
      },
      "outputs": [
        {
          "name": "stdout",
          "output_type": "stream",
          "text": [
            "Обрабатываем заказ: Laptop, общая стоимость: 1050\n",
            "Обрабатываем заказ: Smartphone, общая стоимость: 850\n"
          ]
        }
      ],
      "source": [
        "# Заказы\n",
        "order_1 = {\"product\": \"Laptop\", \"price\": 1000}\n",
        "order_2 = {\"product\": \"Smartphone\", \"price\": 800}\n",
        "\n",
        "# Обработка заказа 1\n",
        "available_products = [\"Laptop\", \"Smartphone\"]\n",
        "if order_1[\"product\"] in available_products:\n",
        "    total_price = order_1[\"price\"] + 50  # Стоимость доставки\n",
        "    print(f\"Обрабатываем заказ: {order_1['product']}, общая стоимость: {total_price}\")\n",
        "else:\n",
        "    print(\"Товар не доступен\")\n",
        "\n",
        "# Обработка заказа 2\n",
        "available_products = [\"Laptop\", \"Smartphone\"]\n",
        "if order_1[\"product\"] in available_products:\n",
        "    total_price = order_2[\"price\"] + 50  # Стоимость доставки\n",
        "    print(f\"Обрабатываем заказ: {order_2['product']}, общая стоимость: {total_price}\")\n",
        "else:\n",
        "    print(\"Товар не доступен\")\n",
        "\n",
        "# Обработка заказа n\n",
        "# ..."
      ]
    },
    {
      "cell_type": "markdown",
      "metadata": {
        "id": "nZW70d_L_o22"
      },
      "source": [
        "А теперь вариант с функцией:"
      ]
    },
    {
      "cell_type": "code",
      "execution_count": null,
      "metadata": {
        "colab": {
          "base_uri": "https://localhost:8080/"
        },
        "id": "_gACNrCi_zEW",
        "outputId": "e67d4561-56c4-4817-b08b-748671dbc936"
      },
      "outputs": [
        {
          "name": "stdout",
          "output_type": "stream",
          "text": [
            "Обрабатываем заказ: Laptop, общая стоимость: 1050\n",
            "Обрабатываем заказ: Smartphone, общая стоимость: 850\n"
          ]
        }
      ],
      "source": [
        "# Функция для обработки заказа\n",
        "def process_order(order, available_products):\n",
        "    if order[\"product\"] in available_products:\n",
        "        total_price = order[\"price\"] + 50  # Стоимость доставки\n",
        "        print(f\"Обрабатываем заказ: {order['product']}, общая стоимость: {total_price}\")\n",
        "    else:\n",
        "        print(\"Товар не доступен\")\n",
        "\n",
        "# Заказы\n",
        "order_1 = {\"product\": \"Laptop\", \"price\": 1000}\n",
        "order_2 = {\"product\": \"Smartphone\", \"price\": 800}\n",
        "\n",
        "# Список доступных товаров\n",
        "available_products = [\"Laptop\", \"Smartphone\"]\n",
        "\n",
        "# Обработка заказов с использованием функции\n",
        "process_order(order_1, available_products)\n",
        "process_order(order_2, available_products)\n"
      ]
    },
    {
      "cell_type": "markdown",
      "metadata": {
        "id": "W_-RlD_J3roa"
      },
      "source": [
        "С функцией мы избавляемся от дублирования, скрываем под ней большие блоки кода, тем самым делая его компактным. Без визуального шума код легко читать и Свете, и её коллегам."
      ]
    },
    {
      "cell_type": "markdown",
      "metadata": {
        "id": "pJ-AgJriDQn-"
      },
      "source": [
        "Хорошо, разобрались с тем, что такое функция. Следующий шаг — в глубину. Рассмотрим такие большие темы как встроенные функции и собственные функции. Начнём со встроенных."
      ]
    },
    {
      "cell_type": "markdown",
      "metadata": {
        "id": "xSonXxXAweFm"
      },
      "source": [
        "### Встроенные функции"
      ]
    },
    {
      "cell_type": "markdown",
      "metadata": {
        "id": "6MNjhpicNF2X"
      },
      "source": [
        "Встроенные функции в Python предоставляют широкий спектр инструментов для выполнения различных задач, в том числе для работы с числами, строками, списками и другими структурами данных. Разберём на примерах."
      ]
    },
    {
      "cell_type": "code",
      "execution_count": null,
      "metadata": {
        "colab": {
          "base_uri": "https://localhost:8080/"
        },
        "id": "uKo9-QkwGqGj",
        "outputId": "2592618f-6e6e-4e5a-bba8-900fe47690b6"
      },
      "outputs": [
        {
          "name": "stdout",
          "output_type": "stream",
          "text": [
            "Абсолютное значение числа: 10\n"
          ]
        }
      ],
      "source": [
        "# Функция abs() возвращает абсолютное значение числа\n",
        "num = -10\n",
        "absolute_value = abs(num)\n",
        "print(\"Абсолютное значение числа:\", absolute_value)\n"
      ]
    },
    {
      "cell_type": "code",
      "execution_count": null,
      "metadata": {
        "colab": {
          "base_uri": "https://localhost:8080/"
        },
        "id": "CVsTS46_Gzj8",
        "outputId": "8cf091b8-c3a7-4689-92fa-5a9f6f605768"
      },
      "outputs": [
        {
          "name": "stdout",
          "output_type": "stream",
          "text": [
            "Округленное число: 3.14\n"
          ]
        }
      ],
      "source": [
        "# Функция round() используется для округления числа до определенного количества знаков после запятой\n",
        "num = 3.14159\n",
        "rounded_num = round(num, 2)  # Округление до двух знаков после запятой\n",
        "print(\"Округленное число:\", rounded_num)\n"
      ]
    },
    {
      "cell_type": "code",
      "execution_count": null,
      "metadata": {
        "colab": {
          "base_uri": "https://localhost:8080/"
        },
        "id": "plS2E5nlG8Ds",
        "outputId": "9421516b-eae0-4b77-dd29-f2392f2bc7a6"
      },
      "outputs": [
        {
          "name": "stdout",
          "output_type": "stream",
          "text": [
            "Отсортированный список: [1, 2, 3, 5, 8]\n"
          ]
        }
      ],
      "source": [
        "# Функция sorted() используется для сортировки элементов в списке по возрастанию или убыванию\n",
        "numbers = [5, 2, 8, 1, 3]\n",
        "sorted_numbers = sorted(numbers)  # Сортировка по возрастанию\n",
        "print(\"Отсортированный список:\", sorted_numbers)\n"
      ]
    },
    {
      "cell_type": "markdown",
      "metadata": {
        "id": "TOnAtcxcGef4"
      },
      "source": [
        "Теперь, когда мы ознакомились с некоторыми встроенными функциями, рассмотрим функцию `pow()`, которая используется для возведения числа в степень. Это упростит понимания дальнейшего материала.\n",
        "\n",
        "Синтаксис функции: `pow(x, y, z)`\n",
        "1. x — число, основание;\n",
        "2. y — число, показатель степени;\n",
        "3. z (необязательно) — число, используемое для модуля.\n"
      ]
    },
    {
      "cell_type": "code",
      "execution_count": null,
      "metadata": {
        "colab": {
          "base_uri": "https://localhost:8080/"
        },
        "id": "pIoSsoMrN7mH",
        "outputId": "28dca803-fed2-4f86-8d64-62497903b8a8"
      },
      "outputs": [
        {
          "name": "stdout",
          "output_type": "stream",
          "text": [
            "8\n"
          ]
        }
      ],
      "source": [
        "result = pow(2, 3)\n",
        "print(result)"
      ]
    },
    {
      "cell_type": "markdown",
      "metadata": {
        "id": "yzc7DVaaOopj"
      },
      "source": [
        "В примере выше мы передаём число 2 в качестве основания и число 3 в качестве показателя степени."
      ]
    },
    {
      "cell_type": "markdown",
      "metadata": {
        "id": "lUot46-xPFEw"
      },
      "source": [
        "### Параметры и аргументы функции"
      ]
    },
    {
      "cell_type": "markdown",
      "metadata": {
        "id": "nvOMMEgQPRER"
      },
      "source": [
        "- Параметры функции — это переменные, которые ожидают получить значения при вызове функции.\n",
        "\n",
        "- Аргументы функции — это конкретные значения, которые передаются в параметры функции при её вызове.\n",
        "\n",
        "Рассмотрим на примере функции `pow()`.\n",
        "Её синтаксис: `pow(x, y, z)`. В данном случае x, y, z — это параметры. Аргументами является значения. Например, если `pow(2, 3, 1)`, то 2, 3 и 1 — аргументы функции."
      ]
    },
    {
      "cell_type": "markdown",
      "metadata": {
        "id": "TZ3hDeXlbCdW"
      },
      "source": [
        "Есть два вида аргументов: позиционные и именнованные. Позиционные аргументы передаются в том порядке, в котором они ожидаются функцией, например:"
      ]
    },
    {
      "cell_type": "code",
      "execution_count": null,
      "metadata": {
        "id": "mQbJMalJbiKh"
      },
      "outputs": [],
      "source": [
        "result = pow(2, 10)"
      ]
    },
    {
      "cell_type": "markdown",
      "metadata": {
        "id": "hWqghccYbvhA"
      },
      "source": [
        "\n",
        "Итак, здесь:\n",
        "- аргумент 2 — основание степени;\n",
        "- аргумент 10 — показатель степени.\n",
        "\n",
        "Эти значения передаются функции `pow()` в порядке, в котором они ожидаются, то есть в том порядке, который заложил программист при создании этой функции: первым идет основание, затем показатель степени. Таким образом, при вызове `pow(2, 10)` число 2 возводится в степень 10, результатом будет 1024."
      ]
    },
    {
      "cell_type": "markdown",
      "metadata": {
        "id": "3BYVFH93P__k"
      },
      "source": [
        "А теперь про именованные аргументы:\n"
      ]
    },
    {
      "cell_type": "code",
      "execution_count": null,
      "metadata": {
        "colab": {
          "base_uri": "https://localhost:8080/"
        },
        "id": "VfBJSAY0R7ZN",
        "outputId": "d5a577a9-d345-4069-c3e5-c1310ee2109a"
      },
      "outputs": [
        {
          "name": "stdout",
          "output_type": "stream",
          "text": [
            "1024\n"
          ]
        }
      ],
      "source": [
        "result = pow(base=2, exp=10)\n",
        "print(result)\n",
        "# base=2 - мы придали аргументу 2 имя base, аналогично со вторым аргументом"
      ]
    },
    {
      "cell_type": "markdown",
      "metadata": {
        "id": "VV7C8YOLTMlK"
      },
      "source": [
        "У каждой функции есть свои значения по умолчанию, например, у функции `pow()` по умолчанию два аргумента (основание степени и показатель степени) и третий аргумент необязательный. Такие аргументы ещё называют позиционными, позиция первого аргумента основание степени, значение 2 и так далее:\n",
        "\n"
      ]
    },
    {
      "cell_type": "code",
      "execution_count": null,
      "metadata": {
        "colab": {
          "base_uri": "https://localhost:8080/"
        },
        "id": "UWltUSiOTfiM",
        "outputId": "06a9588c-50b0-4f3f-88bf-a6e36eb8b65b"
      },
      "outputs": [
        {
          "name": "stdout",
          "output_type": "stream",
          "text": [
            "2\n"
          ]
        }
      ],
      "source": [
        "result = pow(2, 1)\n",
        "print(result)"
      ]
    },
    {
      "cell_type": "markdown",
      "metadata": {
        "id": "kfBzXAk0WIRC"
      },
      "source": [
        "Важно отметить, что функция может принимать разное количество параметров: один, два, несколько или вообще не принимать их. Например, функция `print()`, если мы не укажем параметр, выдаёт пустую строку.\n",
        "\n",
        "\n"
      ]
    },
    {
      "cell_type": "code",
      "execution_count": null,
      "metadata": {
        "id": "hH5ZFGEhWQtA"
      },
      "outputs": [],
      "source": [
        "print('Строка №1')\n",
        "print()\n",
        "print('Строка №3')"
      ]
    },
    {
      "cell_type": "markdown",
      "metadata": {
        "id": "k5w1pSGnWU1c"
      },
      "source": [
        "Если у тебя возникают вопросы о параметрах и возращаемых значениях какой-либо функции, рекомендуем заглянуть в документацию. Например, в этой подтеме ты рассматривал функцию `pow()`. К ней, как и ко многим другим встроенныем функциям, есть [подробная документация на английском](https://docs.python.org/3/library/functions.html#pow  )."
      ]
    },
    {
      "cell_type": "markdown",
      "metadata": {
        "id": "7LUl6QB6yTRx"
      },
      "source": [
        "# Собственные функции в Python"
      ]
    },
    {
      "cell_type": "markdown",
      "metadata": {
        "id": "W6d8lSSqyU-6"
      },
      "source": [
        "Хотя в Python есть обширный набор встроенных функций, иногда для выполнения конкретных задач нужно создать собственные функции. Это делается так:"
      ]
    },
    {
      "cell_type": "code",
      "execution_count": null,
      "metadata": {
        "colab": {
          "base_uri": "https://localhost:8080/"
        },
        "id": "TLN4XCSUyajh",
        "outputId": "6aee96b7-bd3a-4e1b-f398-7748451423d8"
      },
      "outputs": [
        {
          "data": {
            "text/plain": [
              "8"
            ]
          },
          "execution_count": 8,
          "metadata": {},
          "output_type": "execute_result"
        }
      ],
      "source": [
        "# Создадим функцию, которая будет находить сумму двух чисел\n",
        "def add_numbers(a, b):\n",
        "    # Вычисляем сумму чисел\n",
        "    result = a + b\n",
        "    # Возвращаем результат\n",
        "    return result\n",
        "\n",
        "# Вызываем функцию и передаём ей два числа\n",
        "add_numbers(3, 5)\n"
      ]
    },
    {
      "cell_type": "markdown",
      "metadata": {
        "id": "b0tecGk0ybKG"
      },
      "source": [
        "Теперь разберём каждый компонент этого кода.\n",
        "\n",
        "- Новая функция создаётся с помощью специального слова `def`. Оно указывает, что мы хотим определить блок кода для выполнения определённой задачи.\n",
        "- Затем пишется название функции и её параметры (в данном случае, `a` и `b`). Название придумывает программист.\n",
        "- После двоеточия и новой строки с отступом следует тело функции, где указываются действия, выполняемые при вызове функции. Кстати, отступов нужно делать либо четыре пробела, либо 1 Tab;\n",
        "- И последнее, ключевое слово `return` возвращает результат работы функции.\n",
        "\n",
        "Теперь можно использовать эту функцию, указав её название и передав соответствующие значения в скобках. Например, вызов `add_numbers(3, 5) `вернёт результат, равный 8."
      ]
    },
    {
      "cell_type": "code",
      "execution_count": null,
      "metadata": {
        "id": "kag0nEXe_JOv"
      },
      "outputs": [],
      "source": [
        "# Закрепим\n",
        "# def add_numbers(a, b)\n",
        "# add_numbers - название функции\n",
        "# (a, b) - аргументы функции"
      ]
    },
    {
      "cell_type": "markdown",
      "metadata": {
        "id": "TtbIF1inzL_w"
      },
      "source": [
        "### Пустое тело функции"
      ]
    },
    {
      "cell_type": "markdown",
      "metadata": {
        "id": "tdNVlFDZzNWe"
      },
      "source": [
        "При создании функции в Python важно помнить, что тело функции должно содержать как минимум один оператор, такой как `return` или ключевое слово `pass`. Рассмотрим на примерах:"
      ]
    },
    {
      "cell_type": "code",
      "execution_count": null,
      "metadata": {
        "id": "PVMNmGEJzQFA"
      },
      "outputs": [],
      "source": [
        "# Функция с использованием оператора pass\n",
        "def my_function():\n",
        "    pass\n"
      ]
    },
    {
      "cell_type": "code",
      "execution_count": null,
      "metadata": {
        "colab": {
          "base_uri": "https://localhost:8080/"
        },
        "id": "hstZe6U-zU2c",
        "outputId": "36e9c4a2-1125-43f0-bc5c-cdefede8bab9"
      },
      "outputs": [
        {
          "data": {
            "text/plain": [
              "42"
            ]
          },
          "execution_count": 10,
          "metadata": {},
          "output_type": "execute_result"
        }
      ],
      "source": [
        "# Функция с использованием ключевого слова return, чтобы вернуть определённое значение\n",
        "def another_function():\n",
        "    return 42\n",
        "\n",
        "# Вызов функций\n",
        "my_function()\n",
        "another_function()\n"
      ]
    },
    {
      "cell_type": "markdown",
      "metadata": {
        "id": "cW7D8EBNzSSM"
      },
      "source": [
        "Комментарий к коду:\n",
        "\n",
        "- В функции `my_function()` используется оператор `pass`, который показывает, что функция не содержит кода. Это может быть использовано для временного заполнения функции или для её определения без кода.\n",
        "\n",
        "- Функция `another_function()` возвращает значение 42 при вызове. Это означает, что при вызове функции будет получено число 42.\n",
        "\n",
        "Обрати внимание, что вызов функции `my_function()` не приводит к выполнению каких-либо действий, поскольку она не содержит кода. Однако вызов функции `another_function()` вернёт значение 42, которое можно сохранить в переменной или использовать в программе дальше."
      ]
    },
    {
      "cell_type": "markdown",
      "metadata": {
        "id": "O0vgFmW7zhR-"
      },
      "source": [
        "### Функция `print()` вместо/с оператором `return`"
      ]
    },
    {
      "cell_type": "markdown",
      "metadata": {
        "id": "CKXRiIM_zkXz"
      },
      "source": [
        "Итак, чтобы вернуть значение из функции, используют оператор `return`. Но результат работы функции ещё можно вывести на экран с помощью функции `print().`\n",
        "\n",
        "Вот как это работает:\n"
      ]
    },
    {
      "cell_type": "code",
      "execution_count": null,
      "metadata": {
        "colab": {
          "base_uri": "https://localhost:8080/"
        },
        "id": "B_ur4S-_zncw",
        "outputId": "d861332d-e3b9-47a1-a86b-58c22fe98e1c"
      },
      "outputs": [
        {
          "name": "stdout",
          "output_type": "stream",
          "text": [
            "Площадь круга равна: 78.5\n"
          ]
        }
      ],
      "source": [
        "def calculate_area(radius):\n",
        "    area = 3.14 * radius ** 2\n",
        "    print(\"Площадь круга равна:\", area)\n",
        "calculate_area(5)\n"
      ]
    },
    {
      "cell_type": "code",
      "execution_count": null,
      "metadata": {
        "colab": {
          "base_uri": "https://localhost:8080/"
        },
        "id": "3poqKudnkSoJ",
        "outputId": "89610d8a-9980-410c-efe1-525c351a77af"
      },
      "outputs": [
        {
          "data": {
            "text/plain": [
              "78.5"
            ]
          },
          "execution_count": 6,
          "metadata": {},
          "output_type": "execute_result"
        }
      ],
      "source": [
        "def calculate_area(radius):\n",
        "    area = 3.14 * radius ** 2\n",
        "    return area\n",
        "calculate_area(5)\n"
      ]
    },
    {
      "cell_type": "markdown",
      "metadata": {
        "id": "s3rt7haWzpV9"
      },
      "source": [
        "И в случает с `return`, и в случае с `print()` способ отобразить результат на экране один и тот же. Но есть значительные отличия:\n",
        "- Когда используется ключевое слово `return`, функция возвращает значение (например, значение площади круга) и завершает свою работу.\n",
        "- Функция `print()` просто отображает это значение пользователю на экране (например, то же значение площади круга), не сохраняя это значение в программе для дальнейшего использования."
      ]
    },
    {
      "cell_type": "markdown",
      "metadata": {
        "id": "fdTp3dnWYKNa"
      },
      "source": [
        "В случае использования функции `print()` в связке с `return` результат работы функции будет отображен на экране, но это значение не будет сохранено в программе для последующего использования. Вот как это реализовать:"
      ]
    },
    {
      "cell_type": "code",
      "execution_count": null,
      "metadata": {
        "colab": {
          "base_uri": "https://localhost:8080/"
        },
        "id": "hyy4uVIHYfxj",
        "outputId": "968ee72a-40cc-40fc-8c8f-8e8616856874"
      },
      "outputs": [
        {
          "name": "stdout",
          "output_type": "stream",
          "text": [
            "Площадь круга равна: 78.5\n"
          ]
        }
      ],
      "source": [
        "def calculate_area(radius):\n",
        "    area = 3.14 * radius ** 2\n",
        "    return area\n",
        "\n",
        "result = calculate_area(5)\n",
        "print(\"Площадь круга равна:\", result)"
      ]
    },
    {
      "cell_type": "markdown",
      "metadata": {
        "id": "NQ_NtcoXYjVJ"
      },
      "source": [
        "Получился аналогичный результат. Таким образом, в переменной `result` будет храниться результат выполнения функции `calculate_area()`, а затем этот результат будет выведен на экран с помощью `print()`."
      ]
    },
    {
      "cell_type": "markdown",
      "metadata": {
        "id": "J-i-x_oOzvIz"
      },
      "source": [
        "### Определение параметров в пользовательских функциях"
      ]
    },
    {
      "cell_type": "markdown",
      "metadata": {
        "id": "LXESJ1j_EQDx"
      },
      "source": [
        "В Python у пользовательских функций те же возможности для определения параметров, что у встроенных. Поддерживаются как позиционные, так и именованные параметры.\n",
        "\n",
        "Рассмотрим пример функции, которая принимает два параметра, складывает их и возвращает сумму:"
      ]
    },
    {
      "cell_type": "code",
      "execution_count": null,
      "metadata": {
        "colab": {
          "base_uri": "https://localhost:8080/"
        },
        "id": "MeqCYkxhzzO5",
        "outputId": "d0199bb5-ab99-488b-b0c1-bbc3afa60d1c"
      },
      "outputs": [
        {
          "data": {
            "text/plain": [
              "7"
            ]
          },
          "execution_count": 12,
          "metadata": {},
          "output_type": "execute_result"
        }
      ],
      "source": [
        "# Определим функцию с параметрами a и b\n",
        "def add_numbers(a, b):\n",
        "    # Получим сумму параметров\n",
        "    return a + b\n",
        "# Вызов функции будет осуществлен с одним аргументом по порядку и одним аргументом с указанием имени:\n",
        "add_numbers(3, b=4)"
      ]
    },
    {
      "cell_type": "markdown",
      "metadata": {
        "id": "k9JGTUL-z1V0"
      },
      "source": [
        "Пользовательская функция может содержать значения по умолчанию для её параметров. Это подразумевает, что при вызове функции значения параметров могут оставаться неопределёнными, и в этом случае будут использованы значения по умолчанию:"
      ]
    },
    {
      "cell_type": "code",
      "execution_count": null,
      "metadata": {
        "colab": {
          "base_uri": "https://localhost:8080/"
        },
        "id": "Cqr07X94z9sr",
        "outputId": "b7b9a749-3aa8-4723-80de-049eff905cc1"
      },
      "outputs": [
        {
          "data": {
            "text/plain": [
              "3"
            ]
          },
          "execution_count": 14,
          "metadata": {},
          "output_type": "execute_result"
        }
      ],
      "source": [
        "# Создадим функцию с параметрами a и b, которые имеют значения по умолчанию\n",
        "def add_numbers_default(a=1, b=2):\n",
        "    return a + b\n",
        "# Вызов функции без указания параметров\n",
        "add_numbers_default()\n"
      ]
    },
    {
      "cell_type": "markdown",
      "metadata": {
        "id": "5RyBnGqyz-Rk"
      },
      "source": [
        "Более того, возможно определить пользовательскую функцию и без включения параметров."
      ]
    },
    {
      "cell_type": "code",
      "execution_count": null,
      "metadata": {
        "colab": {
          "base_uri": "https://localhost:8080/"
        },
        "id": "CVaIKfuv0DZU",
        "outputId": "cfe621fc-3518-4915-d073-0ebdc263b7fc"
      },
      "outputs": [
        {
          "name": "stdout",
          "output_type": "stream",
          "text": [
            "Hello, superhero!\n"
          ]
        }
      ],
      "source": [
        "# Эта функция просто выводит текст\n",
        "def print_message():\n",
        "    print('Hello, superhero!')\n",
        "\n",
        "\n",
        "# Вызовем функцию для вывода текста\n",
        "print_message()\n"
      ]
    },
    {
      "cell_type": "markdown",
      "metadata": {
        "id": "Ii8DHVWS0IXv"
      },
      "source": [
        "### Результат выполнения функции"
      ]
    },
    {
      "cell_type": "markdown",
      "metadata": {
        "id": "W7ZsUiQ30Mn3"
      },
      "source": [
        "Функция имеет возможность возвращать разнообразные типы данных. Рассмотрим несколько примеров.\n",
        "\n",
        "Пример 1. Возвращение списка чисел от 0 до заданного числа.\n",
        "\n",
        "Предположим, у нас есть функция, которая принимает на вход число и возвращает список чисел от 0 до этого числа (не включая само число)."
      ]
    },
    {
      "cell_type": "code",
      "execution_count": null,
      "metadata": {
        "colab": {
          "base_uri": "https://localhost:8080/"
        },
        "id": "mRkGNfpT0QNr",
        "outputId": "80482551-e62c-42b9-83e1-b3e8116a9c2f"
      },
      "outputs": [
        {
          "name": "stdout",
          "output_type": "stream",
          "text": [
            "[0, 1, 2, 3, 4]\n"
          ]
        }
      ],
      "source": [
        "def generate_sequence(n):\n",
        "    sequence = []\n",
        "    for i in range(n):\n",
        "        sequence.append(i)\n",
        "    return sequence\n",
        "# Результат вызова функции - список чисел от 0 до 4\n",
        "result = generate_sequence(5)\n",
        "print(result)"
      ]
    },
    {
      "cell_type": "markdown",
      "metadata": {
        "id": "XIkNcz3V0USG"
      },
      "source": [
        "Пример 2. Генерация результата из функции, возвращающей несколько значений."
      ]
    },
    {
      "cell_type": "code",
      "execution_count": null,
      "metadata": {
        "colab": {
          "base_uri": "https://localhost:8080/"
        },
        "id": "jvQPrLy80a-s",
        "outputId": "5d273c45-66ee-4df5-931e-f956178ced3e"
      },
      "outputs": [
        {
          "name": "stdout",
          "output_type": "stream",
          "text": [
            "Глеб 45\n"
          ]
        }
      ],
      "source": [
        "def get_info():\n",
        "    name = 'Глеб'\n",
        "    age = 45\n",
        "    return name, age\n",
        "\n",
        "\n",
        "# Получим имя и возраст из функции\n",
        "name, age = get_info()\n",
        "print(name, age)\n"
      ]
    },
    {
      "cell_type": "markdown",
      "metadata": {
        "id": "wy0tfO7y0Yk_"
      },
      "source": [
        "Если результат вызова функции записать в одну переменную, получится кортеж."
      ]
    },
    {
      "cell_type": "code",
      "execution_count": null,
      "metadata": {
        "colab": {
          "base_uri": "https://localhost:8080/"
        },
        "id": "a9PJW2WT0hNV",
        "outputId": "d4e7f87a-7a3d-432f-a9e4-48a9187cdd59"
      },
      "outputs": [
        {
          "name": "stdout",
          "output_type": "stream",
          "text": [
            "('Глеб', 45)\n"
          ]
        }
      ],
      "source": [
        "def get_info():\n",
        "    name = 'Глеб'\n",
        "    age = 45\n",
        "    return name, age\n",
        "\n",
        "\n",
        "# Получим кортеж с именем и возрастом\n",
        "info = get_info()\n",
        "print(info)\n"
      ]
    },
    {
      "cell_type": "markdown",
      "metadata": {
        "id": "8I0Y5rHo0h0o"
      },
      "source": [
        "Пример 3. Генерация результата из функции с возвращением логических значений"
      ]
    },
    {
      "cell_type": "code",
      "execution_count": null,
      "metadata": {
        "colab": {
          "base_uri": "https://localhost:8080/"
        },
        "id": "gYUDaPY70lfF",
        "outputId": "44567f0d-1c22-46e6-f59b-11bcb8730d69"
      },
      "outputs": [
        {
          "name": "stdout",
          "output_type": "stream",
          "text": [
            "True\n"
          ]
        }
      ],
      "source": [
        "def is_even(number):\n",
        "    if number % 2 == 0:\n",
        "        return True\n",
        "    else:\n",
        "        return False\n",
        "# Проверим, является ли число 10 четным\n",
        "result = is_even(10)\n",
        "print(result)\n"
      ]
    },
    {
      "cell_type": "markdown",
      "metadata": {
        "id": "juhHG3nI04GK"
      },
      "source": [
        "### Виды переменных"
      ]
    },
    {
      "cell_type": "markdown",
      "metadata": {
        "id": "b24HmoksHCqw"
      },
      "source": [
        "В программировании существуют переменные с различной областью видимости:\n",
        "\n",
        "- доступные в любой точке программы (глобальные),\n",
        "- доступные исключительно внутри определённой функции (локальные),\n",
        "- доступные во вложенных в другие функции, где область видимости переменной не ограничена локальной областью. (нелокальные),\n",
        "- предопределённые в языке программирования и доступные без дополнительного объявления (встроенные).\n",
        "\n",
        "Под областью видимости подразумевается место, где было присвоено значение переменной и, соотвественно, осуществляется поиск по этому имени.\n",
        "\n",
        "Давай разбираться на примерах."
      ]
    },
    {
      "cell_type": "code",
      "execution_count": null,
      "metadata": {
        "colab": {
          "base_uri": "https://localhost:8080/"
        },
        "id": "wQrfYjUA1Q3S",
        "outputId": "0ef05bdb-471c-469f-f8d8-08cf32c7c57f"
      },
      "outputs": [
        {
          "name": "stdout",
          "output_type": "stream",
          "text": [
            "Олег\n"
          ]
        }
      ],
      "source": [
        "# Объявим глобальную переменную за пределами функции\n",
        "global_var = 'Олег'\n",
        "\n",
        "# После этого мы применяем её внутри функции\n",
        "def show_global_var():\n",
        "  print(global_var)\n",
        "\n",
        "show_global_var()\n"
      ]
    },
    {
      "cell_type": "markdown",
      "metadata": {
        "id": "M49XEEsbHIK1"
      },
      "source": [
        "Мы установили глобальную переменную под названием `global_var` и без проблем применили её в функции `show_global_var()`. Но не всегда получается так же легко использовать эту переменную за пределами функции."
      ]
    },
    {
      "cell_type": "code",
      "execution_count": null,
      "metadata": {
        "colab": {
          "base_uri": "https://localhost:8080/"
        },
        "id": "ujRNAiWt2qeh",
        "outputId": "4a24bb52-2dfe-4bc2-ed22-11ca117a1eb8"
      },
      "outputs": [
        {
          "name": "stdout",
          "output_type": "stream",
          "text": [
            "Алиса\n"
          ]
        }
      ],
      "source": [
        "# Давай разработаем функцию, где мы определим переменную внутри её тела\n",
        "def show_local_var():\n",
        "  local_var = 'Алиса'\n",
        "  print(local_var)\n",
        "\n",
        "show_local_var()\n"
      ]
    },
    {
      "cell_type": "markdown",
      "metadata": {
        "id": "inQbh3H0HRCG"
      },
      "source": [
        "Вызов функции `show_local_var()` прошёл успешно, однако обращение к переменной `local_var` вне данной функции приведёт к ошибке, так как область видимости переменной `local_var` ограничена именно этой функцией."
      ]
    },
    {
      "cell_type": "code",
      "execution_count": null,
      "metadata": {
        "colab": {
          "base_uri": "https://localhost:8080/",
          "height": 144
        },
        "id": "tameQT6q2vaA",
        "outputId": "e3600754-1183-43c5-aab4-ea2ca5f38bfc"
      },
      "outputs": [
        {
          "ename": "NameError",
          "evalue": "name 'local_var' is not defined",
          "output_type": "error",
          "traceback": [
            "\u001b[0;31m---------------------------------------------------------------------------\u001b[0m",
            "\u001b[0;31mNameError\u001b[0m                                 Traceback (most recent call last)",
            "\u001b[0;32m<ipython-input-17-8852b4c53ffd>\u001b[0m in \u001b[0;36m<cell line: 1>\u001b[0;34m()\u001b[0m\n\u001b[0;32m----> 1\u001b[0;31m \u001b[0mlocal_var\u001b[0m\u001b[0;34m\u001b[0m\u001b[0;34m\u001b[0m\u001b[0m\n\u001b[0m",
            "\u001b[0;31mNameError\u001b[0m: name 'local_var' is not defined"
          ]
        }
      ],
      "source": [
        "local_var\n"
      ]
    },
    {
      "cell_type": "markdown",
      "metadata": {
        "id": "NFNKHzNa2wSW"
      },
      "source": [
        "Проблема возникает из-за ограничения области видимости переменной `local_var` функцией `show_local_var()`. Чтобы расширить доступность переменной на весь код программы, можно применить ключевое слово `global`."
      ]
    },
    {
      "cell_type": "code",
      "execution_count": null,
      "metadata": {
        "colab": {
          "base_uri": "https://localhost:8080/"
        },
        "id": "RlA0XfMy2zwJ",
        "outputId": "c5aa2921-f64d-493d-8ea8-6141a86317de"
      },
      "outputs": [
        {
          "name": "stdout",
          "output_type": "stream",
          "text": [
            "Алиса\n"
          ]
        }
      ],
      "source": [
        "def make_global_var():\n",
        "  global local_var\n",
        "  local_var = 'Алиса'\n",
        "  print(local_var)\n",
        "\n",
        "make_global_var()\n"
      ]
    },
    {
      "cell_type": "markdown",
      "metadata": {
        "id": "NewZUEJw20V9"
      },
      "source": [
        "Теперь переменная `local_var` доступна ВНЕ программы."
      ]
    },
    {
      "cell_type": "code",
      "execution_count": null,
      "metadata": {
        "colab": {
          "base_uri": "https://localhost:8080/",
          "height": 35
        },
        "id": "uWcjbCkI2477",
        "outputId": "5f4d01ba-ba60-4bbf-f356-4ed29ae2be94"
      },
      "outputs": [
        {
          "data": {
            "application/vnd.google.colaboratory.intrinsic+json": {
              "type": "string"
            },
            "text/plain": [
              "'Алиса'"
            ]
          },
          "execution_count": 27,
          "metadata": {},
          "output_type": "execute_result"
        }
      ],
      "source": [
        "local_var"
      ]
    },
    {
      "cell_type": "markdown",
      "metadata": {
        "id": "8a8kdGz823BH"
      },
      "source": [
        "Рассмотрим ситуацию, когда есть две переменные с одинаковым именем, одна из которых глобальная, а другая — локальная."
      ]
    },
    {
      "cell_type": "code",
      "execution_count": null,
      "metadata": {
        "colab": {
          "base_uri": "https://localhost:8080/"
        },
        "id": "1Ks_PeOC290u",
        "outputId": "ceaf32e0-6647-438f-a4b3-4c51a6f61a09"
      },
      "outputs": [
        {
          "name": "stdout",
          "output_type": "stream",
          "text": [
            "Local number: 10\n"
          ]
        }
      ],
      "source": [
        "# Создаём глобальную переменную\n",
        "global_num = 5\n",
        "\n",
        "def print_num():\n",
        "  # После чего определяем переменную на уровне локальной области\n",
        "  local_num = 10\n",
        "  print('Local number:', local_num)\n",
        "\n",
        "print_num()\n"
      ]
    },
    {
      "cell_type": "markdown",
      "metadata": {
        "id": "E_rmiOQN28Lf"
      },
      "source": [
        "В данном случае функция всегда будет использовать локальную переменную."
      ]
    },
    {
      "cell_type": "code",
      "execution_count": null,
      "metadata": {
        "colab": {
          "base_uri": "https://localhost:8080/"
        },
        "id": "NTZaA2SY3BNz",
        "outputId": "a2f75201-3481-409b-8db7-ff4af71e352a"
      },
      "outputs": [
        {
          "name": "stdout",
          "output_type": "stream",
          "text": [
            "Global number: 5\n"
          ]
        }
      ],
      "source": [
        "# Глобальная переменная остаётся неизменной\n",
        "print('Global number:', global_num)\n"
      ]
    },
    {
      "cell_type": "markdown",
      "metadata": {
        "id": "092ps6EzvYSI"
      },
      "source": [
        "Теперь рассмотрим нелокальные переменные. Как ранее упоминалось, переменные применяются во вложенных функциях, область видимости которых не ограничена локальной. Это означает, что переменная необязательно находится в области видимости локальной функции или в глобальной области.\n",
        "\n",
        "Пример работы с нелокальной переменной в Python с использованием ключевого слова nonlocal:"
      ]
    },
    {
      "cell_type": "code",
      "execution_count": null,
      "metadata": {
        "colab": {
          "base_uri": "https://localhost:8080/"
        },
        "id": "VYdgODUHv2TW",
        "outputId": "363eab33-70fa-4bae-cb9c-69e150a313dc"
      },
      "outputs": [
        {
          "name": "stdout",
          "output_type": "stream",
          "text": [
            "Inner: 20\n",
            "Outer: 20\n"
          ]
        }
      ],
      "source": [
        "def outer():\n",
        "    x = 10\n",
        "\n",
        "    def inner():\n",
        "        nonlocal x\n",
        "        x = 20\n",
        "        print('Inner:', x)\n",
        "\n",
        "    inner()\n",
        "    print('Outer:', x)\n",
        "\n",
        "outer()"
      ]
    },
    {
      "cell_type": "markdown",
      "metadata": {
        "id": "U4lhuc5jwQlm"
      },
      "source": [
        "Здесь ключевое слово `nonlocal` позволяет изменить значение переменной `x` из внутренней функции `inner()`. После вызова внешней функции `outer()` значение переменной `x` изменилось на 20 как внутри функции `inner()`, так и снаружи, в функции `outer()`."
      ]
    },
    {
      "cell_type": "markdown",
      "metadata": {
        "id": "TrUJFTMakVWL"
      },
      "source": [
        "И последнее, это встроенные переменные. В Python существует встроенное переменные или функции, которые всегда доступны при работе в этом языке программирования. Вот примеры объектов, которые можно найти во встроенном пространстве имен:\n",
        "\n",
        "- Встроенные функции, такие как `max()` для нахождения максимального элемента в коллекции и `len()` для определения длины объекта и так далее.\n",
        "- Типы объектов, такие как `int` (целые числа) и `str` (строки).\n",
        "\n",
        "Чтобы ознакомиться со всем списком встроенные переменных или функций, выполни команду, которая выводит все встроенные :"
      ]
    },
    {
      "cell_type": "code",
      "execution_count": 3,
      "metadata": {
        "colab": {
          "base_uri": "https://localhost:8080/"
        },
        "id": "E8XmsyQqklLe",
        "outputId": "974f0e86-f685-4944-fcd4-44a97b4c7dd3",
        "tags": [
          "\"scroll-output\""
        ]
      },
      "outputs": [
        {
          "data": {
            "text/plain": [
              "['ArithmeticError',\n",
              " 'AssertionError',\n",
              " 'AttributeError',\n",
              " 'BaseException',\n",
              " 'BlockingIOError',\n",
              " 'BrokenPipeError',\n",
              " 'BufferError',\n",
              " 'BytesWarning',\n",
              " 'ChildProcessError',\n",
              " 'ConnectionAbortedError',\n",
              " 'ConnectionError',\n",
              " 'ConnectionRefusedError',\n",
              " 'ConnectionResetError',\n",
              " 'DeprecationWarning',\n",
              " 'EOFError',\n",
              " 'Ellipsis',\n",
              " 'EncodingWarning',\n",
              " 'EnvironmentError',\n",
              " 'Exception',\n",
              " 'False',\n",
              " 'FileExistsError',\n",
              " 'FileNotFoundError',\n",
              " 'FloatingPointError',\n",
              " 'FutureWarning',\n",
              " 'GeneratorExit',\n",
              " 'IOError',\n",
              " 'ImportError',\n",
              " 'ImportWarning',\n",
              " 'IndentationError',\n",
              " 'IndexError',\n",
              " 'InterruptedError',\n",
              " 'IsADirectoryError',\n",
              " 'KeyError',\n",
              " 'KeyboardInterrupt',\n",
              " 'LookupError',\n",
              " 'MemoryError',\n",
              " 'ModuleNotFoundError',\n",
              " 'NameError',\n",
              " 'None',\n",
              " 'NotADirectoryError',\n",
              " 'NotImplemented',\n",
              " 'NotImplementedError',\n",
              " 'OSError',\n",
              " 'OverflowError',\n",
              " 'PendingDeprecationWarning',\n",
              " 'PermissionError',\n",
              " 'ProcessLookupError',\n",
              " 'RecursionError',\n",
              " 'ReferenceError',\n",
              " 'ResourceWarning',\n",
              " 'RuntimeError',\n",
              " 'RuntimeWarning',\n",
              " 'StopAsyncIteration',\n",
              " 'StopIteration',\n",
              " 'SyntaxError',\n",
              " 'SyntaxWarning',\n",
              " 'SystemError',\n",
              " 'SystemExit',\n",
              " 'TabError',\n",
              " 'TimeoutError',\n",
              " 'True',\n",
              " 'TypeError',\n",
              " 'UnboundLocalError',\n",
              " 'UnicodeDecodeError',\n",
              " 'UnicodeEncodeError',\n",
              " 'UnicodeError',\n",
              " 'UnicodeTranslateError',\n",
              " 'UnicodeWarning',\n",
              " 'UserWarning',\n",
              " 'ValueError',\n",
              " 'Warning',\n",
              " 'ZeroDivisionError',\n",
              " '__IPYTHON__',\n",
              " '__build_class__',\n",
              " '__debug__',\n",
              " '__doc__',\n",
              " '__import__',\n",
              " '__loader__',\n",
              " '__name__',\n",
              " '__package__',\n",
              " '__spec__',\n",
              " 'abs',\n",
              " 'aiter',\n",
              " 'all',\n",
              " 'anext',\n",
              " 'any',\n",
              " 'ascii',\n",
              " 'bin',\n",
              " 'bool',\n",
              " 'breakpoint',\n",
              " 'bytearray',\n",
              " 'bytes',\n",
              " 'callable',\n",
              " 'chr',\n",
              " 'classmethod',\n",
              " 'compile',\n",
              " 'complex',\n",
              " 'copyright',\n",
              " 'credits',\n",
              " 'delattr',\n",
              " 'dict',\n",
              " 'dir',\n",
              " 'display',\n",
              " 'divmod',\n",
              " 'enumerate',\n",
              " 'eval',\n",
              " 'exec',\n",
              " 'execfile',\n",
              " 'filter',\n",
              " 'float',\n",
              " 'format',\n",
              " 'frozenset',\n",
              " 'get_ipython',\n",
              " 'getattr',\n",
              " 'globals',\n",
              " 'hasattr',\n",
              " 'hash',\n",
              " 'help',\n",
              " 'hex',\n",
              " 'id',\n",
              " 'input',\n",
              " 'int',\n",
              " 'isinstance',\n",
              " 'issubclass',\n",
              " 'iter',\n",
              " 'len',\n",
              " 'license',\n",
              " 'list',\n",
              " 'locals',\n",
              " 'map',\n",
              " 'max',\n",
              " 'memoryview',\n",
              " 'min',\n",
              " 'next',\n",
              " 'object',\n",
              " 'oct',\n",
              " 'open',\n",
              " 'ord',\n",
              " 'pow',\n",
              " 'print',\n",
              " 'property',\n",
              " 'range',\n",
              " 'repr',\n",
              " 'reversed',\n",
              " 'round',\n",
              " 'runfile',\n",
              " 'set',\n",
              " 'setattr',\n",
              " 'slice',\n",
              " 'sorted',\n",
              " 'staticmethod',\n",
              " 'str',\n",
              " 'sum',\n",
              " 'super',\n",
              " 'tuple',\n",
              " 'type',\n",
              " 'vars',\n",
              " 'zip']"
            ]
          },
          "execution_count": 1,
          "metadata": {},
          "output_type": "execute_result"
        }
      ],
      "source": [
        "dir(__builtins__)"
      ]
    },
    {
      "cell_type": "markdown",
      "metadata": {
        "id": "nP8YEbmUTkbE"
      },
      "source": [
        "# Параметры с оператором распаковки `**args` и `**kwargs`"
      ]
    },
    {
      "cell_type": "markdown",
      "metadata": {
        "id": "Vmgq40gETuTl"
      },
      "source": [
        "Как ты думаешь, есть ли ограничения на количество аргументов в функции? Если твой ответ нет, ты прав. За неограниченность отвечают операторы `*args` (сокращение от arguments) и `**kwargs` (keyword arguments).\n",
        "\n",
        "Они представляют собой механизм распаковки, который позволяет извлекать элементы из контейнера, такого как кортеж или список, и передавать их как отдельные аргументы функции. Например, если у тебя есть кортеж с аргументами, распаковка `*args` позволит передать каждый элемент кортежа как отдельный аргумент в функцию. Аналогично, `**kwargs` позволяет работать с аргументами по ключу, что делает код более гибким и удобным для использования.\n",
        "\n",
        "Таким образом, `*args` и `**kwargs` позволяют создавать функции, способные работать с различным количеством аргументов и ключей, что делает код более динамичным и адаптивным к различным сценариям использования.\n"
      ]
    },
    {
      "cell_type": "markdown",
      "metadata": {},
      "source": [
        "## `*args`"
      ]
    },
    {
      "cell_type": "markdown",
      "metadata": {
        "id": "mdJ9socmYvP6"
      },
      "source": [
        "Предположим, у нас есть функция, которая вычисляет среднее арифметическое двух чисел:"
      ]
    },
    {
      "cell_type": "code",
      "execution_count": null,
      "metadata": {
        "colab": {
          "base_uri": "https://localhost:8080/"
        },
        "id": "suHGPpV7Y937",
        "outputId": "dc0a4da9-86e6-4979-c858-e77e320c58ed"
      },
      "outputs": [
        {
          "data": {
            "text/plain": [
              "4.5"
            ]
          },
          "execution_count": 2,
          "metadata": {},
          "output_type": "execute_result"
        }
      ],
      "source": [
        "def mean(a, b):\n",
        "  return (a + b) / 2\n",
        "\n",
        "# передадим функции mean числа 3 и 6\n",
        "mean(3, 6)"
      ]
    },
    {
      "cell_type": "markdown",
      "metadata": {
        "id": "1qIuK7WUZBlj"
      },
      "source": [
        "Окей, но что, если нужно передать больше двух чисел? Решением будет объяление функции, которая сразу примет список в качестве аргумента:"
      ]
    },
    {
      "cell_type": "code",
      "execution_count": null,
      "metadata": {
        "colab": {
          "base_uri": "https://localhost:8080/"
        },
        "id": "5X7Q7K2J2VVc",
        "outputId": "c3f1c06e-7bd3-4bca-a14d-9be7d5106cec"
      },
      "outputs": [
        {
          "name": "stdout",
          "output_type": "stream",
          "text": [
            "Среднее значение чисел из списка: 30.0\n"
          ]
        }
      ],
      "source": [
        "# Функция для расчета среднего значения чисел из списка\n",
        "def calculate_mean(numbers):\n",
        "    total = 0  # Переменная для хранения суммы чисел из списка\n",
        "\n",
        "    # Считаем сумму чисел из списка\n",
        "    for num in numbers:\n",
        "        total += num\n",
        "\n",
        "    # Рассчитываем среднее значение\n",
        "    mean_value = total / len(numbers)\n",
        "    return mean_value\n",
        "\n",
        "# Создаем список чисел\n",
        "numbers_list = [10, 20, 30, 40, 50]\n",
        "\n",
        "# Вызываем функцию для расчета среднего значения\n",
        "result_mean = calculate_mean(numbers_list)\n",
        "print(f\"Среднее значение чисел из списка: {result_mean}\")\n"
      ]
    },
    {
      "cell_type": "markdown",
      "metadata": {
        "id": "FjggX0-53C5n"
      },
      "source": [
        "Окей, у нас есть пример функции, которая работает с переданным списком чисел. Но если попытаться передать отдельные числа, функция выдаст ошибку."
      ]
    },
    {
      "cell_type": "code",
      "execution_count": null,
      "metadata": {
        "colab": {
          "base_uri": "https://localhost:8080/",
          "height": 144
        },
        "id": "CEeoBIGj3MGh",
        "outputId": "0d106357-6da4-4b33-b4a9-f98ac5483e21"
      },
      "outputs": [
        {
          "ename": "TypeError",
          "evalue": "calculate_mean() takes 1 positional argument but 2 were given",
          "output_type": "error",
          "traceback": [
            "\u001b[0;31m---------------------------------------------------------------------------\u001b[0m",
            "\u001b[0;31mTypeError\u001b[0m                                 Traceback (most recent call last)",
            "\u001b[0;32m<ipython-input-6-37fc2426ad97>\u001b[0m in \u001b[0;36m<cell line: 1>\u001b[0;34m()\u001b[0m\n\u001b[0;32m----> 1\u001b[0;31m \u001b[0mcalculate_mean\u001b[0m\u001b[0;34m(\u001b[0m\u001b[0;36m10\u001b[0m\u001b[0;34m,\u001b[0m \u001b[0;36m50\u001b[0m\u001b[0;34m)\u001b[0m\u001b[0;34m\u001b[0m\u001b[0;34m\u001b[0m\u001b[0m\n\u001b[0m",
            "\u001b[0;31mTypeError\u001b[0m: calculate_mean() takes 1 positional argument but 2 were given"
          ]
        }
      ],
      "source": [
        "calculate_mean(10, 50)"
      ]
    },
    {
      "cell_type": "markdown",
      "metadata": {
        "id": "rqRAD1Us3GpT"
      },
      "source": [
        "В таком случае функция не сможет обработать отдельные числа, так как она ожидает получить список в качестве аргумента."
      ]
    },
    {
      "cell_type": "markdown",
      "metadata": {
        "id": "27mKCH833g7L"
      },
      "source": [
        "А теперь мы добрались до самого оператора  `*args`, которыйм позволяет передавать функции произвольное количество отдельных чисел."
      ]
    },
    {
      "cell_type": "code",
      "execution_count": null,
      "metadata": {
        "colab": {
          "base_uri": "https://localhost:8080/"
        },
        "id": "usvH8gBs3uz_",
        "outputId": "d8f6a687-3c3e-4344-adb8-91fee1dd2afa"
      },
      "outputs": [
        {
          "name": "stdout",
          "output_type": "stream",
          "text": [
            "Среднее значение чисел: 2.5\n"
          ]
        }
      ],
      "source": [
        "def calculate_mean(*numbers):\n",
        "    total = 0\n",
        "\n",
        "    for num in numbers:\n",
        "        total += num\n",
        "\n",
        "    mean_value = total / len(numbers)\n",
        "    return mean_value\n",
        "\n",
        "# Вызов функции с несколькими аргументами\n",
        "result_mean = calculate_mean(1, 2, 3, 4)\n",
        "print(f\"Среднее значение чисел: {result_mean}\")\n"
      ]
    },
    {
      "cell_type": "markdown",
      "metadata": {
        "id": "XVxeY63M3gpJ"
      },
      "source": [
        "В этом примере мы используем `*args` для передачи произвольного количества чисел в функцию `calculate_mean`. Оператор * позволяет функции принимать любое количество чисел и формирует из них кортеж, который затем используется внутри функции для расчёта среднего значения."
      ]
    },
    {
      "cell_type": "markdown",
      "metadata": {
        "id": "COFRblhe38Ey"
      },
      "source": [
        "Также мы можем передать функции список чисел, используя оператор *:"
      ]
    },
    {
      "cell_type": "code",
      "execution_count": null,
      "metadata": {
        "colab": {
          "base_uri": "https://localhost:8080/"
        },
        "id": "W5FpTBkU4X4w",
        "outputId": "e1d4ef87-f3fa-4f26-f79d-af9cac7deaed"
      },
      "outputs": [
        {
          "name": "stdout",
          "output_type": "stream",
          "text": [
            "Среднее значение чисел из списка: 2.5\n"
          ]
        }
      ],
      "source": [
        "# Передача списка в функцию с помощью *\n",
        "numbers_list = [1, 2, 3, 4]\n",
        "result_mean = calculate_mean(*numbers_list)\n",
        "print(f\"Среднее значение чисел из списка: {result_mean}\")\n"
      ]
    },
    {
      "cell_type": "markdown",
      "metadata": {
        "id": "Z6YPm5gl4cQP"
      },
      "source": [
        "В данном случае мы передаем список `numbers_list` с помощью оператора *, который разворачивает список в отдельные числа и передаёт их в функцию для расчёта среднего значения."
      ]
    },
    {
      "cell_type": "markdown",
      "metadata": {
        "id": "UTgYb8up4dTk"
      },
      "source": [
        "Ещё один пример. В функции `test_type`, использующей `*args`, мы можем увидеть, как числа преобразуются в кортеж:"
      ]
    },
    {
      "cell_type": "code",
      "execution_count": null,
      "metadata": {
        "colab": {
          "base_uri": "https://localhost:8080/"
        },
        "id": "Ev7g7Qw54oHl",
        "outputId": "2f6dcd24-2655-42fa-80b2-bb5a917f7728"
      },
      "outputs": [
        {
          "name": "stdout",
          "output_type": "stream",
          "text": [
            "(1, 2, 3, 4) <class 'tuple'>\n"
          ]
        }
      ],
      "source": [
        "# Функция для демонстрации преобразования чисел в кортеж с помощью *args\n",
        "def test_type(*nums):\n",
        "    print(nums, type(nums))\n",
        "\n",
        "# Вызов функции с несколькими аргументами\n",
        "test_type(1, 2, 3, 4)\n"
      ]
    },
    {
      "cell_type": "markdown",
      "metadata": {
        "id": "tKe4aK4z4xrz"
      },
      "source": [
        "При вызове функции `test_type` с разными аргументами мы получаем кортеж чисел и их тип данных."
      ]
    },
    {
      "cell_type": "markdown",
      "metadata": {
        "id": "KNsdAI50Y-f2"
      },
      "source": [
        "Так `*args` работает с произвольным количеством аргументов в функциях Python."
      ]
    },
    {
      "cell_type": "markdown",
      "metadata": {},
      "source": [
        "## `**kwargs`"
      ]
    },
    {
      "cell_type": "markdown",
      "metadata": {
        "id": "jxKhxEO9caKU"
      },
      "source": [
        "Оператор `**kwargs` позволяет передавать функции переменное количество аргументов и обрабатывать их в виде словаря, а не списка, как это делает `*args`.\n",
        "\n",
        "Простой пример. Функция ниже принимает именованные аргументы и возвращает их в виде словаря:"
      ]
    },
    {
      "cell_type": "code",
      "execution_count": null,
      "metadata": {
        "colab": {
          "base_uri": "https://localhost:8080/"
        },
        "id": "2WQARV3xc2OW",
        "outputId": "f0896241-f450-47d5-e7b4-904d35d7f1c8"
      },
      "outputs": [
        {
          "data": {
            "text/plain": [
              "dict_items([('a', 1), ('b', 2), ('c', 3)])"
            ]
          },
          "execution_count": 24,
          "metadata": {},
          "output_type": "execute_result"
        }
      ],
      "source": [
        "def example_function(**kwargs):\n",
        "    return kwargs.items()\n",
        "\n",
        "# Передадим несколько именованных аргументов\n",
        "example_function(a=1, b=2, c=3)\n"
      ]
    },
    {
      "cell_type": "markdown",
      "metadata": {
        "id": "KiMDOQgBeOYk"
      },
      "source": [
        "Результатом вызова этой функции будет словарь с переданными аргументами:\n",
        "`dict_items([('a', 1), ('b', 2), ('c', 3)])`\n",
        "\n",
        "Более сложный пример. Представь, что тебе нужно написать функцию, которая принимает произвольное количество чисел  в качестве позиционных аргументов, а также именованные аргументы для вычисления различных статистических показателей."
      ]
    },
    {
      "cell_type": "code",
      "execution_count": null,
      "metadata": {
        "colab": {
          "base_uri": "https://localhost:8080/"
        },
        "id": "vPQZqTvYerJX",
        "outputId": "f7063169-cf8e-4a19-dbbe-b8c53094e6c2"
      },
      "outputs": [
        {
          "name": "stdout",
          "output_type": "stream",
          "text": [
            "Mean: 12.5\n",
            "Standard deviation: 5.5901699437494745\n",
            "Median: 12.5\n"
          ]
        }
      ],
      "source": [
        "def calculate_statistics(*numbers, **options):\n",
        "    if 'mean' in options and options['mean']:\n",
        "        mean = sum(numbers) / len(numbers)\n",
        "        print(f\"Mean: {mean}\")\n",
        "\n",
        "    if 'std' in options and options['std']:\n",
        "        variance = sum((x - sum(numbers) / len(numbers)) ** 2 for x in numbers) / len(numbers)\n",
        "        std_deviation = variance ** 0.5\n",
        "        print(f\"Standard deviation: {std_deviation}\")\n",
        "\n",
        "    if 'median' in options and options['median']:\n",
        "        sorted_numbers = sorted(numbers)\n",
        "        n = len(sorted_numbers)\n",
        "        median = (sorted_numbers[n // 2] + sorted_numbers[(n - 1) // 2]) / 2\n",
        "        print(f\"Median: {median}\")\n",
        "\n",
        "# Вызовем функцию с указанием необходимых статистических показателей\n",
        "calculate_statistics(5, 10, 15, 20, mean=True, std=True, median=True)\n"
      ]
    },
    {
      "cell_type": "markdown",
      "metadata": {
        "id": "KUzBw0l9fK7F"
      },
      "source": [
        "В данном примере функции передано несколько чисел в качестве позиционных аргументов, а также указаны именованные аргументы для вычисления среднего, стандартного отклонения и медианы."
      ]
    },
    {
      "cell_type": "markdown",
      "metadata": {
        "id": "NhZ6DFZJ_mE1"
      },
      "source": [
        "Для передачи чисел и параметров вывода метрик мы можем также использовать списки и словари вместо прямой передачи значений. Это делает код более гибким и позволяет легко изменять параметры при вызове функции."
      ]
    },
    {
      "cell_type": "code",
      "execution_count": null,
      "metadata": {
        "colab": {
          "base_uri": "https://localhost:8080/"
        },
        "id": "qJqon3wAfVjd",
        "outputId": "221c7a10-a36a-4d88-ef5f-338e3596b215"
      },
      "outputs": [
        {
          "name": "stdout",
          "output_type": "stream",
          "text": [
            "Mean: 12.5\n",
            "Standard deviation: 5.5901699437494745\n",
            "Median: 12.5\n"
          ]
        }
      ],
      "source": [
        "numbers = [5, 10, 15, 20]\n",
        "settings = {'mean': True, 'std': True, 'median': True}\n",
        "\n",
        "calculate_statistics(*numbers, **settings)\n"
      ]
    },
    {
      "cell_type": "markdown",
      "metadata": {
        "id": "oLjzzDbFAnqI"
      },
      "source": [
        "Здесь мы передаём числа и настройки метрик через списки и словари с использованием операторов распаковки * и ** соответственно. Это позволяет более гибко управлять параметрами функции, подобно тому, как можно использовать разные детали для создания разнообразных изделий.\n"
      ]
    },
    {
      "cell_type": "markdown",
      "metadata": {
        "id": "7AXTt0DlfjYJ"
      },
      "source": [
        "Аналогичным выводу в предыдущем примере.\n",
        "\n",
        "В заключение, стоит отметить, что использование `*args` и `**kwargs` делает код более гибким и удобным для работы с различными типами данных и аргументами. Эти операторы часто используются в более сложных конструкциях, таких как декораторы, что делает их незаменимыми инструментами для опытных Python-разработчиков."
      ]
    },
    {
      "cell_type": "markdown",
      "metadata": {
        "id": "Ydbz1iTA3ft9"
      },
      "source": [
        "# Заключение"
      ]
    },
    {
      "cell_type": "markdown",
      "metadata": {
        "id": "kVkX2HIV3hcI"
      },
      "source": [
        "Теперь ты придёшь на лекцию с базой знаний о том:\n",
        "- что такое функции в Python и как они выглядят;\n",
        "- какие бывают встроенные и собственные функции и какие у них параметры и аргументы;\n",
        "- как работает пустая функция;\n",
        "- чем отличаются глобальные и локальные переменные;\n",
        "- и как распаковаывать большое количество аргументов в функции.\n",
        "\n",
        "Поздравляю! После завершения урока ты сможешь создавать собственные функции, объединяя большие блоки кода под одним названием функции. Это даст тебе возможность структурировать свой код более эффективно, делать его более понятным и легко управляемым. Приобретённые знания станут основой для более продвинутых тем и возможностей программирования, открывая перед тобой бесконечные возможности для творчества и развития в мире Python."
      ]
    }
  ],
  "metadata": {
    "colab": {
      "provenance": [],
      "toc_visible": true
    },
    "kernelspec": {
      "display_name": "Python 3 (ipykernel)",
      "language": "python",
      "name": "python3"
    },
    "language_info": {
      "codemirror_mode": {
        "name": "ipython",
        "version": 3
      },
      "file_extension": ".py",
      "mimetype": "text/x-python",
      "name": "python",
      "nbconvert_exporter": "python",
      "pygments_lexer": "ipython3",
      "version": "3.8.13"
    }
  },
  "nbformat": 4,
  "nbformat_minor": 0
}
