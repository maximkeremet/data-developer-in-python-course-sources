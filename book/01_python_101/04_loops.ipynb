{
  "cells": [
    {
      "cell_type": "markdown",
      "metadata": {
        "id": "ftVkaQVrktE4"
      },
      "source": [
        "# Циклы в Python"
      ]
    },
    {
      "cell_type": "markdown",
      "metadata": {
        "id": "6v8ionKPhpYE"
      },
      "source": [
        "Цели материала:\n",
        "- Познакомиться с циклами в Python.\n",
        "- Изучить, как работать со списками и словарями в цикле.\n",
        "- Изучить, как работать в связке цикл + функции.\n",
        "- Изучить, как выглядят вложенные циклы.\n",
        "- Изучить, как останавливать цикл и пропускать итерацию в цикле."
      ]
    },
    {
      "cell_type": "markdown",
      "metadata": {
        "id": "yK9UoJFrPBAp"
      },
      "source": [
        "# Исследование циклов в Python"
      ]
    },
    {
      "cell_type": "markdown",
      "metadata": {
        "id": "qU47HgdGnGM4"
      },
      "source": [
        "Циклы — важный элемент программирования. Они позволяют выполнять один и тот же код несколько раз в зависимости от определённых условий.\n",
        "\n",
        "Допусим, у тебя есть программа, которая должна проверить, является ли число чётным или нечётным. Циклы помогут автоматизировать этот процесс и выполнить проверку для разных значений. В Python существуют разные виды циклов."
      ]
    },
    {
      "cell_type": "markdown",
      "metadata": {
        "id": "Lvrd5Ll7Pskb"
      },
      "source": [
        "![циклы.png](data:image/png;base64,iVBORw0KGgoAAAANSUhEUgAAAYEAAAEOCAYAAABvv6spAAAABGdBTUEAALGPC/xhBQAAACBjSFJNAAB6JgAAgIQAAPoAAACA6AAAdTAAAOpgAAA6mAAAF3CculE8AAAAUGVYSWZNTQAqAAAACAACARIAAwAAAAEAAQAAh2kABAAAAAEAAAAmAAAAAAADoAEAAwAAAAEAAQAAoAIABAAAAAEAAAGBoAMABAAAAAEAAAEOAAAAAPctip0AAAFZaVRYdFhNTDpjb20uYWRvYmUueG1wAAAAAAA8eDp4bXBtZXRhIHhtbG5zOng9ImFkb2JlOm5zOm1ldGEvIiB4OnhtcHRrPSJYTVAgQ29yZSA2LjAuMCI+CiAgIDxyZGY6UkRGIHhtbG5zOnJkZj0iaHR0cDovL3d3dy53My5vcmcvMTk5OS8wMi8yMi1yZGYtc3ludGF4LW5zIyI+CiAgICAgIDxyZGY6RGVzY3JpcHRpb24gcmRmOmFib3V0PSIiCiAgICAgICAgICAgIHhtbG5zOnRpZmY9Imh0dHA6Ly9ucy5hZG9iZS5jb20vdGlmZi8xLjAvIj4KICAgICAgICAgPHRpZmY6T3JpZW50YXRpb24+MTwvdGlmZjpPcmllbnRhdGlvbj4KICAgICAgPC9yZGY6RGVzY3JpcHRpb24+CiAgIDwvcmRmOlJERj4KPC94OnhtcG1ldGE+Chle4QcAAD4VSURBVHgB7Z0FuCTF1YYLdydA0MWDsxBcF3cIECRIlkAIboEE+IHdDRogSAIEh+AeJDhkWSSQ4CRocAvubvPXe+A0Pb3dM3Pn3rm3Z+Y7zzPT3dWlX8kp/XqMSpQgEQJCQAgIga5EYMyuTLUSLQSEgBAQAoaAlIAKghAQAkKgixGQEujizFfShYAQEAJSAioDQkAICIEuRkBKoIszX0kXAkJACEgJqAwIASEgBLoYASmBLs58JV0ICAEhICWgMiAEhIAQ6GIEpAS6OPOVdCEgBISAlIDKgBAQAkKgixGQEujizFfShYAQEAJSAioDQkAICIEuRkBKoIszX0kXAkJACEgJqAwIASEgBLoYASmBLs58JV0ICAEhICWgMiAEhIAQ6GIEpAS6OPOVdCEgBISAlIDKgBAQAkKgixGQEujizFfShYAQEAJSAioDQkAICIEuRkBKoIszX0kXAkJACEgJqAwIASEgBLoYASmBLs58JV0ICAEhICWgMiAEhIAQ6GIEpAS6OPOVdCEgBISAlIDKgBAQAkKgixGQEujizFfShYAQEAJSAioDQkAICIEuRkBKoIszX0kXAkJACIwtCDoLgdtuuy2MGDHCEsW9RAi0EoEVV1zRvOc6bNiwVgYlv1uEgJRAi4Dtb29p+IcPHx7SlXHkyJH9HQ2F12UIeEdj1KhRYYwxxrAyKGXQXoVgjEqU9oqyYptFYMiQIWZE5UMJSITAQCHgo1ApgoHKgZ6HKyXQc8xK5QIFkO79lypyikxXIiBF0F7ZLiXQXvlVFVtVtio49FAiBNQ5KVFm1ImKlEAdgMr8mjlYzeaVOYe6N26sFaAIVD7LXwa0RbT8eZQbQ18Izn0pQyEwwAgwRcnPF44HODoKvgYCUgI1wCnzKyrXCiusUOYoKm5djgCLwz5l2eVQlDr5UgKlzh5FTggIASHQWgS0JtBafFvmu9YDWgatPO5DBFRO+xDMFnmlkUCLgJW3QkAICIF2QEBKoB1ySXEUAkJACLQIASmBFgErb4WAEBAC7YCAlEA75JLiKASEgBBoEQJSAi0CVt4KASEgBNoBASmBdsglxVEICAEh0CIEpARaBKy8FQJCQAi0AwJSAu2QS4qjEBACQqBFCEgJtAhYeSsEhIAQaAcEpATaIZcURyEgBIRAixCQEmgRsPJWCAgBIdAOCEgJtEMuKY5CQAgIgRYhICXQImDlrRAQAkKgHRCQEmiHXFIchYAQEAItQkBKoEXAylshkIfAl19+mWcsMyEwYAhICQwY9J0f8Omnnx7mnnvu0RK6ySabhL322ms08zIbfPrppwFu/PRv8cUXD6eddlrNaH/++efhzDPPDJ988on9xh133PDcc8/VdKOXQqA/EZAS6E+0FVbbIuAfTL/66qvD66+/Hl5++eUwdOjQsP3224cnnniiMF0ff/xx2HbbbcN7771XaEcvhMBAIiAlMJDoK+yw4447hiuuuMKQoKHdaqutzAyD9DsaU0YQu+++u9k977zzAj3x9O+ll14K999/f1httdXMTvqvlrn7sfzyy4cDDzzQGvi02/T9lFNOGaaZZpowwwwzhB122CFMMskk4dZbbw2bbrppOOussxKrZ599tqVlo402MrM111wzvPXWW3Z/zjnnhPnmmy/MPvvsAXsuKBjMJ5100rDBBhsk8dhuu+3CiSeeGIYMGRKmnXbasOuuu4avv/7anekqBHqFgJRAr+CT494i8Oijj4Y333zTvLn44osDjTtmiL9jKmW99dYLNPIHH3ywveN+/PHHDwcccIBNLd17772BqZcPP/ww3HPPPWYn/VfLHLfHHXdcOPTQQ8ODDz4YDj/88LTTqnumhYgPDfoZZ5xh4a200kphrrnmsme3zBTQHHPMEfbbbz8zGj58uDXuPFxwwQWWjrXWWitss802Fu/HHnssrL/++qbAbr755vDVV1+FzTbbLKAYGWnssssuNqLAvxNOOCHccccdHpSuQqBXCIzdK9dyLAT6CIH333/fevmrrrpq+OyzzxJfaXA33HBDa3hvuOGGpCFlgXXOOec05cAoIS00+PTOmb+faaaZzF76ffae3vzSSy9tjTH2X3nllayV5Jn4uTAiQGHMM888FsdDDjnEpooIl0aaxnrGGWc060sssURgPQChV7/KKquElVde2eywRoDyW3LJJcOxxx5rdo4++mjzF2WHjBgxImy55ZZ2jxJ5+umnw4orrmjP+hMCvUFASqA36MltnyFAL3yZZZaxnjCNnIsvIDPVMtlkk7lxoOGffPLJk+fsDY0myoRePr3wFVZYIWsleUZp0HC7HHPMMX472vXCCy8Miy22mJnPPPPMYZxxxrH7wYMHh9lmmy1cf/31Ycwxx7SRwYILLhjeeeed0fwYNGiQmU088cR2ZQTzzDPPhKWWWiqxO8sss9i9j5IIy4UpKdxIhEBfICAl0Bcoyo9eIfDQQw+Fk08+OTz//PPWiKY9Yx1ggQUWsGmTRRdd1O55/+qrr4b5558/bTW5p2d/++232/Pll18eNt544zBy5MjkffYG+zTWzLNfe+21gXl8FnwnmmiirFUbWTCXnydbb711uPLKK00JsLZRJGONNdZor0gjOLjQ00c8jWOPrarq2OjatwioZPUtnvItgwDTOcx3p4WdMuONN154++23zRgFcMQRRwTv/abtMt9Og/z4448H5tBpKJkvv+mmm8IWW2yRtlp1/8UXX5i9J5980hZyq17mPHzzzTemBHzBleeeCtNWjDoQRjYIowLk3XffrTlyIW1HHnlkuPPOO8Oyyy5r6wbrrruu4WQe6E8ItAgBKYEWAStvv0WArZTseMmTRRZZJNArZlF1jz32MCvpaRne8cyP/fjLLbdc2HzzzcPDDz9sc+15c+LYZXoHJYMwJ895hbS/9uK7vzz7hMXoIC1F7tN26M2TFqatWCdAmLJimosevffu0264x2+mk9Zee21LI2FPMMEE4Zprrsla1bMQ6HMExoi7Dyp97qs8bDkCNBztnHXrrLOOLYzuueeePcaKffpTTz21KZAeO26xA6as2MnDrp+0MBKYYoop0ka590xzocSYcuqEKaB2L6e5mdRhhhoJdFiGtktyWOicaqqpmooue+XLJg888ICNOBj5cGYgK40oANxMP/30Wad6FgItRUBKoKXwyvMiBE466aSiV21pTq99UNz1w6G0CSecsC3ToEh3JwKaDmrTfNcwu00zrsuirXJa/gzXieHy55FiKASEgBBoGQJSAi2DVh4LASEgBMqPgJRA+fNIMRQCQkAItAwBKYGWQSuPhYAQEALlR0BKoPx5pBgKASEgBFqGgJRAy6CVx0JACAiB8iMgJVD+PFIMhYAQEAItQ0BKoGXQymMhIASEQPkRkBIofx4phkJACAiBliEgJdAyaOWxEBACQqD8CEgJlD+PFEMhIASEQMsQkBJoGbTyWAgIASFQfgSkBMqfR4qhEBACQqBlCEgJtAxaeSwEhIAQKD8CUgLlz6PcGPJpxdtuuy33nQyFQBkQoHzmfQK0DHFTHL5HQErgeyx0JwSEgBDoOgSkBNo0y4cNGxZGjBjRprFXtLsBgVGjRmkk0AYZrS+LtUEmFUWRrzaNHDlSFa0IIJkPKAL6qtiAwt9w4BoJNAxV+SwOHz5co4HyZYtiFBFglEr5lJQfASmB8udRYQyZEkI0LVQIkV4MAAJeHr18DkAUFGQPEJAS6AFYZbTKdBC7MLzilTGOilN3IEA5HDJkiCVWCqB98lxKoH3yqjCmKAKEOViUAZWRn0QItBoBL2s0/vzYEioF0GrU+9Z/LQz3LZ795huNfV5lcyVARKQI+i07ujYgGn2Esuj3ZvDdX1E5TdvR/cAiICUwsPg3Hbp2XjQNnRz2IwIqp/0IdpNBaTqoSeDkTAgIASHQCQhICXRCLioNQkAICIEmEZASaBI4ORMCQkAIdAICUgKdkItKgxAQAkKgSQSkBJoETs6EgBAQAp2AgJRAJ+Si0iAEhIAQaBIBKYEmgZMzISAEhEAnICAl0Am5qDQIASEgBJpEQEqgSeDkTAgIASHQCQhICXRCLioNQkAICIEmEZASaBI4ORMCQkAIdAICUgKdkItKgxAQAkKgSQSkBJoETs6EgBAQAp2AgJRAJ+Si0iAEhIAQaBIBKYEmgZMzISAEhEAnICAl0Am5qDQIASEgBJpEQEqgSeDkTAgIASHQCQhICXRCLioNQkAICIEmEZASaBI4ORMCQkAIdAICUgKdkItKgxAQAkKgSQSkBJoETs6EgBAQAp2AgJRAJ+Si0iAEhIAQaBIBKYEmgZMzISAEhEAnICAl0Am5qDQIASEgBJpEQEqgSeDkTAgIASHQCQhICXRCLioNQkAICIEmEZASaBI4ORMCQkAIdAICUgKdkItKgxAQAkKgSQSkBJoETs6EgBAQAp2AgJRAm+TiiBEjasb0tttuq/leL4VAfyCgctofKPdtGFICfYtnS30bY4wxQraS0fgPHjw4jBo1qqVhy3Mh0CgCKqeNIlUOe2NUopQjKopFPQSoXGlZeOGFw/PPPx/ee++9oGxMI6P7gURA5XQg0e952BoJ9ByzAXMxfPjwqrAfeughUwBZ8ypLehAC/YxAtjyqnPZzBvQwOI0EegjYQFvP9rKIj0YBA50rCj+LgMppFpHyPmskUN68yY1ZtpeVfc51JEMh0M8IZMtl9rmfo6PgaiCgkUANcMr6Kt3L0iigrLmkeKmctkcZ0EigPfKpKpbeq/Jr1Us9CIGSIODl068liZaikUFAI4EMIO3ySC9Lo4B2ya3ujafKafnzXkqggTxiL77vz9ehrNEBW3HFFQO/FVZYwa6j25BJfyCgclobZZXTAnxib1JSA4E4lOUcRWXkyJH2q2G1a1+BjePEVdL/CDj+KqfF2Kuc5mOjkUCBcsSY3j+9q1h4atjSqzQCQ4YMsdHAsGHD0sa6byECKqc9B1fl9HvMpAS+x6LqjsafghJ1Z5W5HuojwDwwipPht6S1CKicNo+vyum32Gl3UEEZgosnDrEL3sq4FgIoAF9DqWVP73qPgMpp8xiqnH6LnZRAQRmih8VCp0QIlBkBldMy5057xE3TQQX5pK1tBcA0aCz8GgSql9aEc+8AFH4haCTQuzIk10JACAiBtkZASqCts0+RFwJCQAj0DgEpgd7hJ9dCQAgIgbZGQEqgrbNPkRcCQkAI9A4BKYHe4SfXQkAICIG2RkBKoK2zT5EXAkJACPQOASmB3uEn10JACAiBtkZASqCts0+RFwLlQ+DLL78sX6QUo0IEpAQKoRm4F59++mngEEve74MPPhi4iCnkrkRgjTXWCEOHDk3S/swzz1jZPPTQQxOzW265xcyeeuqpMO6444bnnnsueec32Jl22mnt8bDDDgtbbbWVv9J1ABGQEhhA8IuCdtK6Sy65JDz77LNVv0kmmaTImcyFQEsQgAjw1ltvTfyGqgK5/vrr7crf3XffHWaccUb7JYaZm0UXXTRcddVVZkoZ/+abbzI29DgQCEgJDATqDYY5/fTTh1lnnbXqx+jg8ccfN4bTSSedNCy++OLhrrvuMh8ffPDBsPHGG4ejjjoqLLTQQg2GImtCoDYCyy+/fHj55ZfDq6++ahZvvPHGsNNOO1m5e++998yMMrjOOuskHp1zzjlhvvnmC7PPPns4++yzzZwRxJFHHpnY8ZvXXnstbLrppjZKWG211QLlWNJ/CEgJ9B/WPQ6JynbhhRcmv8ceeyx8/vnngYoywQQThOuuuy6svvrqYc011wxvvPFG+Oijj8Lll18eTj/99LDrrrv2ODw5EAJ5CNCDR+69997w1VdfhRtuuCFss802Ya655gp33HGHmVFW09ThF1xwQTj44IPDWmutZXYptygM77B4OIwI1ltvvfDuu++G888/PxDWIossYnbdjq6tRWDs1nov33uDwCmnnBImn3zyxIt99903vPjii9YrQyEwNbTsssuG448/3obrDMeRa6+9NswxxxyJO90Igd4gMN5441lHgymf6aabzrxaeOGFred/8803h1lmmcXMlltuuSSYE088Mayyyiph5ZVXDieccELuGgGWH3jgAVMurCEMGjTI7J955plWnjfaaKPEP920DgEpgdZh22ufr7jiirDMMstU+YNimHfeeU0B+IsFF1wwvP766zYfi2KQAnBkdO0rBFZaaaVw5ZVXhskmmyywUDz22GMHzHbbbbdA+WNUwPTlJ598YkHSoCMTTzyxXRkJ5AlrXgjTnml5880304+6byECmg5qIbit8HqeeeYJL730Uvj666/Ne4bTjzzyiK0NtCI8+SkEQIB1AaZyLrvsMpuOxIxRKI34GWecYdOSmLmMNdZYflvzilJBWBf4+OOP7ce0k0YBNWHr05dSAn0KZ+s9W2qppSwQ5v19fhYDFoglQqBVCAwePNi8ZvrG5/5pwBmp3nPPPYlZT8Nn/h8599xzbXTB174WW2wxW+PqqV+y3xwCUgLN4dZSV+wAKpJxxhknHH744WGHHXYIU045pS28HXfccVaBarkr8k/mQqARBCh36667rk05pqcb2aSAMCqoJdmyyfOYY44Zpp566nDRRReFffbZJ7D2wA4jzhCws0jSPwjoy2IFOFNIfb9+gZUBNWanBdv2ZptttjDhhBMOaFzyAi87fnlxbkezTsGZqSAWh2eYYYYwxRRT9FtWdAp+vQFMSqAAPRWOAmAaNBZ+DQLVS2vCuXcACj99XrJ3JUiuhYAQEAJtjoDWBNo8AxV9ISAEhEBvEJAS6A16cisEhIAQaHMEpATaPAMVfSEgBIRAbxCQEugNenIrBISAEGhzBKQE2jwDFX0hIASEQG8QkBLoDXpyKwSEgBBocwSkBNo8AxV9ISAEhEBvEJAS6A16cisEhIAQaHMEpAQKMhCSLP+MXoEVGRcgAG7gJ2k9AiqnzWOscvotdlICzZchuSxAYNSoUVICBdjIuDwIqJx+mxfiDiook/QShgwZUmoSuYKoD7gxfCxQAms00PqsUDltHmOV02+xkxKoUYZGjBgRqGQ0aJLGEEBx0vgPGzasMQey1WsEVE57DqHK6feYjTU8yvePuksjQGP2wgsv2IiAXgMy6LvP5qXtdfs9ivL555+3TwQOHTpUCqCfC4TKaWOAq5zm46SRQD4uVaYUHuYPufKTVCNAI4TQ+/d7M9BfvyJA2VQ5LYbcy6bKaTVGUgLVeOhJCAgBIdBVCGh3UFdltxIrBISAEKhGQEqgGg89CQEhIAS6CgEpga7KbiVWCAgBIVCNgJRANR56EgJCQAh0FQJSAl2V3UqsEBACQqAaASmBajz0JASEgBDoKgSkBLoqu5VYISAEhEA1AlIC1XjoSQgIASHQVQhICXRVdiuxQkAICIFqBKQEqvHQkxAQAkKgqxCQEuiq7FZihYAQEALVCEgJVOOhJyEgBIRAVyEgJdBV2a3ECgEhIASqEZASqMZDT0JACAiBrkJASqCrsluJFQJCQAhUIyAlUI2HnoSAEBACXYWAlEAfZ/e7777bxz7KOyEgBL7++uvAr9Xy2Wefhc8//7zVwZTK/9IogUknnTTwHV//8XzggQeGb775plSAFUWGxn/ZZZcNs8wyS5EVmQsBIdAkAr/73e/Cr371q1zX1Luzzz47fPXVV9Z+PPnkk7n2igz/+9//hn333TdsuummYc455ww33nhjkdWONC+NEgDd008/Pbz++uvhlVdeCRdccEE45JBD2iZD/v3vf4e77rrL4t+RJUWJEgIlReBPf/pTWH311ZPYVSqV5L7ezbPPPhsWXXTRMO6444att946/O1vfwvrrbdePWcd9b5USmDyyScP00wzTZh++unD2muvbffvv//+aIDvuOOO4YorrkjMd9ppp3DppZdaT2DxxRcPZCzy1ltvWe8c5UIvIf2O3gI9iHPPPdfsnnfeefYeO/576aWX7N3xxx8fGJnw22677cIHH3xg5v736quvBuKEbLTRRnZ9/PHHw5AhQ8wN/qEgkLPOOiscdNBBYdtttx2tZ+Nx5J3LE088YfE588wzR0uD23F3nu6seZF/2Hv00UcNB0ZgCy20ULjlllsClWiLLbYI+++/v3kFDqTh008/tXf0yPbcc0979/zzz4eVV17ZemDzzTdfuP76680czHFzzz332DN/e++9t5n1x7A+CVQ3DSPQ3/XKI3bYYYcFPv6OUG8oN//617/s+bTTTrMZAR5ee+01661PO+20Ya211gpvv/222aGsPfDAA3af/mN0QJmeffbZzX/qSVbwf5VVVgmU8RNPPDGMHDnS6tntt99u9eKLL74wJ1xpLzBHttlmG4snceX3m9/8xsz5y2svHnzwwSr77g7zAZdY4Ushk0wySWWXXXapxEa5Ehu8ys9//vPKbLPNVnnvvfdGi99yyy1XOfnkkxPzFVdcsRIzsBLn8ugCVP7zn//Yux122MGeR4wYUfXu6aefrkRlU9l1110rcbrJ7MaCWMHfq666qnLhhReauzhMrPz1r3+1+0suuaTyz3/+s7LIIotUYgOYhM1NbBwrxx13XIU03H333ZU4r1iZccYZK2uuuWbljjvuqBxwwAH2Lo5yKnF0Y/7Fnkvl73//e5U/Hn/SEAu4vfv9739v9g8++OCqNKQdujtPt79z81r+EU+wjpWoMnz4cAsrjsQqcWRj91G5Vp566im7/+ijj5J0vvzyy5XYmFcWXHDByvrrr1956KGHKscee6zZixWqAuaEGyuHRQeMeOb35ZdfehR1LREC/Vmv0sk+55xzrK5jduqpp1oZOeKII8wK9eTPf/5zJXaczDx2TCqUScotdQJZZpllrM2gXFG+oiKpXHfddXb/xz/+sXLzzTebfcpkVlZaaSWz94c//KESO4LWLmAvdj7NPHaKzAlX/I4dQHum3McpJGsvttxyS6sDvChqL2KH1OzGTqD5w5W2BvOBFnp2pRAa0Hnnnbey6qqrVmjUaaT50bhkpZHCSoONn0suuaQ1SN4gXn311VYgUDiuAPCfjP/FL35hQdHYkeEoARq4PfbYI4lCHC5avBKD725o0IkvEnvDVQUGM+ISp7hMCWCPBjQrHkdwQBEhxJ/ntBKIvZcKhfL++++vxN5NXeVQ5F8cnVg8P/zwwyQq2KUiIsSXeHvB9orlyovwwSn20BL3KEkqNXjiF4ocifOs9ox9KYEErlLd9Ge9SiecTgPl4n//+19lq622so5WnAlIynUcDZsSoLF3+e1vf1v52c9+Zo95SmDdddetxBGwW6+cccYZlbnmmit59hvKp3dUMKOz5/X4pz/9adLho+O32WabuTNrQ+KowZ5RWLQTSL32gjR6Ws1BCf5KNR3E4s9NN91kQzLWBZZaaqlkmBiBa1iYbmBoe/jhh4eZZ565yh3zfbEXG6ISsCkMf/nxxx8HpqOy8txzz4XYy08WrNdZZ53wxhtv2JAxa9efX3jhhRAbwBAbUDcKseeQrBcw/BxzzGLoY+EL11xzTYgFxqa2GIamhTlQhs9RWdpQNm+Ym7Zf5B9D4FgxwsQTT5xYn3/++W1NBoPNN988zDTTTOEnP/mJvWcIzjQd01wI02DIdNNNl+DDsBx/keWXXz5EhWpDfOZaiYekfRHoy3qVRiH26q0cMgXEdEwckYZrr7023HfffYF3c889t1mfY445EmdMzTI9WSRM98aGPymXTIlSn7LCNM+Pf/zjxJh6Sv3+5JNPbOqJaWY2p3ClPiDUN9oQpqWy0kx7kfWjv5+LW6L+jkkmvLHHHjsstthiSUOTeV3z8ZRTTrGMyttNEId91pBtuOGGIfaAE39o0GIPIHn2GxrBffbZJ7z55pv2YycBDRrxK5J55pnHGkIqDRKVfXjkkUdsTrDITdqcxhYlEIeLVhCzCoNF8zvvvDNQ0G+77bYQp4HSzke7L/LvBz/4gVWMtBJB+U499dTmBzjSoN966632zLoGldPn/b0SYMfxwS67LBDivckmm5ibiy++2OZx7YX+2hKBvqxXWQBizz2cf/75gTVAXw9kbh1zl1p1zu34dcoppwxxtBDo3PGj0UbBZOWHP/yhdVTc3Ld4jzfeeGGNNdYwd3/5y18sXnGWwqzF6VG7Dho0yJ0l12bai8TxAN2USgnQg37ssceswbz88stDnM+rWvVPY0Rmodn5sbeXZ2/MTjrppBDnEXMbanYRsAiM3TgXblqeHUmMQFhEygoZH6dmbO/wZJNNFhitsIBUSxjBIL4gfcMNN9gzi0GNCL0fFllZbMrbqUDvJU4dBRaNkYkmmqimt0X+xakbc3fCCScYDjTuNPQrrLCC5UFcUwlUAAo2Aj7HHHOMNfIoTeLIaAc8p5pqqkD+sUiMQnChEoMZW+9Y8JeUG4H+qldZFBgdx6mYENfRrPNAPeXZG96s/XrP+BenMa19YDS68847h6OPPno0ZzT0tBUoCjpt1G1GvmONNZbVqzjlFHbffXfrzEwwwQQ2+qBzxkg/rlea/ygu2iA2jDTTXowWqf42KMGUlEWBueeY9uTH82677VaJw7LRohinQRJ7aTdxJ4qZ+9w+DmNP1OanY8Np7+JuGPOPeUbCOPTQQ20OkLlsFi+R9JoA4ccdP0l4zHM/88wzZi/9x/xgbGwTo9iwmhtPF3OSCOGxkJQnHkcWZo888khzzyJznNqytQR/72nGb+be3dzT5n67eZF/2PP5fvczVpRKrBA2f/rLX/7SvGJthPeYx4pSYTGNH8Jcv6cROyywI7Hht4V+XxDGXxaTsaM1AYOodH/9Wa+yiWddirLBBg+E+sKzb5BgYTg9x089ol4irAmw0OoLw9TtqMysjOIHvzirUImdFLOf/mMBmLJMGeZH/Y677BIrLN7insVlJHaK7Nn9TV9ZO6zXXsROq7nnWhYZg4jEhLS9MDURFy5tz29PE8NIgCkQtH+RsN2U3gK94uz0TJEbegoMQ+PiU5hwwgmLrA24eaw81ounp95MPBlVsVWUtYH0+sKAJ0wR6DUCra5XvY5gDQ9o2hidMmpm7Ytt0EXy4osv2itGzen6zQxBXKy2dTKmo+Kmh3DRRRdZW5P2izU6RgJxh5wZN9NepP3rz/viie3+jEUfhMW8PfN7zYjPbddyi5LwufJa9tLvWGjOW2xO2ynD/TjjjBPSi249jROVozfuexqe7PcfAq2uV61MCY3+oJx5+7wwsxtIsBO3Z4e4U87OxPh6xAILLFClJNwvNkHEkbc/WlvR0/YicdzPNx0zEuhn3BScEBACHY4A6wOMCjggSkepU0VKoFNzVukSAkJACDSAQKl2BzUQ35ZaYc6fnQQI9/wkQkAICIFORkBKIJW77L9nGyT7ldk+CfeIRAgIASHQyQhoOiiVu5wMhEY2bgE10in2Kqd3CqSs6lYICAEh0BEItO1IwFkqnY2PK5zgCAyYe+21lx3r5nj5r3/96+QgWR5rJm4iD46dEOSwCpQSbJWMvD1mDktpOhzuMcPNaquthnOTUaNGmT3MEU4Ww2DILgVOznKoJOvGLGb+2HKZDY/nSHxnNjkEw1F6/CX8LHsolgjH/WDnAt9mYLsqwlY2tr3hni2vzsjKUXlOWWPOjql4VsHse3xqsZGaRf21HIF0ueckOCfg2ZXieZQtC2nzdJnwsuEUIByU4lAf+U6doRz4dCgn0t2+XznRnvabhPuzl1PKD2XP3XBfi00zy2LqYBaVVxhHN95448R/wuFkep7UYv1spD4VtQGExSl5r48cloRVgK2pxAeckEgkac9spU5LrTzh4B5tGflBPWX7KdteaUfwm3bN66qzIaf9bviecwLtKBySglyNwxz8IHeC8AmB4Y+DHxxkiplg9zCTQtDGga481kwOe+EGwR5kUxHECuaRosHCgBWUH+FhVstN5BAx9xwai8rBDqHAOph2Y4Hl/BE+YcOASFjx9LQ9P/zwwxUOwvAuntw15k8IqzjoxiGutBAO9iCJi/S3FQi5YkE2Kxw+4/AMh+uc1TSe8jWyLAi1SBtEeeDBYTKPD/754Z00u2k6XN23FgHKPYe6yFfKN+UZ0jPPoyImWcy9THidgZTQyzyHrbiHYBHmW8pBbGQsMZQH3rk73mE/G6Yf1qKcxobRyh9sv5RfwqL81GLTzBLYOZJF5ZVDYpTryy67rBI7MlbHIq+WO6u6FrF+NlqfitqAeL7A0jU8MvCSbtoWwooK0YgnIaODPZhDaGkiSo9crTxxv6inzmxM/oAhWFLv7733XmsLeIY9tRkpDYtoTyNPZeA0sAuFLK0EyBQXWAI5XUjFAaw81kwywysEtLIoGOxi7gL1ND+XWm44IUtldcEupyG54i8soLBxUoiyUqtycSI37S8MnvgX6TaqvEnHjVPH0GqjMCic2EcxISgPlJPTRVOZXGBq5PS1x4eCnMdu6vZ1bT0C6XLPqVgaHDoLnke1GGbTZYKYUga8zEe6Azvl7SmgHPi7NEMu76kbaSWAv5yAjRxSVrZoDGn4URYuNKKUO5e8k7MoAVgCqBuwAFNui8ordPB01OLBLffSGIiLlADKkngiadbPRuuTOYx/2TYACnnqhcs777xj6YRVII5gjI0ARUD46XbH7RfliSvUyA3mVk2JwJzqSgBF64JCoMPZjHTMYbFYwKqEaRgXDjLxMQiIzopYM+G2QSBQY5gFGyYcOo1InhuG5RwscYkNd+AH4RsSK7MNtwmHU4hMzzQipCHtL8P3WFmNaA/iurRAkMdw0QXeH05HI+CAsOYB2ypDTwRivbTEI/XJo7ORggvp22CDDZJ3uuk/BODU4efCtKULDLOUBwgL+WIWhH+NCOtgacJFygflB6ZOpgk5DV4kPqWUfs+0CAes4NGKysA+CJN+X3TPFCpTJMSfKZDY8zWr2fKKIdxakdokwDPGPn4+YJTHtcU0FVOheYdCe1Kf8uJM3YfvLF3PsAe3FumO3xIJUbEF+Mx6cpre66kzqOLnj370oxB7/tyazDrrrH5r79xNYtjgTduuCdRLH8e2XSA0o0DVY83EPgUravswePBgd173mueGighthAufn6SwIrxDKVHYOZVIxW1UKMg+t48bKiiVFdbErBAOlBCQWxE26yQuuHHh60q+NRZ7zggKlW/sKbk1YwGtxW6aWNRNSxFgfYl8Jc840UunxaWnDLPujtP2fLnLxRsUSNMwr3Uan3JCOWSu2oV5fNg2WbNi7SJO3firmlfqUhw1GDEbDXT8nojZz5ZXGl/qDw0h/kPxXhTHWqyfPalPeRFHOcJ27HUGrK688krrqIEJNPTUQ8jreG5UvD57PuAOv9NMx3HUkXjHu1qKOrGYc9OxSgBmQD4/Bzjwii+99NK27RMM8lgzMaeg0cjRS29UitzEoa0VBnoEVFhobWHodGExD7f0wCgkjQq9Lhay/vGPfxjrYRzaWsHIjgLcP3Y8sejHDyEstr/G4bw9s2C1/fbbW08qThfZqMRZSWFQ9M/pYTkOaWuym5qH+ms5AnHIb6yv5Cm9XMqXC+UqTg01zDDr7mDTZKRIeWVBmHLFyI972GUpM0Uy/vjjB5RFmneKxWHKGnWJxU122jUipIf44576QSOdV17h+WLBmgXboUOHGtf/LLPMMloQjGTiWkYh62dP61M2AEb39M4ZDUATQd1kVM/IxNsR4omSiFPWWeeFz+CJ35EozzpxjLwZTaRZVaHaBi/agjhlF5ZYYgnDDsWT3SBQGBAvmplDKoMbWCrTX/phgTO9JhCHjzY3RxJhCWR+DmGhEzP/MXePMPeGGV/FcomFOJlHxCw7H1jLDXPtsXCan/jDnB3zoO7Gw2c+MX5Mw4O0a6zI5s5ZQWMlt2fmWhE+V+nu8Zs51Kxkw2FOkvlihIUm3DFXiT8+l8g8K/FxvyOlrjGrenxi7yuX3TQbtp5bhwDl3vOHK2sCrHV5Hvk78jc2Qok5ZYkygbkLGwb8GTZNFlndPf7GnSy20IkdFlBdfE3Aw8wrpywI44eLr8f5c96aQGz0kvAJ07/+l1deqRPYYeOHC+sa2TWBeqyfuG2kPnkY2TYA8zidWhVvvizI51rBkg0WCIv3PGOellp5wjof6yqeJ7R3sPL6mkC6jYsjQvOWdSLs8xXARqUjzwlw4Gu//faz7WkRkNF47Ok5sYWrWdZM/GxU6FnFyhLopWTnDRv1I88ePTRGOfjr5FZ59orMmCICA4bQbEFziQXHppv4qEZ66Onvde1sBOix0hNn1IewVuQ9/YFMeVF5rRenRlk/e1ufcB8Vm9XHvuQZoj7CcEodnWKKKSy5zHAw6qD+0rbwLQ9/h4X4KUwb3RfNDmQx69iFYRJa9BETMqm/WC+L4pDNiJ4+M2WTXvzuqXsqdnrRyd2jqFg/kXQnAqybpSXduKTN+/u+qLzWi0ejrJ+9rU+4b0WbQn3Mm+Yi3bzLhsm6AwqcReRGpSNHAnzpiu+G9gSIRgGTPSEgBITAQCLAqIhPfcbt2z1aTyyKc0cqgaLEylwICAEhIASqEejY3UHVydSTEBACQkAI5CEgJZCHisyEgBAQAl2CgJRAl2S0kikEhIAQyENASiAPFZkJASEgBLoEgbZQApEBtIri1o9fcxLPaWr9yolfBMpW+EvYRjXffPPZqUfMnYoXnhGXvffe2/zxU7WcxGNfLj++L8oReCRLdctpxUsvvTQQPw8/fcW/SBCV0Myy9TISsJlfTiHLyWaXSIZl/kC3m5Unn3wyLLvsspYewoASuyhcjpNjp4hqllONTn2bpqJOp499z9AT7L777glFsJ9ChJKDuIClpJwIkJfpssg9ZRWh7HhZ4kxNPGxo5pTJNDU69Adw/8RDinZ2hNO11CfqBbTtnEbPSjpc/GKnnkse5TLvOOEKbxFcR/gP/88bb7xhztJlEgOvc9wXlWPepQWKbOKM37jnlC3CN4Q5kYw5YafrHe/S+EGD7VLkjvrwf//3f27N6qfT2zebjqK2KAmkL24aPVU2UPYid4idgIucNnbal5OvBx10kEWniOKW07qcVoQ1E/eRh9v8iFwkdooy4laJHCXmByfweObHKUQ/UcwJP5gMOekbD1+Y3SzVLSccYQblNCU0u5za4xSuU+7GSmLsgYQVG9AkbMKJysHCxH+XeLTezJzh082xz+nASJZlp4thT4UKuijceOAn8TtLNVuLOtfTFxWAnbLmZCgnSZ2hEjpiBEZS8OJEqqScCJCX5JOXRU6CU1bJS+oQNMWcXoVtl7zkNDhl0k8QcxIXc2fppOxxIpfywylY3lE/skK4kaPKTjFHHiOzB1NuLcpl7ONf7BCZn9TdSL1gXnuZ9HDSdQ439SjVORWNPU7x+gnpqNzsNDTmpC/y/1fWXXddOzHt4VCXMQM/mEaxi3CKusgd9aGI2biZdNRqizyefXEtPW0EDQ8Z4UKGOEVtEcVt7NFYRsUTte7MGnMoIcgoKoT7ASe7UyXQ2KI40rzfFHgadoSMhIaWI+/8aCSpWC7wmtNYu6AEyEgoK/jFXpHFKxLLWYXDXyodFQQz7jHLKgEqGwUvEoaZ1/GkoFU0lB2SDdePledRzdaiziV9VCqUEWkjTkhaCRAX4sl7KQGDp5R/RY2O0zdEXp4k3pT/U089NVECNJiUN6cNxyLfGKAjE/eoVyIZor3PoyZIh+sdDpRNLcpllADfBnChzrkyKqpztcqx+8OVONx8881mRAOOv/hPR4krEkcdRmGd7pDFDygl5dsxw24td9QHFIe3D3T+nMqmmXTUaouIS19J6aeDmMpheMg0CtMp0B4zLREBKKS4haoBgVWPoR6/WBCNShpzhnYwMPJlolgQjCgLcyR+DMaGp+4OdkKGpj6EZHgH1QK/9JTSt66r//ED/zjV50PotA2oZSFtu+GGG2xIDjVzHt0sx8OjcglO7DbzzDPbF6Xqffoyj2q2FnUucYNplE9sMjyfbLLJ0tE1EjqGteQBcZC0HwLkP2UpXc7mn39+o1AnNZC28XU9aJApmy5QSVAXOLnL+1oSRyBW5zisyelVTrymKZepF86S6XU1fbCTsImHT/vm1bl65djjx7TnKqusYtO6gwYNMmOmfkg/00nUy9jxCkzFpgWm3jxW0nrumI729sG/zOf+9jQd9doi97e319IrAVg2acBhOYwaPcSpIMs0ChLcOXkZxTwfQkGBC4Uf85GbbrqpmdN4Mt8N1zqfo4OK1gVFAz2vu+NTcSgK5+eB9pnCyS9qd3eWe429EGtUmbvnlJ/PvaYto+DiSMd+6UqXtgM7Y5qWGj4X4oEirCV5VLP1qHPBBbZDPscH/XVaOKWIMkzzzqff6778CDRCp055hJMGhe8SyQRDJDCzcki9ouEsEubM46jaOk90RGDtrUW5jD++BsA93Dixx56wkubVuXrlGH8Q4ko94DOcNKoLL7ywdfJYq6CzE3v51rmhY+NCvYKZM0vJwPta7ngfP16VtA+0VWnpaTrqtUVpv3tzX3olQEMa5wFtcXaGGWYweuY45KpJccvogUJEhkGuRE+aRWIadhf8YMGIj8mk+X2gamXUQc+HnjB2KNQu8A5B88oPOtta4uFBY41dGlEkvaBGeCgjFuG4zxMWqKgkjBgQKGUjS6P1tvLsu1ke1Ww96lw+IsPiFjTSKEcqpAvhspDtCtHNzz//fPuGqj/rWl4E4pSHRa6ITp16Q8eEj7lEBs5AGUIh0DOHqpg6EacfrTz6RopsamlEKeO850rHgTpcRLmMe3rQLMxS76C0xr5LXp2rV47dbZw2MuU17rjjWtzZ8MBoBp5+Rii0FXwHgY4aQpzj2oillw4mpHD+bRKuRe48POq5tw9ZIrmepqNeW+Rh9voaM6zUwrw3nziMCbUf83YsYrGwxfwec34uzFPz2TuEuX7euzvmEBGoeKGo9QVhqKTj0M/ssSYQe/j2KUp3x3wpn4pDYsGsxIbc7vmDorrWmgB+ESfiwY90cIWiGQpZXz/gu8XQ+CKsVbCAlRXmbImTryMwT+lStCaA/54Op5rFTRF1bjp9LA6DdSyIyZoA8XdhAczXBLDHpygl5UEgnZfEKl1WfcHRy0aaTp3y6eL0x5RVNkdgn0Vl5u/xH7uxgXfrdsXc/eVK+WGOHMmjXMacNQH8dXfc+yaEWukoKsf46ULdZqHZ/aasEh/aDeLv9Yk2ATvDhg1L7Lobv9IWFLmLvXxrW4ro7ZtJR622yNPXF9e24Q5CA9MjYYiENEJxSw+EraIMRdNzoOZBnT+0Pr0Gwqs3917LK3oWDEMnn3xyo38lDZjRW+ipkGbiRQ+Gnk2R1KOaxR1p6w0VdTps5laJF5/6k7QHAkzXMELuCZ068+T07FkP4koZig1pjxKMG3rXlGHvKbOVmelVpmSYusH/7GizKJBGyjFxZU3C485UMsIHZ6BpZt2C9TbiQBpZR4iNa1WQTOWyXZrttXnuqI+NxrnK4+8eaqWjr9qivHAxaxslUJQAmY+OgCsBCrgrzdFt9Z1JHBHYd1TLQjvcdymTT/2BgCuB9JmZ/gg3Lwxfb8vO5/Ols5tuusnOGeS5a2czKYF2zr2CuPc11WxBMDIWAn2CQNwSbQvJ7OKR9D8CUgL9j7lCFAJCQAiUBoHS7w4qDVKKiBAQAkKgAxGQEujATFWShIAQEAKNIiAl0ChSsicEhIAQ6EAEeqQE2GJ16KGH2lFrjlvHPbW2lcqZOdOse3nseWy7isRQyUlE2Dl5ZssWu1iuuOIKgzjNuMfWKU6xsj0L4eBWEfOfWcj5y2PgxFotFtIipsV0WjlMxUlEtn0ibC/LY1qM+/7tyP3mm29uaYW5EcZGBAxgNoSt0fGLe+7tXfovy1AYSfHMPttgkbiPO3GPP34Kup47D6MRVtMi7IvKRZF5rTjVwpdDPM5+SnlxRlZPg66tQYAy5mWT68Ybb2wnarOhuT1nm/VndtYgRSyi1HfKP3UdYQs19Yh6kZUtttgixLNAiTH3mCGc7J999tmtjtFmcAgM4dBoOv7cc5KYcDgMSntCe8ZJeI8DcXI3aTbULNMqi9rY8/pclEaLSFn/enLYAMY9DlhAHBUbbDtUwT2HhjgUBdEbPw5MpImT4ulWCwZCqoiDEbFhEIE2NszIwVM55JBD7F08ZWvvcRMzpIrNshaDX1E6OADGoaksAyf2i1hIIUzjwEoe0yJp5eAHh7U4kIY9DtUgRUyLYEK6YXWETAuGRNwRDodTOCAGNmAKdhwmywrhckALiZXK/MNP/EA4lBMrjeGPnxyCQeq5M0vxLzaw5ieHaVzSrKa1sC8qF0XmteJUC18wy2Nk9fjq2hoEKGOUNQgYqTP777+/1anYiFYF6Pb8oBd1D3eRiromiyjkathzQre7777bnqlnWaFsp8nmuKfMxLM45iaehDYCRg52xY6oOeegKGFQD70Ngjk0KhBrz+LpaCPIox7G7armBvscYqOep9lQqSe0gQjp9QOZmNdiSjUHJf0bO4LfsJx77rkhVsKEQOq0005LqBM44MFxc+SRRx6xX9pjtDK9eY5Cs4URLcy+YDQpx9EjNbKRurn25uDGhhtuaAc4oEtAU9PjRtvH07VGAQEvSSyU6WBGu4d36KmnnjL+IQ6EHHXUUXYUnl4q/nFoy+Pt/CH33Xef9eo5Ws8hs8GDB4fY0Bu9AwHAmwIVBHw+EGFx6ArZeuutA9QWHMDhMA6Spl2AUIrDNfCnQ2cBJQb7kmNja0fbsY8Zx+trieMIl5ILmEZFbGnhWHzenus8d+6eK+mCK4leEnjDn4IZAnZF2BeViyJz8/C7v7w45eEb64/xJUH/gdDjQ+i5ZYnu7IX++hyB2EEIsXE1AkcOfFGH8g5SQpdCnfBRKhFhlI/b2IhbvBjJUnc4sIbwzssXNCo85wncPLHRT7iG4P6Jp+lDpJoPUWmEnXfe2Zwxan3sscfsnroIPQz13Hv6vIiNu/GEQSGDxJPTIXb87MpzbOCtnlNXEQ5tpYX2wYnwMK+VRkjxyio9mg6CdXOeeeZJ0sIHV9IfoUhe5NwwjRS1tjXsvOYEMALQCIWJRtgrdx6bZT0GP/Mo81eLgRNFw2nirNAIEq/0KeM00yIKgSksDkeh8Gh8kdgzKGRajL3Y5HQlBQdlAB9QpKy1BhuGRoa1DF1rCRUFJcEwNi31GsMid2k/SG8Rq2kt7IvKRZG5h1kUpzx8wZuT10WMrO6nrq1DgDpAPaWzU2tPP1M58O6kDyrWYxGNMwfWiKJYyH+e82SBBRawugn5G79ICZEoJt65oBB8Oom6wYn9rEBOmVY21Hk4kjgRjOSxobofpIdDbvBpUZeReml0t2W79kgJACRz2C6RdzxEfnl/LLzGD7tYDxzt7wIzJgLoLowsABJhTi/LZlmPwc/9SV9rMXAWsZDWY1okbvQuoKOGcZTCgNRiWmS9wHtGKAvSTY+XhpJCxOgGRQChVZFQmJmrpOClFRT28X/qqafOdVrLXdYBvaU4bB6N1bQW9kXlosicMGvFKQ9fRkh0DGoxsmbToue+RYAvjFHuyQtoFIpG4Yyk6WD5qJ5Y1GMRpdxTXuidI2lqaTNI/aGEoCrht+WWW9ob6lCaaRcGXEYHCHTVPqI1g+/+UFQ+isfIO6ZO6cJogvTSWXM2VHfPjMiuu+5qswRuVi+Nbq9s1x4pAbQ/CzE0YgAzdOhQ4wGplygYL+PHWIwvxO2S4Qwv8Q+JH60I22+/fTK9lMdmWYvBj8Uopll8kdbDYdEmj4GTQooSIw5ZcbMipkWmJuixMKVFw05BIdx6TItnnHGGuaNwUWjp1bJoDT87jTsLx0w9FQnDZCoLQ2IX4sB3DUhjulfj77nmuUu/T98zXZfHaloL+6JyUWReL055+DbCyJpOh+77HgHKmv/w3Ts12ZCYjqQh9Y4e7+mZ12IRxQ7Kn947lNW1hPLvSoBFagRad5h4afCpj2yuYKqIcgvdA5sxsgI9PYyluKFTQhuVHoGkyyH13dNLPYf1lGmptDSSxrT90tzHhDYsLNrGBtIWRmICbIEzAlOXPS8Os+yLRATEgi+LLggLwrExtEVM/GNRB4lgJmydMXMSNsvYa07s486Z/2Dwi1MLtjDkX8Myj777y2PgrMdCGguZ+Ue8+DnTIiykbsYVhkIWj5AipkX3K/ZGErfxe6/mJhb8ZDEKA5gW8xaGPdy4vmHuWHwj/DjvaVewcGHBmrCQIncsaqWlHqtp7P0VYl9ULorMa8XJ3znGjm9U2oWMrOl06L7vEYgdnKTcki/UPTY5UPfT4vbizjozjo2xuWNhGKFse77iB18wQ6jvcQqo4gvCfL2OTQUwnxYJ5YLNKC5ROVVip9T8x2/aKdhCqQfcwxqM8HU+4sDCcBypGHuvxwk/2QCBECc35+psqNQTnlkkdyE8FoaRojTay5L+scWzRxI1ogEYh1E9cldkmcyhgSFDGhEaA+z7pxZREhQ2GjV2sxC/PInshBUaUG/8eMavWkKhprAQRqMS1xMqcR3CrFMw+awkuxLYeRAXby0O9cJtNCzskV4Ke39IEfYeD7DKlou+LC80OoSBckHIy77E0jzVX0sRoN6Sh9St3ggKwHcdpv2J08mV5+JOIW8HKI9ZZZW2z30cRVeot30lfZXGvopPPX86hjuIoSar9/U+fRe1eL8LH+hgHz8LURIhIASaR4Ddfnyhi/l+NnBoZ1jzWLrLHm0RdUdlvLLFtKzCXP2BBx5Y1ugpXkKgbRBgrYHtlmwtlwLom2zrmJFA38AhX4SAEBAC3YVAj3YHdRc0Sq0QEAJCoPMRkBLo/DxWCoWAEBAChQhICRRCoxdCQAgIgc5HQEqg8/NYKRQCQkAIFCIgJVAIjV4IASEgBDofASmBzs9jpVAICAEhUIiAlEAhNHohBISAEOh8BKQEOj+PlUIhIASEQCECUgKF0OiFEBACQqDzEZAS6Pw8VgqFgBAQAoUISAkUQqMXQkAICIHOR0BKoPPzWCkUAkJACBQiICVQCI1eCAEhIAQ6HwEpgc7PY6VQCAgBIVCIgJRAITR6IQSEgBDofASkBDo/j5VCISAEhEAhAlIChdDohRAQAkKg8xGQEuj8PFYKhYAQEAKFCEgJFEKjF0JACAiBzkdASqDz81gpFAJCQAgUIiAlUAiNXggBISAEOh8BKYHOz2OlUAgIASFQiICUQCE0eiEEhIAQ6HwEpAQ6P4+VQiEgBIRAIQJSAoXQ6IUQEAJCoPMR+H/gMVt8dewB+QAAAABJRU5ErkJggg==)"
      ]
    },
    {
      "cell_type": "markdown",
      "metadata": {
        "id": "gR4CQNi-PQU1"
      },
      "source": [
        "# Цикл `for`"
      ]
    },
    {
      "cell_type": "markdown",
      "metadata": {
        "id": "u3A617TCPVTc"
      },
      "source": [
        "Цикл `for` позволяет перебирать элементы в последовательности и выполнять определённые действия с каждым из них.\n"
      ]
    },
    {
      "cell_type": "code",
      "execution_count": null,
      "metadata": {
        "id": "d4mM3n2x3279"
      },
      "outputs": [],
      "source": [
        "# Синтаксис цикла for:\n",
        "# for элемент in последовательность:\n",
        "    # код, который нужно выполнить"
      ]
    },
    {
      "cell_type": "markdown",
      "metadata": {
        "id": "TM15amAY35Nm"
      },
      "source": [
        "Начнём с простого примера — **работы со списком**. Представь, что у тебя есть список покупок и нужно вывести каждый элемент этого списка на отдельной строке:"
      ]
    },
    {
      "cell_type": "code",
      "execution_count": null,
      "metadata": {
        "id": "D_evavWTgZAG"
      },
      "outputs": [],
      "source": [
        "# Список покупок\n",
        "grocery_list = ['молоко', 'бананы', 'сыр', 'яйца']\n"
      ]
    },
    {
      "cell_type": "markdown",
      "metadata": {
        "id": "rZdwTtiFq4jD"
      },
      "source": [
        "Цикл начинается с ключевого слова `for`, а затем идёт конструкция `item in grocery_list:`. Этим мы говорим компьютеру: «Пока в списке (`grocery_list``) есть элементы (`item`), выполняй определенное действие».\n",
        "\n",
        "Выполняемое действие записывается на следующей строке с отступом. В случае со списком нужно выводить каждый элемент списка по очереди, используя функцию `print(item)`.\n",
        "\n"
      ]
    },
    {
      "cell_type": "code",
      "execution_count": null,
      "metadata": {
        "colab": {
          "base_uri": "https://localhost:8080/"
        },
        "id": "v08ot1FErHdU",
        "outputId": "8299b4d5-9098-4923-c0be-b0713820beeb"
      },
      "outputs": [
        {
          "name": "stdout",
          "output_type": "stream",
          "text": [
            "В твоей продуктовой корзине: молоко\n",
            "В твоей продуктовой корзине: бананы\n",
            "В твоей продуктовой корзине: сыр\n",
            "В твоей продуктовой корзине: яйца\n"
          ]
        }
      ],
      "source": [
        "# Цикл для вывода каждого элемента списка\n",
        "for item in grocery_list:\n",
        "    print(f'В твоей продуктовой корзине: {item}')"
      ]
    },
    {
      "cell_type": "markdown",
      "metadata": {
        "id": "wNglaWwPrLfL"
      },
      "source": [
        "В нашем случае переменная цикла `item` действует как хранилище для элементов списка. Во время первой итерации цикла в неё автоматически помещаются молоко, а во время второй итерации - бананы и так далее. Вот как это выглядит:\n",
        "- `item` = \"молоко\"\n",
        "вывести на печать: молоко\n",
        "- `item` = \"бананы\"\n",
        "вывести на печать: молоко, бананы\n",
        "...\n",
        "\n",
        "И да, вместо `item` можно использовать и другие слова или буквы. Например, ты часто будешь видеть следующее обозначение `i`. Это сокращение от английского слова `item`.\n",
        "\n",
        "\n"
      ]
    },
    {
      "cell_type": "markdown",
      "metadata": {
        "id": "zdmc7opYsmxC"
      },
      "source": [
        "Следующий пример — **работа со словарём**, который представляет собой набор пар ключ-значение. Можно использовать цикл для перебора словаря и получить доступ к ключам и соответствующим значениям.\n",
        "\n",
        "Возьмём словарь с продуктами и их количеством и выведем каждую пару ключ-значение на отдельной строке:\n",
        "\n",
        "\n",
        "\n",
        "\n"
      ]
    },
    {
      "cell_type": "code",
      "execution_count": null,
      "metadata": {
        "id": "_jI2T1Its0ju"
      },
      "outputs": [],
      "source": [
        "# Словарь с продуктами и их количеством\n",
        "grocery_dict = {\n",
        "  'молоко': 1,\n",
        "  'бананы': 2,\n",
        "  'сыр': 1,\n",
        "  'яйца': 1\n",
        "}"
      ]
    },
    {
      "cell_type": "markdown",
      "metadata": {
        "id": "ht-ZL1ultDPR"
      },
      "source": [
        "Теперь попробуем вывести и названия товаров, и количество. Для этого снова берём цикл `for` и проходимся по каждой паре ключ-значение в словаре покупок с помощью выражения `product`, `quantity in grocery_dict.items()`.\n",
        "\n",
        "Это позволяет получить доступ к ключам (`product`) и их значениям (`quantity`) поочерёдно в каждой итерации цикла. Действие внутри цикла будет состоять в выводе этих переменных."
      ]
    },
    {
      "cell_type": "code",
      "execution_count": null,
      "metadata": {
        "colab": {
          "base_uri": "https://localhost:8080/"
        },
        "id": "1OL2HFjytLR1",
        "outputId": "5e459b51-0064-4293-b5ca-3d384888e333"
      },
      "outputs": [
        {
          "name": "stdout",
          "output_type": "stream",
          "text": [
            "В твоей продуктовой корзине: молоко 1 шт.\n",
            "В твоей продуктовой корзине: бананы 2 шт.\n",
            "В твоей продуктовой корзине: сыр 1 шт.\n",
            "В твоей продуктовой корзине: яйца 1 шт.\n"
          ]
        }
      ],
      "source": [
        "# Цикл для вывода каждой пары ключ-значение\n",
        "for product, quantity in grocery_dict.items():\n",
        "    print(f'В твоей продуктовой корзине: {product} {quantity} шт.')"
      ]
    },
    {
      "cell_type": "markdown",
      "metadata": {
        "id": "Ktw8_aFqtPnO"
      },
      "source": [
        "> 📝 Комментарий <br>\n",
        "> - Обычно в Python для обозначения ключа и значения словаря используются переменные `k` и `v` как сокращения от `key` и `value`, однако на самом деле названия переменных могут быть любыми. В случае с продуктами product = k, quantity = v.\n",
        ">\n",
        "> - Метод `.items()` указывает компьютеру, что мы хотим записать ключ и значение словаря `grocery_dict` в переменные product и quantity соответственно."
      ]
    },
    {
      "cell_type": "markdown",
      "metadata": {
        "id": "71iZra1LwBFm"
      },
      "source": [
        "Можно вывести только ключи или только значения. Для этого нужны методы `.keys()` или `.values()` соответственно.\n",
        "\n",
        "Вот как вывести только числа, то есть первые элементы значений в словаре:"
      ]
    },
    {
      "cell_type": "code",
      "execution_count": null,
      "metadata": {
        "id": "XWeVde4awqQF"
      },
      "outputs": [],
      "source": [
        "grocery_dict = { 'молоко': [1, 'л.'], 'бананы': [2, 'шт.'], 'брокколи': [1, 'шт.'], 'йогурт': [1, 'шт.'] }"
      ]
    },
    {
      "cell_type": "code",
      "execution_count": null,
      "metadata": {
        "colab": {
          "base_uri": "https://localhost:8080/"
        },
        "id": "FBi6U4lTwDbs",
        "outputId": "dee7bc57-3d2b-435d-e741-a974d7333db6"
      },
      "outputs": [
        {
          "name": "stdout",
          "output_type": "stream",
          "text": [
            "1\n",
            "2\n",
            "1\n",
            "1\n"
          ]
        }
      ],
      "source": [
        "for quantity in grocery_dict.values():\n",
        "  print(quantity[0])"
      ]
    },
    {
      "cell_type": "markdown",
      "metadata": {
        "id": "4_7feqZpwM-z"
      },
      "source": [
        "Таким образом, мы успешно вывели только числовые значения, а единицы измерения проигнорировали."
      ]
    },
    {
      "cell_type": "markdown",
      "metadata": {
        "id": "ZlYyb81Cw02v"
      },
      "source": [
        "## Вложенность цикла"
      ]
    },
    {
      "cell_type": "markdown",
      "metadata": {
        "id": "OGkUuMYQw67K"
      },
      "source": [
        "Один цикл for можно вложить в другой, это называется «вложенные циклы» (англ. nested for loops). Рассмотрим базу данных клиентов, где у каждого клиента свои данные.\n"
      ]
    },
    {
      "cell_type": "code",
      "execution_count": null,
      "metadata": {
        "id": "u41BXRvVUxdb"
      },
      "outputs": [],
      "source": [
        "clients = {\n",
        "    1: {'name': 'Анна', 'age': 27, 'gender': 'female'},\n",
        "    2: {'name': 'Света', 'age': 30, 'gender': 'female'}\n",
        "}"
      ]
    },
    {
      "cell_type": "code",
      "execution_count": null,
      "metadata": {
        "colab": {
          "base_uri": "https://localhost:8080/"
        },
        "id": "4oxxC0cRxGA9",
        "outputId": "6c70b5f2-09dc-44bd-859a-bd2c669c28a7"
      },
      "outputs": [
        {
          "name": "stdout",
          "output_type": "stream",
          "text": [
            "ID клиента: 1\n",
            "name: Анна\n",
            "age: 27\n",
            "gender: female\n",
            "\n",
            "ID клиента: 2\n",
            "name: Света\n",
            "age: 30\n",
            "gender: female\n",
            "\n"
          ]
        }
      ],
      "source": [
        "# пройдёмся по словарю клиентов\n",
        "for client_id, client_info in clients.items():\n",
        "    print('ID клиента:', client_id)\n",
        "    # пройдёмся по данным о каждом клиенте\n",
        "    for key, value in client_info.items():\n",
        "        print(key + ':', value)\n",
        "    print()  # добавляем пустую строку между информацией о клиентах\n"
      ]
    },
    {
      "cell_type": "markdown",
      "metadata": {
        "id": "SBUpyj4nxN-M"
      },
      "source": [
        "> 📝 Комментарий <br>\n",
        "> - Обрати внимание на соблюдение отступов слева. Они указывают на порядок выполнения операций. Например, команда `print()` без аргументов с одним отступом будет выполнена после вывода всей информации об одном клиенте, а не после каждого поля с данными.\n",
        ">\n",
        "> - Когда используешь команду `print()`, можно объединить строку, и не одну. Но объединять строку и, например, число или число с плавающей запятой нельзя. Дело в том, что идентификатор `id` и возраст age являются числами (такой тип данных называется int). Чтобы объединить разные типы данных, их нужно сначала принудительно преобразовать в строки с помощью функции `str()`.\n",
        "\n"
      ]
    },
    {
      "cell_type": "markdown",
      "metadata": {
        "id": "d7wydMgfwhXg"
      },
      "source": [
        "## Функция `range()`"
      ]
    },
    {
      "cell_type": "markdown",
      "metadata": {
        "id": "fkMm0-PZwgxU"
      },
      "source": [
        "Циклы помогают выполнять повторяющиеся действия. Но что если нужно выполнить определённое количество итераций? Для этой цели существует функция `range()`.\n",
        "\n",
        "\n",
        "Давай посмотрим, как это работает:"
      ]
    },
    {
      "cell_type": "code",
      "execution_count": null,
      "metadata": {
        "colab": {
          "base_uri": "https://localhost:8080/"
        },
        "id": "UJhTgxAqxdQv",
        "outputId": "d360366f-0253-442d-dadd-205dc794589f"
      },
      "outputs": [
        {
          "name": "stdout",
          "output_type": "stream",
          "text": [
            "0\n",
            "1\n",
            "2\n",
            "3\n",
            "4\n",
            "5\n"
          ]
        }
      ],
      "source": [
        "# Создадим последовательность от 0 до 5\n",
        "for i in range(6):\n",
        "  print(i)"
      ]
    },
    {
      "cell_type": "code",
      "execution_count": null,
      "metadata": {
        "colab": {
          "base_uri": "https://localhost:8080/"
        },
        "id": "VZnOGXlFxx1M",
        "outputId": "db8e4024-2628-4785-9fd7-f7244f68519e"
      },
      "outputs": [
        {
          "name": "stdout",
          "output_type": "stream",
          "text": [
            "1\n",
            "2\n",
            "3\n",
            "4\n",
            "5\n",
            "6\n",
            "7\n",
            "8\n",
            "9\n",
            "10\n"
          ]
        }
      ],
      "source": [
        "# От 1 до 10\n",
        "for i in range(1, 11):\n",
        "  print(i)"
      ]
    },
    {
      "cell_type": "code",
      "execution_count": null,
      "metadata": {
        "colab": {
          "base_uri": "https://localhost:8080/"
        },
        "id": "Vrf30XO9x_cI",
        "outputId": "4a4e78c5-84f2-4d3d-ec39-dbdd37ebf01b"
      },
      "outputs": [
        {
          "name": "stdout",
          "output_type": "stream",
          "text": [
            "0\n",
            "2\n",
            "4\n"
          ]
        }
      ],
      "source": [
        "# От 0 до 5 с шагом 2 (цикл будет проходить через одно число)\n",
        "for i in range(0, 6, 2):\n",
        "  print(i)"
      ]
    },
    {
      "cell_type": "markdown",
      "metadata": {
        "id": "fsvZsV6ByKW_"
      },
      "source": [
        "Разберёмся, как работает функция `range()`. Её параметры: `range(start, stop, step)`.\n",
        "\n",
        "`start` — это последовательность от 0 до stop. Кстати, по умолчанию значение 0.\n",
        "\n",
        "`stop` — это последовательность от start до stop, последнее значение не включается.\n",
        "\n",
        "`step` — шаг, на который увеличивается каждый элемент (по умолчанию 1).\n",
        "\n",
        "В итоге функция принимает три параметра.\n",
        "\n",
        "- Когда передается только один аргумент, последовательность начинается с 0 и заканчивается на значении до аргумента. Как в примере выше, `range(6)` создаёт последовательность от 0 до 5.\n",
        "\n",
        "- Когда передаются два аргумента, последовательность начинается с первого аргумента и заканчивается на значении до второго аргумента. Как в коде выше, `range(1, 10)` создаёт последовательность от 1 до 11.\n",
        "\n",
        "- Последний аргумент устанавливает шаг. Как в коде выше, `range(0, 6, 2)` создаёт последовательность от 0 до 4 с шагом 2.\n",
        "\n",
        "Эта функция полезна, когда нужно итерироваться по последовательности чисел или при использовании индексов для доступа к элементам списка.\n",
        "\n",
        "> 📝 Комментарий <br>\n",
        ">\n",
        "> Если сейчас непонятно, что за функция такая и как она работает, ничего страшного. Позднее рассмотрим тему функций и тогда всё встанет на свои места.\n",
        "\n",
        "\n"
      ]
    },
    {
      "cell_type": "markdown",
      "metadata": {
        "id": "9NtKH_oay7aR"
      },
      "source": [
        "Усложняем немного код. Сейчас будем использовать функцию range() в связке с len() для итерации по индексам двух списков и вывода соответствующих элементов в одном цикле.\n",
        "Допустим, у нас есть два списка: список клиентов и список их оборотов по месяцам:"
      ]
    },
    {
      "cell_type": "code",
      "execution_count": null,
      "metadata": {
        "id": "VvS2EXuFzBL_"
      },
      "outputs": [],
      "source": [
        "# Список клиентов\n",
        "clients = ['Иванов', 'Петров', 'Сидоров', 'Смирнов']"
      ]
    },
    {
      "cell_type": "code",
      "execution_count": null,
      "metadata": {
        "id": "37cThhyUzDZb"
      },
      "outputs": [],
      "source": [
        "# Обороты по месяцам в тыс. рублей\n",
        "turnover = [100000, 150000, 120000, 200000]"
      ]
    },
    {
      "cell_type": "code",
      "execution_count": null,
      "metadata": {
        "colab": {
          "base_uri": "https://localhost:8080/"
        },
        "id": "jNN8kMTYzJrw",
        "outputId": "3d3ba1b9-0551-4636-cc13-94fce8189738"
      },
      "outputs": [
        {
          "name": "stdout",
          "output_type": "stream",
          "text": [
            "Иванов 100000\n",
            "Петров 150000\n",
            "Сидоров 120000\n",
            "Смирнов 200000\n"
          ]
        }
      ],
      "source": [
        " # Используя длину одного из списков, создадим последовательность\n",
        "for i in range(len(clients)):\n",
        "  # Выведем информацию о клиентах и их оборотах в одном цикле\n",
        "  print(clients[i], turnover[i])"
      ]
    },
    {
      "cell_type": "markdown",
      "metadata": {
        "id": "xOTop9BxzPgr"
      },
      "source": [
        "Таким образом, мы можем легко просмотреть информацию о клиентах и их оборотах за определённый период, используя всего лишь один цикл в связке с другими функциями."
      ]
    },
    {
      "cell_type": "markdown",
      "metadata": {
        "id": "pICITnJVzWAE"
      },
      "source": [
        "# Цикл `while`"
      ]
    },
    {
      "cell_type": "markdown",
      "metadata": {
        "id": "nRBYDxApzaLV"
      },
      "source": [
        "В отличие от цикла `for`, который выполняется определённое количество раз на основе итерируемого объекта, цикл `while` продолжает выполняться, пока условие истинно."
      ]
    },
    {
      "cell_type": "code",
      "execution_count": null,
      "metadata": {},
      "outputs": [],
      "source": [
        "# Синтаксис цикла while:\n",
        "# while условие:\n",
        "    # код, который нужно выполнить"
      ]
    },
    {
      "cell_type": "markdown",
      "metadata": {
        "id": "sabAMV1fzV-p"
      },
      "source": [
        "Рассмотрим работу цикла на примере:"
      ]
    },
    {
      "cell_type": "code",
      "execution_count": null,
      "metadata": {
        "colab": {
          "base_uri": "https://localhost:8080/"
        },
        "id": "11IRRbLGK9f4",
        "outputId": "a7775197-a0ea-4583-c65a-8876e2d27766"
      },
      "outputs": [
        {
          "name": "stdout",
          "output_type": "stream",
          "text": [
            "Текущее значение:  0\n",
            "Новое значение:    1\n",
            "\n",
            "Текущее значение:  1\n",
            "Новое значение:    2\n",
            "\n",
            "Текущее значение:  2\n",
            "Новое значение:    3\n",
            "\n",
            "Текущее значение:  3\n",
            "Новое значение:    4\n",
            "\n",
            "Текущее значение:  4\n",
            "Новое значение:    5\n",
            "\n"
          ]
        }
      ],
      "source": [
        "# Установим начальное значение счётчика\n",
        "count = 0\n",
        "\n",
        "# Пока счётчик меньше пяти\n",
        "while count < 5:\n",
        "\n",
        "  # Выводим текущее значение счётчика\n",
        "  print('Текущее значение:  ' + str(count))\n",
        "\n",
        "  # Увеличим счётчик на единицу\n",
        "  count = count + 1\n",
        "\n",
        "  # Выводим новое значение счётчика\n",
        "  print('Новое значение:    ' + str(count))\n",
        "\n",
        "  # Для лучшей читаемости добавим пустую строку\n",
        "  print()\n"
      ]
    },
    {
      "cell_type": "markdown",
      "metadata": {
        "id": "NrRulGy2LF4W"
      },
      "source": [
        "Хорошо, ты увидел, как работает код. Давай разбираться, как именно получился этот результат:\n",
        "\n",
        "- В начале кода есть счётчик, который устанавливается на определённое значение (в нашем случае 0, но на практике это может быть любое число).\n",
        "- На каждой итерации цикла проверяется условие: счётчик должен быть меньше 5.\n",
        "- При первой итерации, так как значение счетчика равно 0 и меньше 5, выполняется код внутри цикла, и счётчик увеличивает значение на +1.\n",
        "- На следующей итерации счётчик равен 1, что также удовлетворяет условию, поэтому код внутри цикла снова выполняется и значение счётчика увеличивается ещё на 1.\n",
        "- Этот процесс повторяется на третьей итерации, когда счётчик становится равным 4.\n",
        "- Однако при попытке выполнить четвёртую итерацию условие «меньше 5» уже не верно, поэтому выполнение цикла прекращается.\n"
      ]
    },
    {
      "cell_type": "markdown",
      "metadata": {
        "id": "QYTr9PcdLPwA"
      },
      "source": [
        "Кстати, вместо того, чтобы прибавлять 1 к переменной `i` с помощью выражения `i = i + 1`, можно использовать более короткую запись: `i += 1`. Это эквивалентное выражение, которое также увеличивает значение переменной `i` на 1. Например:"
      ]
    },
    {
      "cell_type": "code",
      "execution_count": null,
      "metadata": {
        "colab": {
          "base_uri": "https://localhost:8080/"
        },
        "id": "QaiZw3qlLR5L",
        "outputId": "8a7167eb-814d-442e-b444-4fd5236ede7f"
      },
      "outputs": [
        {
          "name": "stdout",
          "output_type": "stream",
          "text": [
            "0\n",
            "1\n",
            "2\n",
            "3\n",
            "4\n"
          ]
        }
      ],
      "source": [
        "i = 0\n",
        "\n",
        "while i < 5:\n",
        "    print(i)\n",
        "    i += 1\n"
      ]
    },
    {
      "cell_type": "markdown",
      "metadata": {
        "id": "w9yMrx26LSer"
      },
      "source": [
        "Этот код будет выводить числа от 0 до 4, так как цикл продолжается, пока i меньше 5."
      ]
    },
    {
      "cell_type": "markdown",
      "metadata": {
        "id": "AmeTkh_ILU4b"
      },
      "source": [
        "## Операторы `break` и `continue`"
      ]
    },
    {
      "cell_type": "markdown",
      "metadata": {
        "id": "yHbEPsADLYvg"
      },
      "source": [
        "**Оператор `break`**\n",
        "\n",
        "Допустим, у тебя есть цикл, который ты применяешь к очень длинному списку или словарю, содержащему большое количество элементов. Но в правильности своего кода ты сомневаешься. Если запустить цикл сразу на всём списке или словаре и окажется, что код не выполняется корректно, придётся ждать, пока компьютер просмотрит все элементы списка или словаря.\n"
      ]
    },
    {
      "cell_type": "code",
      "execution_count": null,
      "metadata": {
        "id": "I58C_T2kLgZz"
      },
      "outputs": [],
      "source": [
        "# Предположим, у нас есть словарь с информацией о клиентах\n",
        "clients_info = {101: {'name': 'Константин', 'age': 35, 'income': 50000},\n",
        "                102: {'name': 'Татьяна', 'age': 29, 'income': 60000}}"
      ]
    },
    {
      "cell_type": "code",
      "execution_count": null,
      "metadata": {
        "colab": {
          "base_uri": "https://localhost:8080/"
        },
        "id": "mEH6YTHwLcDY",
        "outputId": "9e39c2de-c70b-49d9-8559-0dd9caff68b6"
      },
      "outputs": [
        {
          "name": "stdout",
          "output_type": "stream",
          "text": [
            "Client ID: 101\n",
            "Details: {'name': 'Константин', 'age': 35, 'income': 50000}\n"
          ]
        }
      ],
      "source": [
        "# Проходимся по каждому клиенту в словаре\n",
        "for client_id, details in clients_info.items():\n",
        "\n",
        "  # Выводим информацию о клиенте\n",
        "  print(\"Client ID:\", client_id)\n",
        "  print(\"Details:\", details)\n",
        "\n",
        "  # Прерываем цикл после первого клиента\n",
        "  break\n"
      ]
    },
    {
      "cell_type": "markdown",
      "metadata": {
        "id": "y8ji4lf0LpqK"
      },
      "source": [
        "Можно прервать выполнение цикла, когда определённое условие становится истинным."
      ]
    },
    {
      "cell_type": "code",
      "execution_count": null,
      "metadata": {
        "id": "ibxiBFTXLuPZ"
      },
      "outputs": [],
      "source": [
        "# Установим начальное значение переменной\n",
        "countdown = 6"
      ]
    },
    {
      "cell_type": "code",
      "execution_count": null,
      "metadata": {
        "colab": {
          "base_uri": "https://localhost:8080/"
        },
        "id": "MKDaGJY-Lmt-",
        "outputId": "a2eec121-4b99-410c-dc37-4a12869befcd"
      },
      "outputs": [
        {
          "name": "stdout",
          "output_type": "stream",
          "text": [
            "6\n",
            "5\n",
            "4\n"
          ]
        }
      ],
      "source": [
        "# Цикл будет продолжаться, пока переменная не станет равной нулю\n",
        "while countdown != 0:\n",
        "  # Выводим текущее значение переменной\n",
        "  print(countdown)\n",
        "  # Уменьшаем значение переменной на 1\n",
        "  countdown -= 1\n",
        "  # Если значение переменной достигнет 3, прерываем цикл\n",
        "  if countdown == 3:\n",
        "    break\n"
      ]
    },
    {
      "cell_type": "markdown",
      "metadata": {
        "id": "u9HMoMqCL4fn"
      },
      "source": [
        "Здесь цикл прерывается, когда значение счётчика становится равным 3.\n",
        "\n",
        "Обрати внимание: в коде используется сокращённая запись `x -= 1` вместо `x = x - 1`.\n"
      ]
    },
    {
      "cell_type": "markdown",
      "metadata": {
        "id": "xYsvwUp7L59h"
      },
      "source": [
        "**Оператор `continue`**\n",
        "\n",
        "Иногда нужно пропустить одну или несколько итераций цикла, но не прекращать его полностью. В таких случаях поможет оператор `continue`.\n",
        "\n",
        "Предположим, у тебя есть задача создать последовательность чисел от 1 до 20 и вывести только те числа, которые делятся на 5 без остатка:\n"
      ]
    },
    {
      "cell_type": "code",
      "execution_count": null,
      "metadata": {
        "colab": {
          "base_uri": "https://localhost:8080/"
        },
        "id": "2a-zfO70L_BE",
        "outputId": "32cc845b-a215-48bb-d9ed-123f53d914b4"
      },
      "outputs": [
        {
          "name": "stdout",
          "output_type": "stream",
          "text": [
            "5\n",
            "10\n",
            "15\n",
            "20\n"
          ]
        }
      ],
      "source": [
        "# Создадим последовательность от 1 до 20\n",
        "for num in range(1, 21):\n",
        "\n",
        "  # Если число не делится на 5 без остатка, пропустим его\n",
        "  if num % 5 != 0:\n",
        "\n",
        "    # Перейдём к следующему числу\n",
        "    continue\n",
        "\n",
        "  # В итоге выведем только те числа, которые делятся на 5 без остатка\n",
        "  else:\n",
        "    print(num)"
      ]
    },
    {
      "cell_type": "markdown",
      "metadata": {
        "id": "EJQk9tDxMOvA"
      },
      "source": [
        "Здесь оператор continue используется для пропуска вывода чисел, которые не делятся на 5 без остатка."
      ]
    },
    {
      "cell_type": "markdown",
      "metadata": {
        "id": "B2ZI5yYbMbpm"
      },
      "source": [
        "# Заключение\n",
        "Теперь ты придёшь на лекцию с базой знаний о том:\n",
        "1. какие бывают циклы в Python;\n",
        "2. как они работают;\n",
        "3. как взаимосвязаны циклы и функции;\n",
        "4. как использовать операторы break и continue.\n",
        "\n",
        "Эти знания открывают перед тобой возможности автоматизации кода и позволяют отдавать циклам рутинные прогрммистские задачи. Циклы облегчают работу программиста и делают её более эффективной и продуктивной."
      ]
    }
  ],
  "metadata": {
    "colab": {
      "provenance": [],
      "toc_visible": true
    },
    "kernelspec": {
      "display_name": "Python 3",
      "name": "python3"
    },
    "language_info": {
      "name": "python"
    }
  },
  "nbformat": 4,
  "nbformat_minor": 0
}
