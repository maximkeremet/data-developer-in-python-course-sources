{
  "cells": [
    {
      "cell_type": "markdown",
      "metadata": {
        "id": "rldbXZmL0stH"
      },
      "source": [
        "# Условные конструкции"
      ]
    },
    {
      "cell_type": "markdown",
      "metadata": {
        "id": "9L27y5bs0cPz"
      },
      "source": [
        "Цели материала:\n",
        "- Рассмотреть как строятся условные конструкции с помощью условных операторов `if`, `elif`, `else`.\n",
        "- Узнать как логический тип данных `bool` помогает в построении условных конструкций.\n",
        "\n",
        "Управляющие конструкции в Python позволяют выстраивать логику выполнения программы, завися от разных условий."
      ]
    },
    {
      "cell_type": "markdown",
      "metadata": {
        "id": "n8okt6Q-29iy"
      },
      "source": [
        "## Еще немного о `bool`"
      ]
    },
    {
      "cell_type": "markdown",
      "metadata": {
        "id": "2n5bHn8Q3ACT"
      },
      "source": [
        "Тип данных `bool` представляет логические значения: истину (`True`) и ложь (`False`). Эти значения используются для проверки условий в управляющих конструкциях, таких как условные операторы и циклы.\n"
      ]
    },
    {
      "cell_type": "code",
      "execution_count": null,
      "metadata": {
        "colab": {
          "base_uri": "https://localhost:8080/"
        },
        "id": "-8IjvQkp3KMW",
        "outputId": "f7cd565d-bba6-45be-8866-100e4e1a714e"
      },
      "outputs": [
        {
          "data": {
            "text/plain": [
              "True"
            ]
          },
          "execution_count": 9,
          "metadata": {},
          "output_type": "execute_result"
        }
      ],
      "source": [
        "5 > 0"
      ]
    },
    {
      "cell_type": "code",
      "execution_count": null,
      "metadata": {
        "colab": {
          "base_uri": "https://localhost:8080/"
        },
        "id": "6-_l3L8p3NLs",
        "outputId": "e7c7dabf-eba3-4b69-ca36-a01efda85245"
      },
      "outputs": [
        {
          "name": "stdout",
          "output_type": "stream",
          "text": [
            "5 is greater than 0\n"
          ]
        }
      ],
      "source": [
        "if 5 > 0:\n",
        "  print(\"5 is greater than 0\")"
      ]
    },
    {
      "cell_type": "code",
      "execution_count": null,
      "metadata": {
        "colab": {
          "base_uri": "https://localhost:8080/"
        },
        "id": "V_mg-ASh3Uet",
        "outputId": "27721a6c-f57f-4f29-89b9-ad89dc9a981d"
      },
      "outputs": [
        {
          "name": "stdout",
          "output_type": "stream",
          "text": [
            "True\n"
          ]
        }
      ],
      "source": [
        "is_greater = 5 > 0\n",
        "print(is_greater)"
      ]
    },
    {
      "cell_type": "markdown",
      "metadata": {
        "id": "sHEG4QK83awO"
      },
      "source": [
        "Переменная is_greater принимает значение True, так как условие 5 > 0 верное."
      ]
    },
    {
      "cell_type": "markdown",
      "metadata": {
        "id": "VRcl4taY4Edh"
      },
      "source": [
        "### Преобразование в `bool`"
      ]
    },
    {
      "cell_type": "markdown",
      "metadata": {
        "id": "bIDjbfJO4MCE"
      },
      "source": [
        "Различные объекты в Python могут быть преобразованы в тип `bool`. Обычно, если объект считается \"истинным\", то его преобразование в `bool` будет `True`, иначе - `False`.\n"
      ]
    },
    {
      "cell_type": "code",
      "execution_count": null,
      "metadata": {
        "colab": {
          "base_uri": "https://localhost:8080/"
        },
        "id": "4DsSJ2Ih4IcO",
        "outputId": "705f9ddc-e998-49a9-cb56-1414d98c0a5a"
      },
      "outputs": [
        {
          "name": "stdout",
          "output_type": "stream",
          "text": [
            "False\n",
            "True\n",
            "False\n",
            "True\n",
            "False\n",
            "True\n"
          ]
        }
      ],
      "source": [
        "print(bool(0))  # Выведет: False\n",
        "print(bool(10))  # Выведет: True\n",
        "print(bool([]))  # Выведет: False (пустой список)\n",
        "print(bool([1, 2, 3]))  # Выведет: True (непустой список)\n",
        "print(bool(\"\"))  # Выведет: False (пустая строка)\n",
        "print(bool(\"Hello\"))  # Выведет: True (непустая строка)\n"
      ]
    },
    {
      "cell_type": "code",
      "execution_count": null,
      "metadata": {
        "colab": {
          "base_uri": "https://localhost:8080/"
        },
        "id": "JKlMYKSj3Eco",
        "outputId": "3eca3aca-67f5-48ab-86f2-718d96e9f0e1"
      },
      "outputs": [
        {
          "data": {
            "text/plain": [
              "True"
            ]
          },
          "execution_count": 8,
          "metadata": {},
          "output_type": "execute_result"
        }
      ],
      "source": [
        "bool(5)"
      ]
    },
    {
      "cell_type": "markdown",
      "metadata": {
        "id": "Oz1AN95A0lA8"
      },
      "source": [
        "## Оператор `if`\n",
        "Этот оператор используется, когда мы хотим, чтобы блок кода выполнялся только при определённом условии. Если условие истинно (`True`), блок кода выполняется. Если оно ложно (`False`), блок кода игнорируется.\n",
        "\n",
        "Рассмотрим на примере. Если в расписании стоит утренняя лекция по Python (`True`), студентка Надя просыпается рано и едет в университет. Если лекции по Python нет (`False`), Надя спит до обеда.\n",
        "\n",
        "Другой пример:"
      ]
    },
    {
      "cell_type": "code",
      "execution_count": null,
      "metadata": {
        "colab": {
          "base_uri": "https://localhost:8080/"
        },
        "id": "P-pFmulW0Sze",
        "outputId": "8538d295-030f-4929-8038-5271838816a4"
      },
      "outputs": [
        {
          "name": "stdout",
          "output_type": "stream",
          "text": [
            "Число положительное\n"
          ]
        }
      ],
      "source": [
        "x = 10\n",
        "if x > 0:\n",
        "    print(\"Число положительное\")"
      ]
    },
    {
      "cell_type": "markdown",
      "metadata": {
        "id": "Vo8cd17N1srs"
      },
      "source": [
        "## Оператор `elif`\n",
        "Оператор `elif` (сокращение от \"else if\") используют, чтобы проверять дополнительные условия, если предыдущие условия не были истинны."
      ]
    },
    {
      "cell_type": "code",
      "execution_count": null,
      "metadata": {
        "colab": {
          "base_uri": "https://localhost:8080/"
        },
        "id": "O4HHLT2T11yJ",
        "outputId": "f2422ee7-b475-4dbf-8bf5-ee36f532b4e8"
      },
      "outputs": [
        {
          "name": "stdout",
          "output_type": "stream",
          "text": [
            "Число равно нулю\n"
          ]
        }
      ],
      "source": [
        "x = 0\n",
        "if x > 0:\n",
        "    print(\"Число положительное\")\n",
        "elif x < 0:\n",
        "    print(\"Число отрицательное\")\n",
        "else:\n",
        "    print(\"Число равно нулю\")"
      ]
    },
    {
      "cell_type": "markdown",
      "metadata": {
        "id": "4UZAgJ7Q15wH"
      },
      "source": [
        "В этом примере, если первое условие не было истинным, то проверяется условие в `elif`. Если ни одно из условий не было истинным, выполняется блок кода в `else`.\n"
      ]
    },
    {
      "cell_type": "markdown",
      "metadata": {
        "id": "VYPLM3R_19sn"
      },
      "source": [
        "## Логические операторы"
      ]
    },
    {
      "cell_type": "markdown",
      "metadata": {
        "id": "ZdOOxwUx2A_E"
      },
      "source": [
        "Иногда условия нужно комбинировать. Для этого используют логические операторы `and`, `or` и `not`.\n"
      ]
    },
    {
      "cell_type": "code",
      "execution_count": null,
      "metadata": {
        "colab": {
          "base_uri": "https://localhost:8080/"
        },
        "id": "HKBVfKB12C6V",
        "outputId": "da260e0c-37ad-46f9-ebe6-8e8202c09deb"
      },
      "outputs": [
        {
          "name": "stdout",
          "output_type": "stream",
          "text": [
            "Число от 1 до 9\n"
          ]
        }
      ],
      "source": [
        "x = 5\n",
        "if x > 0 and x < 10:\n",
        "    print(\"Число от 1 до 9\")\n"
      ]
    },
    {
      "cell_type": "markdown",
      "metadata": {
        "id": "Jek-jfK62FSs"
      },
      "source": [
        "В этом примере, условие `x > 0 and x < 10` будет истинным, только если оба условия истинны.\n"
      ]
    },
    {
      "cell_type": "code",
      "execution_count": null,
      "metadata": {
        "id": "KoD0CYLQ2E9U"
      },
      "outputs": [],
      "source": [
        "age = 18\n",
        "if age < 18 or age >= 65:\n",
        "    print(\"Либо молодой, либо пожилой\")\n"
      ]
    },
    {
      "cell_type": "markdown",
      "metadata": {
        "id": "U_Gqd7dn2KVF"
      },
      "source": [
        "В этом примере `not` инвертирует значение выражения, поэтому условие `not (x == 0)` будет истинным, если `x` не равно нулю.\n"
      ]
    },
    {
      "cell_type": "code",
      "execution_count": null,
      "metadata": {
        "colab": {
          "base_uri": "https://localhost:8080/"
        },
        "id": "yuvGcnIl2MmB",
        "outputId": "a6ae5380-3531-42bf-e0f4-872b5ec4bc5d"
      },
      "outputs": [
        {
          "name": "stdout",
          "output_type": "stream",
          "text": [
            "Число положительное\n"
          ]
        }
      ],
      "source": [
        "x = 10\n",
        "if x > 0:\n",
        "    print(\"Число положительное\")\n",
        "elif x < 0:\n",
        "    print(\"Число отрицательное\")\n",
        "else:\n",
        "    print(\"Число равно нулю\")\n"
      ]
    },
    {
      "cell_type": "markdown",
      "metadata": {
        "id": "ds9xvoLx2PRU"
      },
      "source": [
        "В этом примере сначала проверяется, больше ли `x` нуля. Если это так, выводится сообщение о том, что число положительное. Если нет, то проверяется, меньше ли `x` нуля, и выводится сообщение о том, что число отрицательное.\n",
        " Если ни одно из условий не выполняется, то выводится сообщение о том, что число равно нулю.\n",
        "\n"
      ]
    },
    {
      "cell_type": "code",
      "execution_count": null,
      "metadata": {
        "colab": {
          "base_uri": "https://localhost:8080/"
        },
        "id": "6tYDFDyV2UhM",
        "outputId": "bf9b8dc6-8eaf-4cba-d087-287ece2337bf"
      },
      "outputs": [
        {
          "name": "stdout",
          "output_type": "stream",
          "text": [
            "Число положительное\n"
          ]
        }
      ],
      "source": [
        "x = 10\n",
        "if x > 0:\n",
        "    print(\"Число положительное\")\n",
        "elif x < 0:\n",
        "    print(\"Число отрицательное\")\n",
        "elif x == 0:\n",
        "    print(\"Число равно нулю\")\n",
        "else:\n",
        "    print(\"Но как??\")\n"
      ]
    },
    {
      "cell_type": "markdown",
      "metadata": {
        "id": "IXkxKfQpjtr1"
      },
      "source": [
        "# Заключение\n",
        "В этом материале мы рассмотрели:\n",
        "- что такое тип данных `bool`;\n",
        "- зачем нужны условные операторы `if`, `else`, `elif`;\n",
        "- как работают логические операторы `and`, `or` и `not`."
      ]
    }
  ],
  "metadata": {
    "colab": {
      "provenance": []
    },
    "kernelspec": {
      "display_name": "Python 3",
      "name": "python3"
    },
    "language_info": {
      "name": "python"
    }
  },
  "nbformat": 4,
  "nbformat_minor": 0
}
