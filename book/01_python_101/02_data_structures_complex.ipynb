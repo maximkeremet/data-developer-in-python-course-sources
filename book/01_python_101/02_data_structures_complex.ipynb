{
  "cells": [
    {
      "cell_type": "markdown",
      "metadata": {
        "id": "bvOu_2FxUuP5"
      },
      "source": [
        "# Составные структуры данных в Python"
      ]
    },
    {
      "cell_type": "markdown",
      "metadata": {
        "id": "UyCPvvqf5Gr2"
      },
      "source": [
        "Мы уже познакомились с вами с очень важным типом данных, который называется строки.\n",
        "\n",
        "В этом уроке мы рассмотрим другие немаловажные типы данных. Их называют составными или, иногда, \"контейнеры\", то есть это типы данных, которые могут в содержать другие типы, те же строки например.\n",
        "\n",
        "Наш план на этот урок узнать что такое:\n",
        "- Списки: создание, срезы, вставка и удаление элементов, индексация.\n",
        "- Кортежи: отличие от списков, создание.\n",
        "- Словари: создание, методы, ограничения.\n",
        "- Множества: создание, операции.\n",
        "\n",
        "Составные труктуры (списки, кортежи, словари и множества) — важные инструменты для работы с данными. Они позволяют эффективно и просто решать любые задачи на Python, начиная от бытовых (список дел, покупок), заканчивая статистическими исследованиями и разработкой сложных сервисов.\n",
        "\n"
      ]
    },
    {
      "cell_type": "markdown",
      "metadata": {
        "id": "Uk8k9nT8-jj6"
      },
      "source": [
        "# Списки (`list`)\n"
      ]
    },
    {
      "cell_type": "markdown",
      "metadata": {
        "id": "Ryp8oZoCAT6W"
      },
      "source": [
        "Начнём с простого примера. Давай представим, что мы покупаем продукты в интернет-магазине. Продукты мы кладём в корзину.\n",
        "\n",
        "Можно создать корзину с помощью известных нам строк. Давайте посмотрим, как это будет выглядеть.\n",
        "\n"
      ]
    },
    {
      "cell_type": "code",
      "execution_count": null,
      "metadata": {
        "colab": {
          "base_uri": "https://localhost:8080/"
        },
        "id": "usNAm4wQ3WQb",
        "outputId": "3e164dce-64ba-41b0-81e7-13d4d0c647cc"
      },
      "outputs": [
        {
          "name": "stdout",
          "output_type": "stream",
          "text": [
            "Молоко, Хлеб, Картофель, Фарш\n"
          ]
        }
      ],
      "source": [
        "purchase_cart = \"Молоко, Хлеб, Картофель, Фарш\"\n",
        "print(purchase_cart)"
      ]
    },
    {
      "cell_type": "markdown",
      "metadata": {
        "id": "Q_4peEOo3jqt"
      },
      "source": [
        "Как нам например получить отдельно первую позицию в списке, ведь это целая строка? Не очень удобно для использования. Давайте попробуем другой вариант."
      ]
    },
    {
      "cell_type": "markdown",
      "metadata": {
        "id": "Gl944bp92yEd"
      },
      "source": [
        "## Создание списка"
      ]
    },
    {
      "cell_type": "markdown",
      "metadata": {
        "id": "Rv00eU_23Rd5"
      },
      "source": [
        "Представим, что корзина — это список продуктов. Конечно, разработчики бэкенда этого магазина поспорили бы, ведь корзина — не просто список, там есть и счётчики, и дополнительные параметры в виде цены, веса. Но для нас это неважно, мы просто создаём список покупок, кликая мышкой на нужный продукт и нажимая кнопку «Добавить в корзину».\n",
        "\n",
        "А теперь посмотрим, как создать список в Python.\n",
        "Как мы сказали в начале, списки могут содержать в себе строки. Давайте создадим список со строками внутри."
      ]
    },
    {
      "cell_type": "markdown",
      "metadata": {
        "id": "ywEiilDgffV7"
      },
      "source": [
        "Чтобы создать список, достаточно перечислить названия продуктов через запятую и заключить в квадратные скобочки. Совсем несложно, создадим список purchase_cart с нашими покупками."
      ]
    },
    {
      "cell_type": "code",
      "execution_count": null,
      "metadata": {
        "id": "AqGijxfYfOTg"
      },
      "outputs": [],
      "source": [
        "purchase_cart = [\"Молоко\", \"Хлеб\", \"Картофель\", \"Фарш\"]"
      ]
    },
    {
      "cell_type": "markdown",
      "metadata": {
        "id": "FELZYVNxhWbR"
      },
      "source": [
        "Попробуем распечатать список с помощью функции print."
      ]
    },
    {
      "cell_type": "code",
      "execution_count": null,
      "metadata": {
        "colab": {
          "base_uri": "https://localhost:8080/"
        },
        "id": "i2eHmyijhfWg",
        "outputId": "286dba6c-09ff-4d44-cb8d-414bed857ef0"
      },
      "outputs": [
        {
          "name": "stdout",
          "output_type": "stream",
          "text": [
            "['Молоко', 'Хлеб', 'Картофель', 'Фарш']\n"
          ]
        }
      ],
      "source": [
        "print(purchase_cart)"
      ]
    },
    {
      "cell_type": "markdown",
      "metadata": {
        "id": "L-P5Dq0cfhhw"
      },
      "source": [
        "Список позволяет обращаться к элементом по отдельности. Например, можно напечатать третий элемент списка покупок."
      ]
    },
    {
      "cell_type": "code",
      "execution_count": null,
      "metadata": {
        "colab": {
          "base_uri": "https://localhost:8080/"
        },
        "id": "iq9bA5OuiJgU",
        "outputId": "3d74997d-d884-4178-915e-b0604238c35f"
      },
      "outputs": [
        {
          "name": "stdout",
          "output_type": "stream",
          "text": [
            "Картофель\n"
          ]
        }
      ],
      "source": [
        "print(purchase_cart[2])"
      ]
    },
    {
      "cell_type": "markdown",
      "metadata": {
        "id": "-g_AqhWciN_L"
      },
      "source": [
        "Как это? Мы хотели вывести третий элемент, а в скобках написали 2. Но напечатан всё равно третий по счёту.  "
      ]
    },
    {
      "cell_type": "markdown",
      "metadata": {
        "id": "0Cx_h3oJX3LO"
      },
      "source": [
        "Дело в длине списка. Этот термин пригодится в большинстве задач, связанных со структурами данных.\n",
        "\n",
        "Длина списка — это количество элементов в нём. В нашем случае — количество продуктов в корзине. Как узнать длину списка? Посчитать элементы, конечно."
      ]
    },
    {
      "cell_type": "markdown",
      "metadata": {
        "id": "ptL7u0vvYecb"
      },
      "source": [
        "Текущий список покупок у нас такой: <br>\n",
        "``['Молоко', 'Хлеб', 'Картофель', 'Фарш']``"
      ]
    },
    {
      "cell_type": "markdown",
      "metadata": {
        "id": "2PapX4p4YrOZ"
      },
      "source": [
        "Сколько в нём элементов?\n",
        "1. Молоко.\n",
        "2. Хлеб.\n",
        "3. Картофель.\n",
        "4. Фарш."
      ]
    },
    {
      "cell_type": "markdown",
      "metadata": {
        "id": "G438SvV6YyLF"
      },
      "source": [
        "Чтобы мы не считали самостоятельно, в Python есть функция len."
      ]
    },
    {
      "cell_type": "code",
      "execution_count": null,
      "metadata": {
        "colab": {
          "base_uri": "https://localhost:8080/"
        },
        "id": "MY07LMGpYxXr",
        "outputId": "0b96f355-7e1d-47c6-d589-1d7ada5bc439"
      },
      "outputs": [
        {
          "data": {
            "text/plain": [
              "4"
            ]
          },
          "execution_count": 22,
          "metadata": {},
          "output_type": "execute_result"
        }
      ],
      "source": [
        "len(purchase_cart)"
      ]
    },
    {
      "cell_type": "markdown",
      "metadata": {
        "id": "pHGHf0TnLE-R"
      },
      "source": [
        "### Индексация в списках"
      ]
    },
    {
      "cell_type": "markdown",
      "metadata": {
        "id": "zngnnAgz24Hi"
      },
      "source": [
        "Теперь мы готовы к ещё одному важному определению.\n",
        "\n",
        "То, что мы пишем в скобках (как в ```purchase_cart[2]```) называется **индексом.** Это порядковый номер элемента. Нумерация в списках начинается с нуля: первому элементу соответствует индекс 0, второму 1, а третьему 2.\n",
        "\n",
        "В нашем примере «Картофель» — это элемент с индексом 2. Данное утверждение актуально, пока мы не меняли списки.\n",
        "\n"
      ]
    },
    {
      "cell_type": "markdown",
      "metadata": {
        "id": "Q_e3oDa_SNJH"
      },
      "source": [
        "Индекс — это всегда целое число, оно не может быть дробным. Но в Python индексы бывают отрицательными. Диапазон значений индекса — от 0 до len() - 1."
      ]
    },
    {
      "cell_type": "markdown",
      "metadata": {
        "id": "u5mSfKjNSRtE"
      },
      "source": [
        "Мы видим, что элемент с индексом -1 совпадает с последним элементом в списке."
      ]
    },
    {
      "cell_type": "code",
      "execution_count": null,
      "metadata": {
        "colab": {
          "base_uri": "https://localhost:8080/"
        },
        "id": "i7aAEhLeowcH",
        "outputId": "de4c6dca-8446-4da6-8afb-9d494c1590d4"
      },
      "outputs": [
        {
          "name": "stdout",
          "output_type": "stream",
          "text": [
            "Фарш\n"
          ]
        }
      ],
      "source": [
        "print(purchase_cart[-1])"
      ]
    },
    {
      "cell_type": "markdown",
      "metadata": {
        "id": "q-TRfDiP0LYf"
      },
      "source": [
        "Индекс -1 означает последний элемент.\n",
        "Также последний элемент может быть получен выражением ```длина списка - 1```."
      ]
    },
    {
      "cell_type": "markdown",
      "metadata": {
        "id": "KOfOC8QVz9kK"
      },
      "source": [
        "\n",
        "> Если указать индекс вне диапазона (0 до значения len() - 1), интерпретатор Python выдаст ошибку ```IndexError```.\n"
      ]
    },
    {
      "cell_type": "markdown",
      "metadata": {
        "id": "7qhhl1hdS5LS"
      },
      "source": [
        "### Срезы в списках"
      ]
    },
    {
      "cell_type": "markdown",
      "metadata": {
        "id": "ux_wS1yBTAN9"
      },
      "source": [
        "Бывают случаи, когда нужно получить значения не по одному конкретному индексу, а по диапазону: например, с нулевого по третий. Для таких целей существуют срезы."
      ]
    },
    {
      "cell_type": "markdown",
      "metadata": {
        "id": "ADnNsby9UEBF"
      },
      "source": [
        "Как написать срез? Практически так же, как индекс, то есть в квадратных скобках около названия списка. Но срез — это не один элемент, а несколько, то есть какой-то кусочек самого списка.\n",
        "\n",
        "`название_списка[индекс_начала: индекс_конца]`\n",
        "\n",
        "Нужно быть внимательным, потому что правый конец не включается в результат, то есть будут элементы до этого индекса, не включа/щие его."
      ]
    },
    {
      "cell_type": "markdown",
      "metadata": {
        "id": "mKL0DI0wpVvR"
      },
      "source": [
        "Рассмотрим на нашей корзине с продуктами. Прежде чем запускать код ниже, подумаем какой будет результат.\n",
        "Мы идём с нуля (начало списка) до элемента с индексом 2 (то есть до третьего элемента), не включая его."
      ]
    },
    {
      "cell_type": "code",
      "execution_count": null,
      "metadata": {
        "colab": {
          "base_uri": "https://localhost:8080/"
        },
        "id": "5hloeZkQpbx6",
        "outputId": "960d5252-f79b-441e-c529-e45d30cf6e96"
      },
      "outputs": [
        {
          "name": "stdout",
          "output_type": "stream",
          "text": [
            "['Молоко', 'Хлеб']\n"
          ]
        }
      ],
      "source": [
        "print(purchase_cart[0:2])"
      ]
    },
    {
      "cell_type": "markdown",
      "metadata": {
        "id": "OCSUQhr5LZbS"
      },
      "source": [
        "Списки — это изменяемые объекты, поэтому над ними можно произодить преобразования: например, вставлять и удалять элементы, объединять списки."
      ]
    },
    {
      "cell_type": "markdown",
      "metadata": {
        "id": "CVMNtb7968dG"
      },
      "source": [
        "### Вставка элементов в список"
      ]
    },
    {
      "cell_type": "markdown",
      "metadata": {
        "id": "pn2Ehu6bPJEU"
      },
      "source": [
        "Допустим, мы вспомнили, что нам нужны овощи, и захотели добавить в корзину ещё огурцы и помидоры.\n",
        "\n",
        "Добавить элементы в список можноис помощью нескольких магических функций:\n",
        "\n",
        "*   list.append(value) — добавление в конец списка,\n",
        "*   list.insert(index, value) — вставка по индексу.\n",
        "\n",
        "Как говорилось выше, о магии функций будет отдельный материал. А пока добавим овощи в корзину — в конец нашего списка.\n"
      ]
    },
    {
      "cell_type": "markdown",
      "metadata": {
        "id": "nnLIRvl5udvk"
      },
      "source": [
        "Зафиксируем изначальный размер корзины, проверим длину списка с помощью функции len."
      ]
    },
    {
      "cell_type": "code",
      "execution_count": null,
      "metadata": {
        "colab": {
          "base_uri": "https://localhost:8080/"
        },
        "id": "NW8DuRhEulHs",
        "outputId": "ff8d7855-8815-43b6-b3e0-1dcc57f2ae0d"
      },
      "outputs": [
        {
          "data": {
            "text/plain": [
              "4"
            ]
          },
          "execution_count": 25,
          "metadata": {},
          "output_type": "execute_result"
        }
      ],
      "source": [
        "len(purchase_cart)"
      ]
    },
    {
      "cell_type": "code",
      "execution_count": null,
      "metadata": {
        "id": "XnHjL5j4tWVK"
      },
      "outputs": [],
      "source": [
        "purchase_cart.append(\"Помидоры\")"
      ]
    },
    {
      "cell_type": "markdown",
      "metadata": {
        "id": "Q3vCGmIMtf9q"
      },
      "source": [
        "Распечатаем корзину с помощью функции print."
      ]
    },
    {
      "cell_type": "code",
      "execution_count": null,
      "metadata": {
        "colab": {
          "base_uri": "https://localhost:8080/"
        },
        "id": "MeY-KNpJtNBY",
        "outputId": "26116416-b208-4fc6-b314-cd97067c7f35"
      },
      "outputs": [
        {
          "name": "stdout",
          "output_type": "stream",
          "text": [
            "['Молоко', 'Хлеб', 'Картофель', 'Фарш', 'Помидоры']\n"
          ]
        }
      ],
      "source": [
        "print(purchase_cart)"
      ]
    },
    {
      "cell_type": "markdown",
      "metadata": {
        "id": "Xl32dGxat790"
      },
      "source": [
        "Видим, что в конец списка добавились помидоры."
      ]
    },
    {
      "cell_type": "markdown",
      "metadata": {
        "id": "rdhXZ7IzuDZa"
      },
      "source": [
        "Проверим, изменилась ли длина списка с помощью той же функции len."
      ]
    },
    {
      "cell_type": "code",
      "execution_count": null,
      "metadata": {
        "colab": {
          "base_uri": "https://localhost:8080/"
        },
        "id": "RW9LBzAhuYDR",
        "outputId": "ac34df10-a7d2-4422-e228-116d75063360"
      },
      "outputs": [
        {
          "data": {
            "text/plain": [
              "5"
            ]
          },
          "execution_count": 28,
          "metadata": {},
          "output_type": "execute_result"
        }
      ],
      "source": [
        "len(purchase_cart)"
      ]
    },
    {
      "cell_type": "markdown",
      "metadata": {
        "id": "kYljgGKTu0rT"
      },
      "source": [
        "Длина списка увеличилась с 4 элементов на 5."
      ]
    },
    {
      "cell_type": "markdown",
      "metadata": {
        "id": "gZeIBVdFW-wl"
      },
      "source": [
        "### Удаление элементов из списка\n",
        "\n"
      ]
    },
    {
      "cell_type": "markdown",
      "metadata": {
        "id": "RoyyHHRRu7bO"
      },
      "source": [
        "Если покупать помидоры мы передумаем, их нужно будет удалить из корзины. Помидоры лежат в конце списка, поэтому их можно удалить с помощью функции pop. Она удаляет последний элемент и возвращает его (грубо говоря, показывает нам его)."
      ]
    },
    {
      "cell_type": "code",
      "execution_count": null,
      "metadata": {
        "colab": {
          "base_uri": "https://localhost:8080/",
          "height": 36
        },
        "id": "VDJaUjAZvJ6v",
        "outputId": "9db15411-07c6-4565-a5bb-72125b243862"
      },
      "outputs": [
        {
          "data": {
            "application/vnd.google.colaboratory.intrinsic+json": {
              "type": "string"
            },
            "text/plain": [
              "'Помидоры'"
            ]
          },
          "execution_count": 37,
          "metadata": {},
          "output_type": "execute_result"
        }
      ],
      "source": [
        "purchase_cart.pop()"
      ]
    },
    {
      "cell_type": "markdown",
      "metadata": {
        "id": "YbM4Fp0XvbmX"
      },
      "source": [
        "Допустим, мы хотим удалить фарш, но не знаем, какой это элемент по счёту. Можно использовать функцию remove, она удаляет элемент со значением, равным тому, что мы укажем."
      ]
    },
    {
      "cell_type": "code",
      "execution_count": null,
      "metadata": {
        "id": "3cdYynP0vyC-"
      },
      "outputs": [],
      "source": [
        "purchase_cart.remove(\"Фарш\")"
      ]
    },
    {
      "cell_type": "markdown",
      "metadata": {
        "id": "gVmOBLGImzwn"
      },
      "source": [
        "Если этого элемента нет, функция страшно ругается. Если мы попробуем удалить финики. Мы увидим ошибку\n",
        "```\n",
        "---------------------------------------------------------------------------\n",
        "ValueError                                Traceback (most recent call last)\n",
        "<ipython-input-3-6348d22ee3a0> in <cell line: 1>()\n",
        "----> 1 purchase_cart.remove(\"Финики\")\n",
        "\n",
        "ValueError: list.remove(x): x not in list\n",
        "```"
      ]
    },
    {
      "cell_type": "markdown",
      "metadata": {
        "id": "uw-CFLIRxdMd"
      },
      "source": [
        "Мы уже сильно поменяли наш исходный список, что-то удалили, давайте пересоздадим его с нуля, чтобы можно было дальше проводить с ним операции."
      ]
    },
    {
      "cell_type": "code",
      "execution_count": null,
      "metadata": {
        "id": "SIn1i2YExjxw"
      },
      "outputs": [],
      "source": [
        "purchase_cart = [\"Молоко\", \"Хлеб\", \"Картофель\", \"Фарш\", \"Помидоры\"]"
      ]
    },
    {
      "cell_type": "markdown",
      "metadata": {
        "id": "7oTonJ56wMRz"
      },
      "source": [
        "Чтобы вместо помидоров положить огурцы, можно удалить помидоры и добавить в конец списка огурцы. Но можно просто получить элемент по индексу и заменить его."
      ]
    },
    {
      "cell_type": "markdown",
      "metadata": {
        "id": "XrInp4SQw43s"
      },
      "source": [
        "purchase_cart[-1] — это последний элемент в списке.\n",
        "\n",
        "len(purchase_cart) — это длина списка.\n",
        "\n",
        "(len(purchase_cart) - 1) — это индекс последнего элемента в списке."
      ]
    },
    {
      "cell_type": "code",
      "execution_count": null,
      "metadata": {
        "id": "bVbEHOlfw_S4"
      },
      "outputs": [],
      "source": [
        "# Вариант 1\n",
        "\n",
        "last_elem = len(purchase_cart) - 1\n",
        "purchase_cart[last_elem] = \"Огурцы\""
      ]
    },
    {
      "cell_type": "code",
      "execution_count": null,
      "metadata": {
        "id": "lJwhtH5SwxIl"
      },
      "outputs": [],
      "source": [
        "# Вариант 2\n",
        "\n",
        "purchase_cart[-1] = \"Огурцы\""
      ]
    },
    {
      "cell_type": "markdown",
      "metadata": {
        "id": "3tO0iAPUzSKL"
      },
      "source": [
        "Попробуем заменить третий элемент на бананы. Третий элемент имеет индекс 2, не забываем про это."
      ]
    },
    {
      "cell_type": "code",
      "execution_count": null,
      "metadata": {
        "id": "Wc-o6VojzXTy"
      },
      "outputs": [],
      "source": [
        "purchase_cart[2] = \"Бананы\""
      ]
    },
    {
      "cell_type": "code",
      "execution_count": null,
      "metadata": {
        "colab": {
          "base_uri": "https://localhost:8080/"
        },
        "id": "OGoSyxx0zbaI",
        "outputId": "c4b44898-5bf8-49cc-e4fc-e1061175fce7"
      },
      "outputs": [
        {
          "name": "stdout",
          "output_type": "stream",
          "text": [
            "['Молоко', 'Хлеб', 'Бананы', 'Фарш', 'Огурцы']\n"
          ]
        }
      ],
      "source": [
        "print(purchase_cart)"
      ]
    },
    {
      "cell_type": "markdown",
      "metadata": {
        "id": "5BUoxOydyaUb"
      },
      "source": [
        "## Вывод по спискам"
      ]
    },
    {
      "cell_type": "markdown",
      "metadata": {
        "id": "XB4rP8mtyel8"
      },
      "source": [
        "Итак, чему мы научились в данном разделе:\n",
        "* Создавать корзину продуктов с помощью списка:\n",
        "\n",
        "```purchase_cart = [\"Молоко\", \"Хлеб\", \"Картофель\", \"Фарш\", \"Помидоры\"]```\n",
        "* Добавлять в конец корзины новые продукты.\n",
        "\n",
        "```purchase_cart.append(\"Помидоры\")```\n",
        "\n",
        "* Удалять из корзины последний элемент:\n",
        "\n",
        "```purchase_cart.pop()```\n",
        "\n",
        "* Удалять из корзины продукт по названию:\n",
        "\n",
        "```purchase_cart.remove(\"Фарш\")```\n",
        "\n",
        "* Заменять элементы в корзине на новые:\n",
        "\n",
        "```purchase_cart[2] = \"Бананы\"```"
      ]
    },
    {
      "cell_type": "markdown",
      "metadata": {
        "id": "jXFkgGJXzihx"
      },
      "source": [
        "Списки хороши тем, что их можно менять на ходу. Когда мы заранее знаем, что данные нужно будет менять в процессе работы, например добавлять или удалять из корзины продукты, список — отлично подходящая для этого структура данных.\n",
        "\n",
        "Но бывают и неизменяемые структуры."
      ]
    },
    {
      "cell_type": "markdown",
      "metadata": {
        "id": "njvCCM1gvvP7"
      },
      "source": [
        "# Кортежи (`tuple`)"
      ]
    },
    {
      "cell_type": "markdown",
      "metadata": {
        "id": "wVCLwGeV2Y4F"
      },
      "source": [
        "Кортеж (англ. tuple) — неизменяемый список. Как только мы создали кортеж, менять его больше нельзя.\n",
        "\n",
        "Для чего же нужны кортежи, если их нельзя менять? Они быстрее чем списки. Если заранее известно, что данные не будут меняться, лучше использовать кортежи.\n",
        "\n",
        "Основное преимущество кортежей в том, что они могут использоваться в качестве ключей в словарях, а списки не могут. Сейчас може быть непонятно, что такое ключи в словарях, но об этом ниже."
      ]
    },
    {
      "cell_type": "markdown",
      "metadata": {
        "id": "Zj066MeQ034e"
      },
      "source": [
        "## Создание кортежа"
      ]
    },
    {
      "cell_type": "markdown",
      "metadata": {
        "id": "lBg_hb6hYsA8"
      },
      "source": [
        "Чтобы создать непустой кортеж, достаточно перечислить элементы и обернуть их в круглые скобки."
      ]
    },
    {
      "cell_type": "markdown",
      "metadata": {
        "id": "nVbFUSUO07el"
      },
      "source": [
        "Давай создадим кортеж из школьных предметов. Возьмём всего 3 предмета для наглядности."
      ]
    },
    {
      "cell_type": "code",
      "execution_count": null,
      "metadata": {
        "id": "0-7iuFLXYzst"
      },
      "outputs": [],
      "source": [
        "lessons_tuple = (\"Математика\", \"Физика\", \"Информатика\")"
      ]
    },
    {
      "cell_type": "markdown",
      "metadata": {
        "id": "nYK4pFIZZTIc"
      },
      "source": [
        "Как и в случае со списками, можно узнать длину кортежа и индекс элементов в нём, можно распечатать элемент по индексу.\n",
        "\n",
        "Но для кортежей неприменимы методы, изменяющие данные: append, insert, remove, pop, присвоение элементов по индексу, как мы делали выше с бананами."
      ]
    },
    {
      "cell_type": "code",
      "execution_count": null,
      "metadata": {
        "colab": {
          "base_uri": "https://localhost:8080/",
          "height": 36
        },
        "id": "CB_Wu85dZQgB",
        "outputId": "a5c96036-e5a9-4eb2-b8c2-92dcfceabd1a"
      },
      "outputs": [
        {
          "data": {
            "application/vnd.google.colaboratory.intrinsic+json": {
              "type": "string"
            },
            "text/plain": [
              "'Математика'"
            ]
          },
          "execution_count": 52,
          "metadata": {},
          "output_type": "execute_result"
        }
      ],
      "source": [
        "lessons_tuple[0]"
      ]
    },
    {
      "cell_type": "code",
      "execution_count": null,
      "metadata": {
        "colab": {
          "base_uri": "https://localhost:8080/"
        },
        "id": "lRCkpuqSZ7Hf",
        "outputId": "c009b8a8-43cf-485d-c6e5-d309ea2a5690"
      },
      "outputs": [
        {
          "name": "stdout",
          "output_type": "stream",
          "text": [
            "3\n"
          ]
        }
      ],
      "source": [
        "print(len(lessons_tuple))"
      ]
    },
    {
      "cell_type": "markdown",
      "metadata": {
        "id": "laVA0eH2a6cp"
      },
      "source": [
        "Попробуем присвоить новое значение элементу кортежа.\n",
        "\n",
        "`lessons_tuple[2] = \"История\"`\n",
        "\n",
        "Получим ошибку следующего вида:\n",
        "\n",
        "```\n",
        "---------------------------------------------------------------------------\n",
        "TypeError                                 Traceback (most recent call last)\n",
        "<ipython-input-54-91a5ced16488> in <cell line: 1>()\n",
        "----> 1 lessons_tuple[2] = \"История\"\n",
        "\n",
        "TypeError: 'tuple' object does not support item assignment\n",
        "```\n"
      ]
    },
    {
      "cell_type": "markdown",
      "metadata": {
        "id": "zxx5mkGY12i8"
      },
      "source": [
        "> Это потому что кортеж нельзя менять: каким мы его создали, таким он и остаётся."
      ]
    },
    {
      "cell_type": "markdown",
      "metadata": {
        "id": "OwNEpcmPZOUj"
      },
      "source": [
        "Но кортеж можно преобразовать в список. А списки менять легко. Обратное преобразование в кортеж тоже возможно."
      ]
    },
    {
      "cell_type": "code",
      "execution_count": null,
      "metadata": {
        "colab": {
          "base_uri": "https://localhost:8080/"
        },
        "id": "qNzBuOnCcZfC",
        "outputId": "67654f23-8735-4479-d9e3-ab849b82391b"
      },
      "outputs": [
        {
          "data": {
            "text/plain": [
              "['Математика', 'Физика', 'Информатика']"
            ]
          },
          "execution_count": 55,
          "metadata": {},
          "output_type": "execute_result"
        }
      ],
      "source": [
        "list(lessons_tuple)"
      ]
    },
    {
      "cell_type": "code",
      "execution_count": null,
      "metadata": {
        "colab": {
          "base_uri": "https://localhost:8080/"
        },
        "id": "7_rjms0mcZMz",
        "outputId": "29f8da27-cbed-46c5-9a9b-a58cb3fa4bdb"
      },
      "outputs": [
        {
          "data": {
            "text/plain": [
              "('Математика', 'Физика', 'Информатика')"
            ]
          },
          "execution_count": 56,
          "metadata": {},
          "output_type": "execute_result"
        }
      ],
      "source": [
        "tuple(lessons_tuple)"
      ]
    },
    {
      "cell_type": "markdown",
      "metadata": {
        "id": "9WpqiagD678N"
      },
      "source": [
        "## Вывод по кортежам\n",
        "\n",
        "* Кортеж — неизменяемая структура данных.  \n",
        "* Из кортежа можно получить список, но это уже будет новый объект. Сам исходный кортеж не меняется.\n",
        "Аналогично из списка можно получить кортеж.\n",
        "* В кортежах есть длина и индексы по аналогии со списками."
      ]
    },
    {
      "cell_type": "markdown",
      "metadata": {
        "id": "-IVkyzgvclGD"
      },
      "source": [
        "# Словари (`dict`)"
      ]
    },
    {
      "cell_type": "markdown",
      "metadata": {
        "id": "kXL4nhAf1BAc"
      },
      "source": [
        "Словарями в Python называются наборы значений аналогично спискам и кортежам. Отличие в том, что каждому элементу словаря соответствуют ключ и связанное с ним значение."
      ]
    },
    {
      "cell_type": "markdown",
      "metadata": {
        "id": "Y4W6U-Vu1FRI"
      },
      "source": [
        "## Создание словаря"
      ]
    },
    {
      "cell_type": "markdown",
      "metadata": {
        "id": "OX8B8DdI3GZt"
      },
      "source": [
        "Например, у нас есть дневник школьника, где указан предмет и оценка за него. Дневник можно представить в виде списка."
      ]
    },
    {
      "cell_type": "code",
      "execution_count": null,
      "metadata": {
        "id": "9OGWsub73Rft"
      },
      "outputs": [],
      "source": [
        "marks_list = [\"Физика\", \"5\", \"Математика\", \"4\", \"Информатика\", \"3\"]"
      ]
    },
    {
      "cell_type": "markdown",
      "metadata": {
        "id": "sYpHsPpu3eMz"
      },
      "source": [
        "Если спросить, какая оценка у школьника по информатике, можно пробежаться глазами и увидеть оценку 3, но если предметов больше 10, 100, 1000? Кажется, здесь уже будет не очень удобно пробегаться глазами.\n",
        "\n",
        "Что же делать?"
      ]
    },
    {
      "cell_type": "markdown",
      "metadata": {
        "id": "28J_aPH23sNJ"
      },
      "source": [
        "Если мы сохраним данные в словаре, то будет выглядеть так:\n",
        "\n",
        "\n"
      ]
    },
    {
      "cell_type": "code",
      "execution_count": null,
      "metadata": {
        "id": "qIEIv2bW3wDg"
      },
      "outputs": [],
      "source": [
        "marks_dict = {\"Физика\": \"5\", \"Математика\": \"4\", \"Информатика\": \"3\"}"
      ]
    },
    {
      "cell_type": "markdown",
      "metadata": {
        "id": "XvEpxibx34G6"
      },
      "source": [
        "Для разделения каждой пары «ключ:значение» используется двоеточие, ключи и значения мы записали в двойных кавычках.\n",
        "\n",
        "В данном примере ключ — это предмет, например физика.\n",
        "Значение — это оценка, например 5.\n",
        "\n",
        "Обрати внимание, что элементы словаря заключены в фигурные (а не круглые или квадратные) скобки."
      ]
    },
    {
      "cell_type": "markdown",
      "metadata": {
        "id": "zAmXciHt4QdR"
      },
      "source": [
        "Распечатаем оценку за математику, использовав название этого предмета в качестве ключа."
      ]
    },
    {
      "cell_type": "code",
      "execution_count": null,
      "metadata": {
        "colab": {
          "base_uri": "https://localhost:8080/"
        },
        "id": "GHTq8K0H4TtU",
        "outputId": "a2aebbc0-c5e9-4f90-8927-7fb6f76311dc"
      },
      "outputs": [
        {
          "name": "stdout",
          "output_type": "stream",
          "text": [
            "4\n"
          ]
        }
      ],
      "source": [
        "print(marks_dict[\"Математика\"])"
      ]
    },
    {
      "cell_type": "markdown",
      "metadata": {
        "id": "pXhUGrsU6FG9"
      },
      "source": [
        "Ключ пишется в квадратных скобках аналогично индексу в списках, но это не одно и тоже. Пожалуйста, не путай.\n",
        "\n"
      ]
    },
    {
      "cell_type": "markdown",
      "metadata": {
        "id": "6XN3Ndbd1fo9"
      },
      "source": [
        "## Методы словарей"
      ]
    },
    {
      "cell_type": "markdown",
      "metadata": {
        "id": "Eobb2sTW1y6B"
      },
      "source": [
        "Рассмотрим основные методы.\n",
        "\n",
        "- `keys()`: возвращает список ключей.\n",
        "- `values()`: возвращает список значений.\n",
        "- `items()`: возвращает список пар ключ-значение.\n"
      ]
    },
    {
      "cell_type": "code",
      "execution_count": null,
      "metadata": {
        "colab": {
          "base_uri": "https://localhost:8080/"
        },
        "id": "AIDhsbL0197D",
        "outputId": "8dae4eba-d481-4948-f186-66b45c0a3705"
      },
      "outputs": [
        {
          "data": {
            "text/plain": [
              "dict_keys(['Физика', 'Математика', 'Информатика'])"
            ]
          },
          "execution_count": 59,
          "metadata": {},
          "output_type": "execute_result"
        }
      ],
      "source": [
        "# Получаем все предметы в виде списка\n",
        "\n",
        "marks_dict.keys()"
      ]
    },
    {
      "cell_type": "code",
      "execution_count": null,
      "metadata": {
        "colab": {
          "base_uri": "https://localhost:8080/"
        },
        "id": "pAtn_tO35czn",
        "outputId": "e398a2b7-0996-4125-9dc0-c776b4d6cc35"
      },
      "outputs": [
        {
          "data": {
            "text/plain": [
              "dict_values([5, 4, 3])"
            ]
          },
          "execution_count": 61,
          "metadata": {},
          "output_type": "execute_result"
        }
      ],
      "source": [
        "# Получаем все значения в виде списка\n",
        "\n",
        "marks_dict.values()"
      ]
    },
    {
      "cell_type": "code",
      "execution_count": null,
      "metadata": {
        "colab": {
          "base_uri": "https://localhost:8080/"
        },
        "id": "O40-jIJF5ACd",
        "outputId": "a63495aa-3ce2-44a0-ee2f-6b223d5ab759"
      },
      "outputs": [
        {
          "data": {
            "text/plain": [
              "dict_items([('Физика', 5), ('Математика', 4), ('Информатика', 3)])"
            ]
          },
          "execution_count": 62,
          "metadata": {},
          "output_type": "execute_result"
        }
      ],
      "source": [
        "# Получаем ключи и значения в виде списка, внутри которого кортежи\n",
        "\n",
        "marks_dict.items()"
      ]
    },
    {
      "cell_type": "markdown",
      "metadata": {
        "id": "JHHq_NAU5MUt"
      },
      "source": [
        "Представим, что школьник пересдал математику и получил за нее 5. Так держать! Обновим дневник."
      ]
    },
    {
      "cell_type": "code",
      "execution_count": null,
      "metadata": {
        "id": "oJvPmar75UnG"
      },
      "outputs": [],
      "source": [
        "marks_dict[\"Математика\"] = \"5\""
      ]
    },
    {
      "cell_type": "code",
      "execution_count": null,
      "metadata": {
        "colab": {
          "base_uri": "https://localhost:8080/"
        },
        "id": "CyCZUvhB5ZJg",
        "outputId": "ea6e10d7-4d02-4260-9240-783fc98f5462"
      },
      "outputs": [
        {
          "data": {
            "text/plain": [
              "{'Физика': '5', 'Математика': '5', 'Информатика': 3}"
            ]
          },
          "execution_count": 66,
          "metadata": {},
          "output_type": "execute_result"
        }
      ],
      "source": [
        "marks_dict"
      ]
    },
    {
      "cell_type": "markdown",
      "metadata": {
        "id": "cXL2JBaG533q"
      },
      "source": [
        "Ещё школьник сдал химию. Её нет в дневнике, давай добавим. Для этого нужно использовать название предмета в качестве ключа и записать значение."
      ]
    },
    {
      "cell_type": "code",
      "execution_count": null,
      "metadata": {
        "id": "zJGbiHWg5uad"
      },
      "outputs": [],
      "source": [
        "marks_dict[\"Химия\"] = \"3\""
      ]
    },
    {
      "cell_type": "markdown",
      "metadata": {
        "id": "jN5ucTSJ3-oo"
      },
      "source": [
        "## Ограничения на ключи словарей"
      ]
    },
    {
      "cell_type": "markdown",
      "metadata": {
        "id": "VNu0E4NK4BIN"
      },
      "source": [
        "### Уникальность ключей\n",
        "Каждый ключ в словаре должен быть уникальным. Если попытаться добавить элемент с уже существующим ключом, новое значение заменит старое."
      ]
    },
    {
      "cell_type": "markdown",
      "metadata": {
        "id": "NYTgoWW04YXN"
      },
      "source": [
        "### Неизменяемость ключей\n",
        "Ключи словарей должны быть неизменяемыми объектами.\n",
        "Мы не можем в качестве ключа использовать список предметов, но можем использовать один предмет."
      ]
    },
    {
      "cell_type": "markdown",
      "metadata": {
        "id": "Cx-6qsOt6pQS"
      },
      "source": [
        "## Вывод по словарям\n"
      ]
    },
    {
      "cell_type": "markdown",
      "metadata": {
        "id": "qx4a_6e66sub"
      },
      "source": [
        "* Словари содержат в себе ключ и значение. По ключу можно получить значение.\n",
        "* Словари можно менять, в отличие от кортежей.\n",
        "* Из словаря можно получить список значений, ключей или и того и другого.\n",
        "* В словарях нет индексов, есть ключи."
      ]
    },
    {
      "cell_type": "markdown",
      "metadata": {
        "id": "ceUFq3VV2UGr"
      },
      "source": [
        "# Множества (`set`)"
      ]
    },
    {
      "cell_type": "markdown",
      "metadata": {
        "id": "ixmejc562Xdk"
      },
      "source": [
        "Множество (англ. set) в Python — это неупорядоченная коллекция уникальных элементов. Оно очень похожи на математическое. Множество — изменяемый тип данных. Важная особенность множеств — это уникальность. Во множестве не могут повторяться значения.\n"
      ]
    },
    {
      "cell_type": "markdown",
      "metadata": {
        "id": "3yR8o4rf7cgU"
      },
      "source": [
        "Множество можно использовать, когда не хотим задумываться о повторяющихся элементах. Например, если мы хотим знать имена школьников в классе, но имена только уникальные, без повторений."
      ]
    },
    {
      "cell_type": "markdown",
      "metadata": {
        "id": "zrLYokCx2ZG_"
      },
      "source": [
        "## Создание множества"
      ]
    },
    {
      "cell_type": "markdown",
      "metadata": {
        "id": "DbFTHCrA79iL"
      },
      "source": [
        "Чтобы создать множество, нужно перечислить его содержимое и обернуть в фигурные скобки."
      ]
    },
    {
      "cell_type": "code",
      "execution_count": null,
      "metadata": {
        "colab": {
          "base_uri": "https://localhost:8080/"
        },
        "id": "oE25JW1z2r-k",
        "outputId": "9ea4e99e-99d2-4cff-9646-6188b95a79cf"
      },
      "outputs": [
        {
          "name": "stdout",
          "output_type": "stream",
          "text": [
            "{'Петя', 'Маша', 'Ваня', 'Аня'}\n"
          ]
        }
      ],
      "source": [
        "names = {\"Ваня\", \"Петя\", \"Аня\", \"Маша\", \"Аня\"}\n",
        "\n",
        "print(names)"
      ]
    },
    {
      "cell_type": "markdown",
      "metadata": {
        "id": "FMtp_mRc21ce"
      },
      "source": [
        "Обрати внимание: мы создаём дублирующиеся имена (Аня), однако во множестве содержатся только уникальные значения."
      ]
    },
    {
      "cell_type": "markdown",
      "metadata": {
        "id": "UA7LD1D33DG0"
      },
      "source": [
        "## Операции со множествами"
      ]
    },
    {
      "cell_type": "markdown",
      "metadata": {
        "id": "GGXoUlUW3BM9"
      },
      "source": [
        "\n",
        "- Объединение (`union()`).\n",
        "- Пересечение (`intersection()`).\n",
        "- Разность (`difference()`).\n",
        "- Симметричная разность (`symmetric_difference()`)."
      ]
    },
    {
      "cell_type": "markdown",
      "metadata": {
        "id": "3zsErOGH8hup"
      },
      "source": [
        "Давай создадим 2 школьных класса и перечислим в них имена."
      ]
    },
    {
      "cell_type": "code",
      "execution_count": null,
      "metadata": {
        "colab": {
          "base_uri": "https://localhost:8080/"
        },
        "id": "HjUcB0Gr3HuU",
        "outputId": "312a1bc4-d94c-4263-c205-7c488e73cf38"
      },
      "outputs": [
        {
          "name": "stdout",
          "output_type": "stream",
          "text": [
            "{'Сережа', 'Петя', 'Миша', 'Ваня', 'Маша', 'Вова', 'Дима', 'Аня'}\n"
          ]
        }
      ],
      "source": [
        "names_class_a = {\"Ваня\", \"Петя\", \"Аня\", \"Маша\", \"Аня\"}\n",
        "names_class_b = {\"Миша\", \"Вова\", \"Аня\", \"Дима\", \"Сережа\"}\n",
        "\n",
        "\n",
        "# Допустим, мы хотим объединить имена в двух классах\n",
        "\n",
        "class_a_b = names_class_a.union(names_class_b)\n",
        "print(class_a_b)"
      ]
    },
    {
      "cell_type": "markdown",
      "metadata": {
        "id": "SbOqBNGY9Ajs"
      },
      "source": [
        "Найдём одинаковые имена в классах."
      ]
    },
    {
      "cell_type": "code",
      "execution_count": null,
      "metadata": {
        "colab": {
          "base_uri": "https://localhost:8080/"
        },
        "id": "uTo3lQoK9EUo",
        "outputId": "34392dc2-1a2e-4c37-8a72-8a74c02d399b"
      },
      "outputs": [
        {
          "name": "stdout",
          "output_type": "stream",
          "text": [
            "{'Аня'}\n"
          ]
        }
      ],
      "source": [
        "uniq_names = names_class_a.intersection(names_class_b)\n",
        "\n",
        "print(uniq_names)"
      ]
    },
    {
      "cell_type": "markdown",
      "metadata": {
        "id": "JNaeA9-L9J0m"
      },
      "source": [
        "Найдём имена, которые есть только в одном из классов."
      ]
    },
    {
      "cell_type": "code",
      "execution_count": null,
      "metadata": {
        "colab": {
          "base_uri": "https://localhost:8080/"
        },
        "id": "vQM3O6G99OuK",
        "outputId": "4cbca319-65e1-433e-8ba7-a149b3d575c1"
      },
      "outputs": [
        {
          "name": "stdout",
          "output_type": "stream",
          "text": [
            "{'Петя', 'Маша', 'Ваня'}\n"
          ]
        }
      ],
      "source": [
        "different_names = names_class_a.difference(names_class_b)\n",
        "\n",
        "print(different_names)"
      ]
    },
    {
      "cell_type": "markdown",
      "metadata": {
        "id": "LLM6hjTq8FNz"
      },
      "source": [
        "## Вывод по множествам\n",
        "\n",
        "* Множества можно изменять.\n",
        "* Во множестве нет повторяющихся элементов."
      ]
    },
    {
      "cell_type": "markdown",
      "metadata": {
        "id": "qHCeCURA35TW"
      },
      "source": [
        "# Вывод\n",
        "\n",
        "Итак, что мы узнали нового в этом уроке?\n",
        "\n",
        "- Мы рассмотрели списки и как они создаются на примере корзины покупок.\n",
        "- Рассмотрели индексацию и методы работы со списками.\n",
        "- Узнали, чем кортежи отличаются от списков. \n",
        "- Изучили словари и методы работы с ними на примере дневника оценок.\n",
        "- Рассмотрели множества и их особенности, а также основные методы на примере имен школьников в классе."
      ]
    }
  ],
  "metadata": {
    "colab": {
      "collapsed_sections": [
        "oCjwlEeqk0nj"
      ],
      "provenance": []
    },
    "kernelspec": {
      "display_name": "Python 3",
      "name": "python3"
    },
    "language_info": {
      "name": "python"
    }
  },
  "nbformat": 4,
  "nbformat_minor": 0
}
