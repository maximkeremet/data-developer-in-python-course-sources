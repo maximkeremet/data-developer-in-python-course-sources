{
  "cells": [
    {
      "cell_type": "markdown",
      "metadata": {
        "id": "hPPWLHr41agE"
      },
      "source": [
        "# Базовые типы данных"
      ]
    },
    {
      "cell_type": "markdown",
      "metadata": {
        "id": "2p4huFeDF3fV"
      },
      "source": [
        "Цели материала:\n",
        "- Познакомиться с базовыми встроенными типами в Python (строки и числа).\n",
        "- Изучить их особенности и области применения."
      ]
    },
    {
      "cell_type": "markdown",
      "metadata": {
        "id": "2oYlC-gJ2HhS"
      },
      "source": [
        "В целом типы данных в Python можно разделить на следующие категории:\n",
        "* Простые — числа, логические типы и строки.\n",
        "* Составные или коллекции — списки (`list`), кортежи (`tuple`), словари (`dict`) и множества (`set`).\n",
        "* Остальные — файлы, итераторы, сокеты, NaN."
      ]
    },
    {
      "cell_type": "markdown",
      "metadata": {
        "id": "56PyivZFFaD2"
      },
      "source": [
        "Коллекции мы рассмотрим в следующих материалах, а файлы, сокеты и так далее в этом курсе рассматривать не будем."
      ]
    },
    {
      "cell_type": "markdown",
      "metadata": {
        "id": "NQIVU8WPXETX"
      },
      "source": [
        "# О полезной функции `print()`"
      ]
    },
    {
      "cell_type": "markdown",
      "metadata": {
        "id": "7P7N5qBNXIOn"
      },
      "source": [
        "Для начала давай разберём очень важную функцию в Python. Возможно, ты ещё не знаком с понятием «функция» в программировании, но ничего страшного, этому будет посвящён отдельный материал. Пока нам достаточно функции print.\n",
        "\n",
        "Функция print позволяет распечатать что-либо (то есть, вывести на экран). Она будет полезна на протяжении всего пути программирования.\n",
        "\n",
        "Эта функция довольно проста в использовании, в этом можно убедиться, прочитав документацию. Чтобы её получить, нужно вызвать help."
      ]
    },
    {
      "cell_type": "code",
      "execution_count": null,
      "metadata": {
        "colab": {
          "base_uri": "https://localhost:8080/"
        },
        "id": "n_aDA-DMXNUO",
        "outputId": "328d4367-2d3c-457f-a850-e041fbb2280e"
      },
      "outputs": [
        {
          "name": "stdout",
          "output_type": "stream",
          "text": [
            "Help on built-in function print in module builtins:\n",
            "\n",
            "print(...)\n",
            "    print(value, ..., sep=' ', end='\\n', file=sys.stdout, flush=False)\n",
            "    \n",
            "    Prints the values to a stream, or to sys.stdout by default.\n",
            "    Optional keyword arguments:\n",
            "    file:  a file-like object (stream); defaults to the current sys.stdout.\n",
            "    sep:   string inserted between values, default a space.\n",
            "    end:   string appended after the last value, default a newline.\n",
            "    flush: whether to forcibly flush the stream.\n",
            "\n"
          ]
        }
      ],
      "source": [
        "help(print)"
      ]
    },
    {
      "cell_type": "markdown",
      "metadata": {
        "id": "pnNIFgQGXQYb"
      },
      "source": [
        "Стало понятнее? Давай попробуем теперь что-нибудь распечатать."
      ]
    },
    {
      "cell_type": "code",
      "execution_count": null,
      "metadata": {
        "colab": {
          "base_uri": "https://localhost:8080/"
        },
        "id": "NNXs-bvBXRjM",
        "outputId": "eb3b53c4-3541-49bf-ca25-cd2c597d8cdf"
      },
      "outputs": [
        {
          "name": "stdout",
          "output_type": "stream",
          "text": [
            "Hello\n"
          ]
        }
      ],
      "source": [
        "print(\"Hello\")"
      ]
    },
    {
      "cell_type": "markdown",
      "metadata": {
        "id": "Xk4zU1-TyZFn"
      },
      "source": [
        "# Числовые типы - целые и дробные числа"
      ]
    },
    {
      "cell_type": "markdown",
      "metadata": {
        "id": "dBNpozyUB0LL"
      },
      "source": [
        "## Целые числа (`int`)"
      ]
    },
    {
      "cell_type": "markdown",
      "metadata": {
        "id": "kRHJn80FytFe"
      },
      "source": [
        "В Python есть отдельный тип данных для целых чисел — int. Целые числа — это все положительные и отрицательные числа и 0. Дробей в целых числах нет.\n"
      ]
    },
    {
      "cell_type": "markdown",
      "metadata": {
        "id": "CF-q1jwrCXv8"
      },
      "source": [
        "## Дробные числа (`float`)"
      ]
    },
    {
      "cell_type": "markdown",
      "metadata": {
        "id": "-M9xtajbCljy"
      },
      "source": [
        "В Python есть специальный встроенный тип данных для дробных чисел — float.\n",
        "Дробные числа — это числа, у которых есть дробная часть, например 1.9"
      ]
    },
    {
      "cell_type": "markdown",
      "metadata": {
        "id": "GqyswXvIDJWl"
      },
      "source": [
        "### Преобразования между числовыми типами."
      ]
    },
    {
      "cell_type": "markdown",
      "metadata": {
        "id": "QNaPd8-CDY02"
      },
      "source": [
        "В Python можно преобразовывать числовые типы, например из int во float и обратно.\n",
        "Это нужно делать очень аккуратно, так как при таком преобразовании может теряться точность."
      ]
    },
    {
      "cell_type": "markdown",
      "metadata": {
        "id": "AKGAF4ofDtGd"
      },
      "source": [
        "Преобразуем дробное число 5.55555 в целочисленный тип."
      ]
    },
    {
      "cell_type": "code",
      "execution_count": null,
      "metadata": {
        "colab": {
          "base_uri": "https://localhost:8080/"
        },
        "id": "HW9tU-eeDq6k",
        "outputId": "895d0038-35af-4d3c-ae6d-d9c3a056d52f"
      },
      "outputs": [
        {
          "data": {
            "text/plain": [
              "5"
            ]
          },
          "execution_count": 16,
          "metadata": {},
          "output_type": "execute_result"
        }
      ],
      "source": [
        "int(5.55555)"
      ]
    },
    {
      "cell_type": "markdown",
      "metadata": {
        "id": "SDihOyNCD3ZM"
      },
      "source": [
        "Или дайте попробуем преобразовать число 5 в дробный тип."
      ]
    },
    {
      "cell_type": "code",
      "execution_count": null,
      "metadata": {
        "colab": {
          "base_uri": "https://localhost:8080/"
        },
        "id": "u-vbNho0D-wX",
        "outputId": "9be7966a-bd98-4b05-adf6-7fb1836f3956"
      },
      "outputs": [
        {
          "data": {
            "text/plain": [
              "5.0"
            ]
          },
          "execution_count": 17,
          "metadata": {},
          "output_type": "execute_result"
        }
      ],
      "source": [
        "float(5)"
      ]
    },
    {
      "cell_type": "markdown",
      "metadata": {
        "id": "sS5oNFgTENqL"
      },
      "source": [
        "А теперь совместим эти два преобразования."
      ]
    },
    {
      "cell_type": "code",
      "execution_count": null,
      "metadata": {
        "colab": {
          "base_uri": "https://localhost:8080/"
        },
        "id": "wA17HktMEI72",
        "outputId": "88564545-a9be-41c1-8445-caa2ab8ea7d8"
      },
      "outputs": [
        {
          "data": {
            "text/plain": [
              "5.0"
            ]
          },
          "execution_count": 18,
          "metadata": {},
          "output_type": "execute_result"
        }
      ],
      "source": [
        "float(int(5.55555))"
      ]
    },
    {
      "cell_type": "markdown",
      "metadata": {
        "id": "lM56Pc0gEBbk"
      },
      "source": [
        "Мы видим, что после запятой добавляется ноль. Понятное дело: откуда Python знает, какие у нас были значения после запятой."
      ]
    },
    {
      "cell_type": "markdown",
      "metadata": {
        "id": "Bz56W45OEkno"
      },
      "source": [
        "### Операции над числовыми типами"
      ]
    },
    {
      "cell_type": "markdown",
      "metadata": {
        "id": "MAI5gsArE1Ju"
      },
      "source": [
        "Числовые типы в Python можно складывать, умножать и делить, как и в математике."
      ]
    },
    {
      "cell_type": "markdown",
      "metadata": {
        "id": "uioLMIiXFl_6"
      },
      "source": [
        "Сложение:"
      ]
    },
    {
      "cell_type": "code",
      "execution_count": null,
      "metadata": {
        "colab": {
          "base_uri": "https://localhost:8080/"
        },
        "id": "0YSxTn4QFAM1",
        "outputId": "62be2059-2f3f-458d-d244-9e53101f58d3"
      },
      "outputs": [
        {
          "data": {
            "text/plain": [
              "8"
            ]
          },
          "execution_count": 19,
          "metadata": {},
          "output_type": "execute_result"
        }
      ],
      "source": [
        "5 + 3"
      ]
    },
    {
      "cell_type": "markdown",
      "metadata": {
        "id": "bmLy4P-FFm-D"
      },
      "source": [
        "Умножение:"
      ]
    },
    {
      "cell_type": "code",
      "execution_count": null,
      "metadata": {
        "colab": {
          "base_uri": "https://localhost:8080/"
        },
        "id": "Nqxyq9edFB5s",
        "outputId": "310cf5b1-038c-46c8-ee57-d0b5433439c6"
      },
      "outputs": [
        {
          "data": {
            "text/plain": [
              "10"
            ]
          },
          "execution_count": 20,
          "metadata": {},
          "output_type": "execute_result"
        }
      ],
      "source": [
        "5 * 2"
      ]
    },
    {
      "cell_type": "markdown",
      "metadata": {
        "id": "7bmCST_1Fn_o"
      },
      "source": [
        "Деление:"
      ]
    },
    {
      "cell_type": "code",
      "execution_count": null,
      "metadata": {
        "colab": {
          "base_uri": "https://localhost:8080/"
        },
        "id": "QxyddGGnFSLy",
        "outputId": "5f0571ac-5fad-4b59-933d-82de8f1b434b"
      },
      "outputs": [
        {
          "data": {
            "text/plain": [
              "2.5"
            ]
          },
          "execution_count": 21,
          "metadata": {},
          "output_type": "execute_result"
        }
      ],
      "source": [
        "5 / 2"
      ]
    },
    {
      "cell_type": "markdown",
      "metadata": {
        "id": "vmMaIoynFo73"
      },
      "source": [
        "Сравнение:"
      ]
    },
    {
      "cell_type": "code",
      "execution_count": null,
      "metadata": {
        "colab": {
          "base_uri": "https://localhost:8080/"
        },
        "id": "fdX_0TBtFlYT",
        "outputId": "f1352983-6e37-4932-8dd0-98340a9cd414"
      },
      "outputs": [
        {
          "data": {
            "text/plain": [
              "True"
            ]
          },
          "execution_count": 22,
          "metadata": {},
          "output_type": "execute_result"
        }
      ],
      "source": [
        "5 > 2"
      ]
    },
    {
      "cell_type": "markdown",
      "metadata": {
        "id": "dw8FIImDGEon"
      },
      "source": [
        "# Логический тип (`bool`)"
      ]
    },
    {
      "cell_type": "markdown",
      "metadata": {
        "id": "Xt5hsLwuGZME"
      },
      "source": [
        "В предыдущем примере со сравнением чисел ты увидел значение `True`. Дело в том, что в Python есть специальный тип данных `bool`. Он принимает только 2 значения: `True` и `False` (Истина и Ложь).\n",
        "\n",
        "Этот тип пригодится в условных конструкциях, где разные варианты развития программы зависят от условия. Если условие истинно (`True`), исход будет один, если ложно (`False`), другой."
      ]
    },
    {
      "cell_type": "code",
      "execution_count": null,
      "metadata": {
        "colab": {
          "base_uri": "https://localhost:8080/"
        },
        "id": "B0EGWwljGpua",
        "outputId": "00c839ed-2a29-4da0-bdb1-15e5f3438632"
      },
      "outputs": [
        {
          "data": {
            "text/plain": [
              "True"
            ]
          },
          "execution_count": 23,
          "metadata": {},
          "output_type": "execute_result"
        }
      ],
      "source": [
        "True"
      ]
    },
    {
      "cell_type": "code",
      "execution_count": null,
      "metadata": {
        "colab": {
          "base_uri": "https://localhost:8080/"
        },
        "id": "zWP6QOH7GrLS",
        "outputId": "d5b3f36e-22be-4b41-936f-ee5a0df2cac3"
      },
      "outputs": [
        {
          "data": {
            "text/plain": [
              "False"
            ]
          },
          "execution_count": 24,
          "metadata": {},
          "output_type": "execute_result"
        }
      ],
      "source": [
        "False"
      ]
    },
    {
      "cell_type": "markdown",
      "metadata": {},
      "source": [
        "Тип данных `bool` это важный элемент, который позволяет проверять условия и выстраивать более сложную логику программы и обрабатывать разные условия. Мы еще поговорим об этом в уроке \"Управляющией конструкции\", на данном этапе достаточно помнить что операции сравнения в Python возвращают значение типа `bool`, которое означает истинно ли условие (`True`) или ложно (`False`)."
      ]
    },
    {
      "cell_type": "markdown",
      "metadata": {
        "id": "SAhyFJgKFh-w"
      },
      "source": [
        "# Строки (`str`)"
      ]
    },
    {
      "cell_type": "markdown",
      "metadata": {
        "id": "_6JjN1GkKgJC"
      },
      "source": [
        "Фрагменты текста в программе называют строками. Строка — это последовательность символов из алфавита. Алфавит в программировании — это буквы, цифры и другие печатные знаки."
      ]
    },
    {
      "cell_type": "markdown",
      "metadata": {
        "id": "3Lyl-3GBPyfA"
      },
      "source": [
        "Чтобы создать строку, нужно ввести текст в кавычках. Так интерпретатор Python понимает, что данный фрагмент текста не нужно выполнять как программу. Создадим строку с приветствием."
      ]
    },
    {
      "cell_type": "code",
      "execution_count": null,
      "metadata": {
        "colab": {
          "base_uri": "https://localhost:8080/",
          "height": 36
        },
        "id": "ZAJH9n5rFeQY",
        "outputId": "b7dd80b1-4f8d-4434-eea6-ff02fabca9b9"
      },
      "outputs": [
        {
          "data": {
            "application/vnd.google.colaboratory.intrinsic+json": {
              "type": "string"
            },
            "text/plain": [
              "'Привет'"
            ]
          },
          "execution_count": 1,
          "metadata": {},
          "output_type": "execute_result"
        }
      ],
      "source": [
        "\"Привет\""
      ]
    },
    {
      "cell_type": "markdown",
      "metadata": {
        "id": "Bgtr-urJVrci"
      },
      "source": [
        "Одинарные кавычки тоже подходят:"
      ]
    },
    {
      "cell_type": "code",
      "execution_count": null,
      "metadata": {
        "colab": {
          "base_uri": "https://localhost:8080/",
          "height": 36
        },
        "id": "yZijlX8bVuUY",
        "outputId": "53c381a4-733e-424c-fd54-07481ead0492"
      },
      "outputs": [
        {
          "data": {
            "application/vnd.google.colaboratory.intrinsic+json": {
              "type": "string"
            },
            "text/plain": [
              "'Привет'"
            ]
          },
          "execution_count": 2,
          "metadata": {},
          "output_type": "execute_result"
        }
      ],
      "source": [
        "'Привет'"
      ]
    },
    {
      "cell_type": "markdown",
      "metadata": {
        "id": "BLmFJRezV1gX"
      },
      "source": [
        "> ⚠️ **Замечание:** <br>\n",
        "> Если мы попытаемся перенести текст, который начинается с одинарной (') или двойной (\") кавычки на новую строку или поставить в начале текста кавычку одного типа, а в конце другого, Python выдаст сообщение об ошибке: <br>\n",
        "> ```SyntaxError: unterminated string literal (detected at line 1)```"
      ]
    },
    {
      "cell_type": "code",
      "execution_count": null,
      "metadata": {
        "colab": {
          "base_uri": "https://localhost:8080/",
          "height": 112
        },
        "id": "IFI43MAwV9Dm",
        "outputId": "f9e27b0d-565e-4d3c-c57c-7061592c2d70"
      },
      "outputs": [
        {
          "ename": "SyntaxError",
          "evalue": "unterminated string literal (detected at line 1) (<ipython-input-3-ce546fd906a9>, line 1)",
          "output_type": "error",
          "traceback": [
            "\u001b[0;36m  File \u001b[0;32m\"<ipython-input-3-ce546fd906a9>\"\u001b[0;36m, line \u001b[0;32m1\u001b[0m\n\u001b[0;31m    \"Привет! давно не виделись\u001b[0m\n\u001b[0m    ^\u001b[0m\n\u001b[0;31mSyntaxError\u001b[0m\u001b[0;31m:\u001b[0m unterminated string literal (detected at line 1)\n"
          ]
        }
      ],
      "source": [
        "\"Привет! давно не виделись\n",
        "\"\"\n"
      ]
    },
    {
      "cell_type": "markdown",
      "metadata": {
        "id": "eGbIqj7fWG9G"
      },
      "source": [
        "Сообщение о синтаксической ошибке указывает, что строка не завершена одинарной или двойной кавычкой.\n",
        "\n",
        "Чтобы ввести текст, занимающий несколько строк, нужно поставить три одинарные кавычки в начале и в конце. А когда понадобится перенос — нажать Enter."
      ]
    },
    {
      "cell_type": "code",
      "execution_count": null,
      "metadata": {
        "colab": {
          "base_uri": "https://localhost:8080/",
          "height": 36
        },
        "id": "VcXxHMKDWbNF",
        "outputId": "04a1a52c-a33c-4e06-d014-30fc6727174b"
      },
      "outputs": [
        {
          "data": {
            "application/vnd.google.colaboratory.intrinsic+json": {
              "type": "string"
            },
            "text/plain": [
              "'\\nПривет! \\nКак дела?\\n'"
            ]
          },
          "execution_count": 7,
          "metadata": {},
          "output_type": "execute_result"
        }
      ],
      "source": [
        "\"\"\"\n",
        "Привет!\n",
        "Как дела?\n",
        "\"\"\""
      ]
    },
    {
      "cell_type": "markdown",
      "metadata": {
        "id": "Yfp-WOC0WgkQ"
      },
      "source": [
        "\\n — символ переноса строки. Он может пригодиться в задачах, где нужно ввести заданное количество символов пробела. Или когда хочешь заспамить кого-нибудь повторяющимися сообщениями."
      ]
    },
    {
      "cell_type": "markdown",
      "metadata": {
        "id": "TQ96EP5_Wvl2"
      },
      "source": [
        "Также можно использовать функцию print."
      ]
    },
    {
      "cell_type": "code",
      "execution_count": null,
      "metadata": {
        "colab": {
          "base_uri": "https://localhost:8080/"
        },
        "id": "A3AeDqMxWmnf",
        "outputId": "46e2bb7c-0724-42cc-eab7-62882afa3fb6"
      },
      "outputs": [
        {
          "name": "stdout",
          "output_type": "stream",
          "text": [
            "\n",
            "Привет! \n",
            "Как дела?\n",
            "\n"
          ]
        }
      ],
      "source": [
        "print(\"\"\"\n",
        "Привет!\n",
        "Как дела?\n",
        "\"\"\")"
      ]
    },
    {
      "cell_type": "markdown",
      "metadata": {
        "id": "QUOcUov7s2lr"
      },
      "source": [
        "## Изменение строк"
      ]
    },
    {
      "cell_type": "markdown",
      "metadata": {
        "id": "GThMnj9EtF06"
      },
      "source": [
        "Строки — неизменяемые объекты. Любое изменение ведет к копированию строки в новую. Это очень важно для понимания, потому что излишнее копирование влияет на то, как работает написанный нами код."
      ]
    },
    {
      "cell_type": "markdown",
      "metadata": {
        "id": "vJqdVhTZkiNW"
      },
      "source": [
        "### Умножение строк"
      ]
    },
    {
      "cell_type": "markdown",
      "metadata": {
        "id": "zzqLhxhtkmAo"
      },
      "source": [
        "Мы умеем умножать числа, например 5 * 10 = 50. А что будет, если умножить строку \"ab\"на число 10?"
      ]
    },
    {
      "cell_type": "code",
      "execution_count": null,
      "metadata": {
        "colab": {
          "base_uri": "https://localhost:8080/",
          "height": 36
        },
        "id": "AWBDDxLUkvQM",
        "outputId": "98d3b590-5668-4f16-cf0d-d52d31259463"
      },
      "outputs": [
        {
          "data": {
            "application/vnd.google.colaboratory.intrinsic+json": {
              "type": "string"
            },
            "text/plain": [
              "'abababababababababab'"
            ]
          },
          "execution_count": 10,
          "metadata": {},
          "output_type": "execute_result"
        }
      ],
      "source": [
        "10 * \"ab\""
      ]
    },
    {
      "cell_type": "markdown",
      "metadata": {
        "id": "JoHTLv1OupWO"
      },
      "source": [
        "### Сложение строк"
      ]
    },
    {
      "cell_type": "code",
      "execution_count": null,
      "metadata": {
        "colab": {
          "base_uri": "https://localhost:8080/",
          "height": 36
        },
        "id": "ILNRFj_-G94P",
        "outputId": "8a16b021-8edd-4896-b2bc-d0111501358b"
      },
      "outputs": [
        {
          "data": {
            "application/vnd.google.colaboratory.intrinsic+json": {
              "type": "string"
            },
            "text/plain": [
              "'abcddef'"
            ]
          },
          "execution_count": 25,
          "metadata": {},
          "output_type": "execute_result"
        }
      ],
      "source": [
        "\"abcd\" + \"def\""
      ]
    },
    {
      "cell_type": "markdown",
      "metadata": {
        "id": "YtM6jLzdHCea"
      },
      "source": [
        "# Заключение"
      ]
    },
    {
      "cell_type": "markdown",
      "metadata": {
        "id": "_2pI75doHEzF"
      },
      "source": [
        "Основные типы данных не изменяются и включают в себя:\n",
        "- числовые типы (`int`, `float`),\n",
        "- логический тип (`bool`),\n",
        "- строки (`str`).\n",
        "\n",
        "Эти типы часто называются элементарными и они используются в составных типа данных Python. О них речь пойдёт дальше."
      ]
    }
  ],
  "metadata": {
    "colab": {
      "collapsed_sections": [
        "NQIVU8WPXETX"
      ],
      "provenance": []
    },
    "kernelspec": {
      "display_name": "Python 3 (ipykernel)",
      "language": "python",
      "name": "python3"
    },
    "language_info": {
      "codemirror_mode": {
        "name": "ipython",
        "version": 3
      },
      "file_extension": ".py",
      "mimetype": "text/x-python",
      "name": "python",
      "nbconvert_exporter": "python",
      "pygments_lexer": "ipython3",
      "version": "3.8.13"
    }
  },
  "nbformat": 4,
  "nbformat_minor": 0
}
