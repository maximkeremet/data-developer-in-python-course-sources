{
  "nbformat": 4,
  "nbformat_minor": 0,
  "metadata": {
    "colab": {
      "provenance": []
    },
    "kernelspec": {
      "name": "python3",
      "display_name": "Python 3"
    },
    "language_info": {
      "name": "python"
    }
  },
  "cells": [
    {
      "cell_type": "markdown",
      "source": [
        "# Урок: Циклы в Python"
      ],
      "metadata": {
        "id": "Nup_1T0umY7E"
      }
    },
    {
      "cell_type": "markdown",
      "source": [
        "Цели материала:\n",
        "\n",
        "*   Познакомиться с циклами.\n",
        "*   Рассмотреть, какие бывают циклы и чем они отличаются.\n",
        "*   Изучить, как управлять циклами с помощью ключевых слов.\n",
        "*   Рассмотреть применение циклов на примере итерации по последовательностям.\n",
        "*   Разобрать функцию range(),\n",
        "*   Изучить списковые включения.\n",
        "\n",
        "\n",
        "\n",
        "\n",
        "\n",
        "\n",
        "\n"
      ],
      "metadata": {
        "id": "_7GQX6D0ykAf"
      }
    },
    {
      "cell_type": "markdown",
      "source": [
        "## Что такое циклы?\n",
        "\n",
        "**Циклы** — это конструкции, которые позволяют выполнять повторяющиеся действия определённое количество раз или пока выполняется определённое условие."
      ],
      "metadata": {
        "id": "Vy-uCIv5mjRy"
      }
    },
    {
      "cell_type": "markdown",
      "source": [
        "## Виды циклов в Python"
      ],
      "metadata": {
        "id": "fDADRN6Qmzyd"
      }
    },
    {
      "cell_type": "markdown",
      "source": [
        "### Цикл `for`"
      ],
      "metadata": {
        "id": "nV_RvB2fnGd1"
      }
    },
    {
      "cell_type": "markdown",
      "source": [
        "Цикл `for` используется для итерации по последовательности элементов (например, списков, кортежей, строк) или для выполнения определенного количества итераций с помощью функции `range()`.\n",
        "\n",
        "```python\n",
        "for элемент in последовательность элементов:\n",
        "    # write your code here\n",
        "```"
      ],
      "metadata": {
        "id": "o0HCvjrMm9be"
      }
    },
    {
      "cell_type": "markdown",
      "source": [
        "Код будет выполнен для каждого элемента последовательности."
      ],
      "metadata": {
        "id": "GNwRfYgSqXHP"
      }
    },
    {
      "cell_type": "markdown",
      "source": [
        "### Цикл `while`"
      ],
      "metadata": {
        "id": "txn8x3YZnK08"
      }
    },
    {
      "cell_type": "markdown",
      "source": [
        "Цикл `while` выполняется, пока заданное условие истинно. Он подходит, когда необходимо выполнить действия до тех пор, пока не будет выполнено определенное условие. Он полезен, когда количество итераций заранее неизвестно или зависит от какого-то условия.\n",
        "\n",
        "```python\n",
        "while условие:\n",
        "    # write your code here\n",
        "```"
      ],
      "metadata": {
        "id": "nE1itj0Im2LH"
      }
    },
    {
      "cell_type": "markdown",
      "source": [
        "Код внутри while будет выполняться пока истинно условие."
      ],
      "metadata": {
        "id": "-WZ_yN7TqhgG"
      }
    },
    {
      "cell_type": "markdown",
      "source": [
        "Посмотрим на примере, как можно итерироваться по спискам с помощью циклов.\n",
        "Для этого создадим список из чисел. (см. урок 2)."
      ],
      "metadata": {
        "id": "Kg0OV7tbnTd2"
      }
    },
    {
      "cell_type": "markdown",
      "source": [
        "На примере цикла `for`"
      ],
      "metadata": {
        "id": "s3p9BcnAoKcZ"
      }
    },
    {
      "cell_type": "code",
      "source": [
        "numbers = [0, 1, 2, 3, 4, 5, 6, 7]\n",
        "print(numbers)"
      ],
      "metadata": {
        "colab": {
          "base_uri": "https://localhost:8080/"
        },
        "id": "VEQGdSNdnpew",
        "outputId": "fc8ea4f9-b412-4bb8-e070-401ed8de7b7e"
      },
      "execution_count": null,
      "outputs": [
        {
          "output_type": "stream",
          "name": "stdout",
          "text": [
            "[0, 1, 2, 3, 4, 5, 6, 7]\n"
          ]
        }
      ]
    },
    {
      "cell_type": "code",
      "source": [
        "for num in numbers:\n",
        "  print(num)"
      ],
      "metadata": {
        "colab": {
          "base_uri": "https://localhost:8080/"
        },
        "id": "AiGf4Lwhn0ci",
        "outputId": "6bce791a-4ca8-43d9-d587-7f9d8e221547"
      },
      "execution_count": null,
      "outputs": [
        {
          "output_type": "stream",
          "name": "stdout",
          "text": [
            "0\n",
            "1\n",
            "2\n",
            "3\n",
            "4\n",
            "5\n",
            "6\n",
            "7\n"
          ]
        }
      ]
    },
    {
      "cell_type": "markdown",
      "source": [
        "На примере цикла `while`.\n",
        "Для этого нам необходмо завести счетчик(i), который будет считать, сколько элементов мы уже распечатали, для того чтобы нам выйти из цикла, когда мы распечатаем все элементы списка."
      ],
      "metadata": {
        "id": "WWtzD3WCoOn5"
      }
    },
    {
      "cell_type": "markdown",
      "source": [
        "С помощью цикла `for` можно итерироваться по строкам.\n",
        "Давайте посмотрим на примере, как это можно делать."
      ],
      "metadata": {
        "id": "GTwEZM9-ta8b"
      }
    },
    {
      "cell_type": "code",
      "source": [
        "sentence = \"Hello, world\"\n",
        "for letter in sentence:\n",
        "  print(letter)"
      ],
      "metadata": {
        "colab": {
          "base_uri": "https://localhost:8080/"
        },
        "id": "Vj2_9d65tt12",
        "outputId": "8631c11a-f123-4f3f-8770-7f3314cd8c3b"
      },
      "execution_count": null,
      "outputs": [
        {
          "output_type": "stream",
          "name": "stdout",
          "text": [
            "H\n",
            "e\n",
            "l\n",
            "l\n",
            "o\n",
            ",\n",
            " \n",
            "w\n",
            "o\n",
            "r\n",
            "l\n",
            "d\n"
          ]
        }
      ]
    },
    {
      "cell_type": "markdown",
      "source": [
        "Еще можно распечатать отдельно слова в предложении, для этого необходимо воспользоваться методом split для строки."
      ],
      "metadata": {
        "id": "siqSIWyUuHnx"
      }
    },
    {
      "cell_type": "code",
      "source": [
        "sentence = \"Hello, world\"\n",
        "for word in sentence.split(\" \"):\n",
        "  print(word)"
      ],
      "metadata": {
        "colab": {
          "base_uri": "https://localhost:8080/"
        },
        "id": "HKfFaMTlt79w",
        "outputId": "c8c2e291-f83c-4121-e385-5e81d21239c5"
      },
      "execution_count": null,
      "outputs": [
        {
          "output_type": "stream",
          "name": "stdout",
          "text": [
            "Hello,\n",
            "world\n"
          ]
        }
      ]
    },
    {
      "cell_type": "code",
      "source": [
        "i = 0\n",
        "while i < len(numbers):\n",
        "  print(numbers[i])\n",
        "  i = i + 1\n"
      ],
      "metadata": {
        "colab": {
          "base_uri": "https://localhost:8080/"
        },
        "id": "hm6CYoQooSRo",
        "outputId": "c65fb79e-61b3-46e5-c46a-cd2c2c01c186"
      },
      "execution_count": null,
      "outputs": [
        {
          "output_type": "stream",
          "name": "stdout",
          "text": [
            "0\n",
            "1\n",
            "2\n",
            "3\n",
            "4\n",
            "5\n",
            "6\n",
            "7\n"
          ]
        }
      ]
    },
    {
      "cell_type": "markdown",
      "source": [
        "### Ключевые слова в циклах:"
      ],
      "metadata": {
        "id": "IPzrH-Fnq2CR"
      }
    },
    {
      "cell_type": "markdown",
      "source": [
        "#### `break`"
      ],
      "metadata": {
        "id": "x_7Z_qLyrCKA"
      }
    },
    {
      "cell_type": "markdown",
      "source": [
        " Команда `break` позволяет выйти из цикла досрочно, если выполнено определенное условие."
      ],
      "metadata": {
        "id": "Sdo8VhaKrHfb"
      }
    },
    {
      "cell_type": "markdown",
      "source": [
        "В примере ниже мы хотим распечатать элементы до 5(невключительно), когда дойдем до 5, выйти из цикла."
      ],
      "metadata": {
        "id": "sccoWsz3rrpb"
      }
    },
    {
      "cell_type": "code",
      "source": [
        "for num in numbers:\n",
        "  if num == 5:\n",
        "    break\n",
        "  print(num)"
      ],
      "metadata": {
        "id": "jMjVCmgrrdLk"
      },
      "execution_count": null,
      "outputs": []
    },
    {
      "cell_type": "markdown",
      "source": [
        "Вопрос.\n",
        "В чем отличие от кода ниже?\n",
        "Постарайтесь ответить не запуская ячейку."
      ],
      "metadata": {
        "id": "2P_QkAQvr-9X"
      }
    },
    {
      "cell_type": "code",
      "source": [
        "for num in numbers:\n",
        "  print(num)\n",
        "  if num == 5:\n",
        "    break\n"
      ],
      "metadata": {
        "colab": {
          "base_uri": "https://localhost:8080/"
        },
        "id": "-uZNMVKWr8H3",
        "outputId": "d2fd6fdc-a1a2-42b4-b9f8-6194bf82ecfd"
      },
      "execution_count": null,
      "outputs": [
        {
          "output_type": "stream",
          "name": "stdout",
          "text": [
            "0\n",
            "1\n",
            "2\n",
            "3\n",
            "4\n",
            "5\n"
          ]
        }
      ]
    },
    {
      "cell_type": "markdown",
      "source": [
        "#### `continue`"
      ],
      "metadata": {
        "id": "ffA-PwrTrOJz"
      }
    },
    {
      "cell_type": "markdown",
      "source": [
        "Команда `continue` переходит к следующей итерации цикла, игнорируя оставшуюся часть текущей итерации."
      ],
      "metadata": {
        "id": "B3C5TCsSrUMk"
      }
    },
    {
      "cell_type": "markdown",
      "source": [
        "Допустим нам нужно распечатать только четные значения из списка. Давайте попробуем реализовать это с помощью `continue`.\n",
        "Для проверки нечетности можно использовать оператор остаток от деления (%), если остаток от деления на 2 равен 1, значит число нечетное."
      ],
      "metadata": {
        "id": "6KrAjOOzsIsM"
      }
    },
    {
      "cell_type": "code",
      "source": [
        "for num in numbers:\n",
        "  if num % 2 != 0: # если число нечетное\n",
        "    continue # переходим к следующей итерации цикла\n",
        "  print(num)"
      ],
      "metadata": {
        "colab": {
          "base_uri": "https://localhost:8080/"
        },
        "id": "yNeZT6mlsSYo",
        "outputId": "5d393311-9250-4c03-9c9e-5cb10a2bcaf8"
      },
      "execution_count": null,
      "outputs": [
        {
          "output_type": "stream",
          "name": "stdout",
          "text": [
            "0\n",
            "2\n",
            "4\n",
            "6\n"
          ]
        }
      ]
    },
    {
      "cell_type": "markdown",
      "source": [
        "## Функция range()"
      ],
      "metadata": {
        "id": "r5GlTezwvMmt"
      }
    },
    {
      "cell_type": "markdown",
      "source": [
        "Функция `range()` в Python используется для создания последовательности чисел в определенном диапазоне. Она может быть использована с циклами `for`, чтобы определить, сколько раз нужно выполнить определенные действия.\n"
      ],
      "metadata": {
        "id": "V-UiRuupvPqw"
      }
    },
    {
      "cell_type": "markdown",
      "source": [
        "```python\n",
        "range(начало, конец, шаг)\n",
        "```"
      ],
      "metadata": {
        "id": "HFyioqcjvTWa"
      }
    },
    {
      "cell_type": "markdown",
      "source": [
        "- `начало`: Начальное значение последовательности (по умолчанию 0).\n",
        "- `конец`: Конечное значение последовательности (не включается).\n",
        "- `шаг`: Шаг или инкремент, на который изменяется значение (по умолчанию 1).\n"
      ],
      "metadata": {
        "id": "N0acaXE5vXuw"
      }
    },
    {
      "cell_type": "markdown",
      "source": [
        "### Примеры использования функции range()"
      ],
      "metadata": {
        "id": "SgkSPL6yvcsv"
      }
    },
    {
      "cell_type": "markdown",
      "source": [
        "Создание последовательности чисел от 0 до 9."
      ],
      "metadata": {
        "id": "gPh-LMo2vkAk"
      }
    },
    {
      "cell_type": "code",
      "source": [
        "for i in range(10):\n",
        "  print(i)"
      ],
      "metadata": {
        "colab": {
          "base_uri": "https://localhost:8080/"
        },
        "id": "DsqfP2BivhW4",
        "outputId": "f1389f39-e2c8-48af-8ce6-9e400dafdafa"
      },
      "execution_count": null,
      "outputs": [
        {
          "output_type": "stream",
          "name": "stdout",
          "text": [
            "0\n",
            "1\n",
            "2\n",
            "3\n",
            "4\n",
            "5\n",
            "6\n",
            "7\n",
            "8\n",
            "9\n"
          ]
        }
      ]
    },
    {
      "cell_type": "markdown",
      "source": [
        "Создание последовательности чисел от 1 до 10."
      ],
      "metadata": {
        "id": "1rFoUkDHvwE_"
      }
    },
    {
      "cell_type": "code",
      "source": [
        "for i in range(1, 11):\n",
        "    print(i)\n"
      ],
      "metadata": {
        "colab": {
          "base_uri": "https://localhost:8080/"
        },
        "id": "3K0-h3UQvzVo",
        "outputId": "2ad9e4a0-e948-4105-a11f-b929a9ac5f0e"
      },
      "execution_count": null,
      "outputs": [
        {
          "output_type": "stream",
          "name": "stdout",
          "text": [
            "1\n",
            "2\n",
            "3\n",
            "4\n",
            "5\n",
            "6\n",
            "7\n",
            "8\n",
            "9\n",
            "10\n"
          ]
        }
      ]
    },
    {
      "cell_type": "markdown",
      "source": [
        "Создание последовательности чисел от 0 до 10 с шагом 2"
      ],
      "metadata": {
        "id": "4HZ1osXyv2WF"
      }
    },
    {
      "cell_type": "code",
      "source": [
        "for i in range(0, 11, 2):\n",
        "    print(i)\n"
      ],
      "metadata": {
        "colab": {
          "base_uri": "https://localhost:8080/"
        },
        "id": "wBuR8Li4v6dF",
        "outputId": "1152b3dd-44fa-40b7-8adf-1bc050792f96"
      },
      "execution_count": null,
      "outputs": [
        {
          "output_type": "stream",
          "name": "stdout",
          "text": [
            "0\n",
            "2\n",
            "4\n",
            "6\n",
            "8\n",
            "10\n"
          ]
        }
      ]
    },
    {
      "cell_type": "markdown",
      "source": [
        "Особенности функции range():\n",
        "\n",
        "- Функция `range()` генерирует последовательность, которая не включает значение конца диапазона. Например, `range(1, 5)` создает последовательность от 1 до 4.\n",
        "- Если `шаг` отрицательный, последовательность генерируется в обратном порядке.\n",
        "- Функция `range()` возвращает объект типа `range`, который можно использовать в циклах `for` или преобразовать в список с помощью функции `list()`.\n",
        "- При указании только одного аргумента, он считается концом диапазона, а начальное значение считается равным нулю.\n"
      ],
      "metadata": {
        "id": "JO4DAKpawAko"
      }
    },
    {
      "cell_type": "markdown",
      "source": [
        "Создание последовательности чисел от 10 до 0 с шагом 2."
      ],
      "metadata": {
        "id": "EOuSgvw-wTjk"
      }
    },
    {
      "cell_type": "code",
      "source": [
        "for i in range(10, -1, -2):\n",
        "    print(i)"
      ],
      "metadata": {
        "colab": {
          "base_uri": "https://localhost:8080/"
        },
        "id": "HuzPIXRGwLAG",
        "outputId": "81690737-c8b5-4022-af91-2b1c8d480038"
      },
      "execution_count": null,
      "outputs": [
        {
          "output_type": "stream",
          "name": "stdout",
          "text": [
            "10\n",
            "8\n",
            "6\n",
            "4\n",
            "2\n",
            "0\n"
          ]
        }
      ]
    },
    {
      "cell_type": "markdown",
      "source": [
        "Преобразование в список"
      ],
      "metadata": {
        "id": "H62q-9zJwZy6"
      }
    },
    {
      "cell_type": "code",
      "source": [
        "list(range(10))"
      ],
      "metadata": {
        "colab": {
          "base_uri": "https://localhost:8080/"
        },
        "id": "QaLsRWCFwb6o",
        "outputId": "ed75f871-7c0d-4d57-864d-f0093228d5c1"
      },
      "execution_count": null,
      "outputs": [
        {
          "output_type": "execute_result",
          "data": {
            "text/plain": [
              "[0, 1, 2, 3, 4, 5, 6, 7, 8, 9]"
            ]
          },
          "metadata": {},
          "execution_count": 20
        }
      ]
    },
    {
      "cell_type": "markdown",
      "source": [
        "Также можно итерироваться по списку, передав в range длину списка. Это удобно, когда нам нужно например распечатать индекс и элемент по индексу.\n"
      ],
      "metadata": {
        "id": "ZOyqWrJmw3Wf"
      }
    },
    {
      "cell_type": "code",
      "source": [
        "my_list = list(range(1, 10, 2)) # создаем список с помощью range\n",
        "print(my_list)"
      ],
      "metadata": {
        "colab": {
          "base_uri": "https://localhost:8080/"
        },
        "id": "BP-DLcabxKsD",
        "outputId": "242431f2-5766-48e3-e5b6-b33c84586645"
      },
      "execution_count": null,
      "outputs": [
        {
          "output_type": "stream",
          "name": "stdout",
          "text": [
            "[1, 3, 5, 7, 9]\n"
          ]
        }
      ]
    },
    {
      "cell_type": "code",
      "source": [
        "for i in range(len(my_list)):\n",
        "  print(i, my_list[i])"
      ],
      "metadata": {
        "colab": {
          "base_uri": "https://localhost:8080/"
        },
        "id": "OVVLYCSNw9q6",
        "outputId": "290a9c43-6dfc-4b57-bbc3-d94edac49723"
      },
      "execution_count": null,
      "outputs": [
        {
          "output_type": "stream",
          "name": "stdout",
          "text": [
            "0 1\n",
            "1 3\n",
            "2 5\n",
            "3 7\n",
            "4 9\n"
          ]
        }
      ]
    },
    {
      "cell_type": "markdown",
      "source": [
        "Можно итерироваться по списку в обратном порядке(с конца)"
      ],
      "metadata": {
        "id": "a7Uad29VxfEZ"
      }
    },
    {
      "cell_type": "code",
      "source": [
        "# вариант 1\n",
        "\n",
        "for i in range(len(my_list) -1, -1, -1):\n",
        "  print(i, my_list[i])"
      ],
      "metadata": {
        "colab": {
          "base_uri": "https://localhost:8080/"
        },
        "id": "y2u02v-nxgb6",
        "outputId": "6bcdfd03-e7d7-470b-ec37-f3e77c838f00"
      },
      "execution_count": null,
      "outputs": [
        {
          "output_type": "stream",
          "name": "stdout",
          "text": [
            "4 9\n",
            "3 7\n",
            "2 5\n",
            "1 3\n",
            "0 1\n"
          ]
        }
      ]
    },
    {
      "cell_type": "code",
      "source": [
        "# вариант 2\n",
        "\n",
        "for elem in reversed(my_list):\n",
        "  print(elem) # печатаем элемент списка без индекса"
      ],
      "metadata": {
        "colab": {
          "base_uri": "https://localhost:8080/"
        },
        "id": "JVapbyOFxxvK",
        "outputId": "a43c98a3-5cf9-44a9-97b6-163e05e44bad"
      },
      "execution_count": null,
      "outputs": [
        {
          "output_type": "stream",
          "name": "stdout",
          "text": [
            "9\n",
            "7\n",
            "5\n",
            "3\n",
            "1\n"
          ]
        }
      ]
    },
    {
      "cell_type": "markdown",
      "source": [
        "### Списковые включения"
      ],
      "metadata": {
        "id": "OUpFcNsXzNMW"
      }
    },
    {
      "cell_type": "markdown",
      "source": [
        "Рассмотрим еще одно очень полезное применение range и for. Посмотрим как можно одной строкой создать список."
      ],
      "metadata": {
        "id": "qPqwvQh5zQ4C"
      }
    },
    {
      "cell_type": "code",
      "source": [
        "my_new_list = [i for i in range(10)]\n",
        "print(my_new_list)"
      ],
      "metadata": {
        "colab": {
          "base_uri": "https://localhost:8080/"
        },
        "id": "2OD13ywUzZYf",
        "outputId": "39b29120-301e-4607-d61d-a2410be0fe65"
      },
      "execution_count": null,
      "outputs": [
        {
          "output_type": "stream",
          "name": "stdout",
          "text": [
            "[0, 1, 2, 3, 4, 5, 6, 7, 8, 9]\n"
          ]
        }
      ]
    },
    {
      "cell_type": "markdown",
      "source": [
        "Добавим условие, например возьмем только четные числа."
      ],
      "metadata": {
        "id": "W7yS_1lzztE6"
      }
    },
    {
      "cell_type": "code",
      "source": [
        "my_new_list_with_condition = [i for i in range(10) if i % 2 == 0]\n",
        "print(my_new_list_with_condition)"
      ],
      "metadata": {
        "colab": {
          "base_uri": "https://localhost:8080/"
        },
        "id": "m2GVqFhkzeHG",
        "outputId": "e640caa6-e7df-4fa6-bb40-ea164aac15a6"
      },
      "execution_count": null,
      "outputs": [
        {
          "output_type": "stream",
          "name": "stdout",
          "text": [
            "[0, 2, 4, 6, 8]\n"
          ]
        }
      ]
    },
    {
      "cell_type": "markdown",
      "source": [
        "## Задания"
      ],
      "metadata": {
        "id": "9Hbh7pHLtK3K"
      }
    },
    {
      "cell_type": "markdown",
      "source": [
        "1. Напишите программу, которая выводит все буквы слова \"Python\"\n",
        "2. Напишите программу, которая выведет все на экран числа от 1 до 5 с помощью цикла `while`.\n",
        "3. Напишите программу, которая выведет на экран все нечетные числа от 1 до 10.\n",
        "4*. Напишите программу, которая выведет все согласные буквы из английского алфавита.\n",
        "5. Создайте список из чисел больше 5, написав одну строчку кода(python one-liner).  "
      ],
      "metadata": {
        "id": "Lze-xbmftNu0"
      }
    }
  ]
}